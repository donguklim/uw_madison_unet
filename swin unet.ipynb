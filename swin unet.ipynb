{
 "cells": [
  {
   "cell_type": "code",
   "execution_count": null,
   "id": "30f5a71d-1453-4f8e-ae03-b8953f6cbc83",
   "metadata": {},
   "outputs": [],
   "source": [
    "import numpy as np\n",
    "import pandas as pd\n",
    "# pd.options.plotting.backend = \"plotly\"\n",
    "import random\n",
    "from glob import glob\n",
    "import os, shutil\n",
    "from tqdm import tqdm\n",
    "tqdm.pandas()\n",
    "import time\n",
    "import copy\n",
    "# import joblib\n",
    "from collections import defaultdict\n",
    "import gc\n",
    "from IPython import display as ipd\n",
    "\n",
    "# visualization\n",
    "import cv2\n",
    "import matplotlib.pyplot as plt\n",
    "from matplotlib.patches import Rectangle\n",
    "\n",
    "# Sklearn\n",
    "# from sklearn.model_selection import StratifiedKFold, KFold, StratifiedGroupKFold\n",
    "\n",
    "# PyTorch \n",
    "import torch\n",
    "from torch import nn\n",
    "import torch.optim as optim\n",
    "from torch.optim import lr_scheduler\n",
    "from torch.utils.data import Dataset, DataLoader\n",
    "from torch.cuda import amp\n",
    "import torchvision.transforms.functional as TF\n",
    "\n",
    "#torchio\n",
    "import torchio as tio"
   ]
  },
  {
   "cell_type": "code",
   "execution_count": 2,
   "id": "2ce990be-8a4c-4248-a8e9-5b7a02d7e263",
   "metadata": {},
   "outputs": [],
   "source": [
    "# class indices\n",
    "\n",
    "LARGE_BOWEL = 0\n",
    "SMALL_BOWEL = 1\n",
    "STOMACH = 2\n",
    "MASK_INDICES = {'large_bowel': LARGE_BOWEL, 'small_bowel':SMALL_BOWEL, 'stomach':STOMACH}\n",
    "DATA_SIZE = 219"
   ]
  },
  {
   "cell_type": "code",
   "execution_count": 3,
   "id": "be45d59f-7ed0-4000-b351-6ad3564f64e4",
   "metadata": {},
   "outputs": [],
   "source": [
    "class CFG:\n",
    "    seed          = 101\n",
    "    debug         = False # set debug=False for Full Training\n",
    "    train_bs      = 1\n",
    "    valid_bs      = 1\n",
    "    image_size    = [128, 128, 128] # Depth, Width, Height\n",
    "    whf_pool_size = 4\n",
    "    epochs        = 128\n",
    "    lr            = 2e-6 # 0.00001 # 2e-4 # 2e-3\n",
    "    scheduler     = 'CosineAnnealingLR'\n",
    "    warmup_epochs = 0\n",
    "    wd            = 1e-3\n",
    "    n_accumulate  = max(1, 32//train_bs)\n",
    "    n_fold        = 5\n",
    "    device        = torch.device(\"cuda:0\" if torch.cuda.is_available() else \"cpu\")\n",
    "    min_lr        = 1e-6\n",
    "    T_max         = int(DATA_SIZE/train_bs/n_accumulate*epochs)+50\n",
    "    T_0           = 25\n",
    "    drop_rate = 0.01"
   ]
  },
  {
   "cell_type": "code",
   "execution_count": 4,
   "id": "ff64c504-b724-4d4c-8a2a-b9678ee25959",
   "metadata": {},
   "outputs": [
    {
     "name": "stdout",
     "output_type": "stream",
     "text": [
      "> SEEDING DONE\n"
     ]
    }
   ],
   "source": [
    "def set_seed(seed = 42):\n",
    "    '''Sets the seed of the entire notebook so results are the same every time we run.\n",
    "    This is for REPRODUCIBILITY.'''\n",
    "    np.random.seed(seed)\n",
    "    random.seed(seed)\n",
    "    torch.manual_seed(seed)\n",
    "    torch.cuda.manual_seed(seed)\n",
    "    # When running on the CuDNN backend, two further options must be set\n",
    "    torch.backends.cudnn.deterministic = True\n",
    "    torch.backends.cudnn.benchmark = False\n",
    "    # Set a fixed value for the hash seed\n",
    "    os.environ['PYTHONHASHSEED'] = str(seed)\n",
    "    print('> SEEDING DONE')\n",
    "    \n",
    "set_seed(CFG.seed)"
   ]
  },
  {
   "cell_type": "code",
   "execution_count": 5,
   "id": "08f546e0-a183-403f-854d-c7e60d375083",
   "metadata": {},
   "outputs": [],
   "source": [
    "def load_scans(scan_path):\n",
    "    image_files = [f for f in os.listdir(scan_path) if os.path.isfile(os.path.join(scan_path, f))]\n",
    "    image_files.sort(key=lambda x: int(x.split('_')[1]))\n",
    "    \n",
    "    scan_slices = []\n",
    "    for img_file in image_files:\n",
    "        img_file_path = os.path.join(scan_path, img_file)\n",
    "        scan_slice = cv2.imread(img_file_path, cv2.IMREAD_UNCHANGED)\n",
    "        scan_slice = scan_slice.astype('float32')\n",
    "        scan_slices.append(scan_slice)\n",
    "    \n",
    "    img = np.stack(scan_slices)\n",
    "    max_val = np.max(img)\n",
    "    if max_val:\n",
    "        img /= max_val\n",
    "\n",
    "    return img\n",
    "\n",
    "def load_mask(path):\n",
    "    mask = np.load(path).transpose([3,0,1,2])\n",
    "    mask = mask.astype('float32')\n",
    "    return mask\n",
    "\n",
    "# ref.: https://www.kaggle.com/stainsby/fast-tested-rle\n",
    "def rle_encode(img):\n",
    "    '''\n",
    "    img: numpy array, 1 - mask, 0 - background\n",
    "    Returns run length as string formated\n",
    "    '''\n",
    "    pixels = img.flatten()\n",
    "    pixels = np.concatenate([[0], pixels, [0]])\n",
    "    runs = np.where(pixels[1:] != pixels[:-1])[0] + 1\n",
    "    runs[1::2] -= runs[::2]\n",
    "    return ' '.join(str(x) for x in runs)"
   ]
  },
  {
   "cell_type": "markdown",
   "id": "3da8a770-7c7e-433e-9369-16cfb65011f0",
   "metadata": {},
   "source": [
    "# Dataset"
   ]
  },
  {
   "cell_type": "code",
   "execution_count": 6,
   "id": "45a7903e-7894-4579-906e-8abfafcf2aef",
   "metadata": {},
   "outputs": [],
   "source": [
    "def plot_batch(imgs, msks, depth, size=3):\n",
    "    plt.figure(figsize=(5*5, 5))\n",
    "    for idx in range(size):\n",
    "        plt.subplot(1, 5, idx+1)\n",
    "        img = imgs[idx, depth].permute((1, 2, 0)).numpy()*255.0\n",
    "        img = img.astype('uint8')\n",
    "        msk = msks[idx, depthm].permute((1, 2, 0)).numpy()*255.0\n",
    "        show_img(img, msk)\n",
    "    plt.tight_layout()\n",
    "    plt.show()"
   ]
  },
  {
   "cell_type": "code",
   "execution_count": 7,
   "id": "32d6b56f-1000-4978-8912-a6f9c38a4c57",
   "metadata": {},
   "outputs": [],
   "source": [
    "set_dimension_order_to_c_z_x_y = tio.Lambda(lambda x: torch.permute(x,(0,3,1,2)), types_to_apply=[tio.INTENSITY, tio.LABEL])\n",
    "\n",
    "data_transforms = {\n",
    "    \"train\": tio.Compose(\n",
    "        [tio.RescaleIntensity(out_min_max=(0, 1)), \n",
    "         tio.Resize(target_shape=CFG.image_size, image_interpolation='linear', label_interpolation='nearest'), \n",
    "         tio.RandomFlip(axes=(0,1), p=0.2), \n",
    "         tio.RandomAffine(scales=(0.9, 1.2), degrees=15, p=0.2), \n",
    "         tio.OneOf([tio.RandomElasticDeformation(), tio.RandomMotion()], p=0.3), \n",
    "         tio.OneOf([tio.RandomGhosting(), tio.RandomSpike(), tio.RandomBlur()], p=0.3),\n",
    "         # set_dimension_order_to_c_z_x_y\n",
    "        ]\n",
    "    ),\n",
    "    \"valid\": tio.Compose(\n",
    "        [tio.RescaleIntensity(out_min_max=(0, 1)), \n",
    "         tio.Resize(target_shape=CFG.image_size, image_interpolation='linear', label_interpolation='nearest'),\n",
    "         # set_dimension_order_to_c_z_x_y\n",
    "        ]\n",
    "    )\n",
    "}"
   ]
  },
  {
   "cell_type": "code",
   "execution_count": 8,
   "id": "381d9e82-c512-4c68-b0e6-e8a1bc58a735",
   "metadata": {},
   "outputs": [],
   "source": [
    "class ResizedSubject(tio.Subject):\n",
    "    def load(self):\n",
    "        super(ResizedSubject, self).load()\n",
    "        self['original_size'] = list(self['scan'][tio.DATA].shape)[1:]\n",
    "    "
   ]
  },
  {
   "cell_type": "code",
   "execution_count": 9,
   "id": "a9e1628d-bb80-4c59-b5eb-f70045bc22c5",
   "metadata": {},
   "outputs": [],
   "source": [
    "def scan_reader(scan_path):\n",
    "    image_files = [f for f in os.listdir(scan_path) if os.path.isfile(os.path.join(scan_path, f)) and f.endswith('.png')]\n",
    "    image_files.sort(key=lambda x: int(x.split('_')[1]))\n",
    "    \n",
    "    scan_slices = []\n",
    "    for img_file in image_files:\n",
    "        img_file_path = os.path.join(scan_path, img_file)\n",
    "        scan_slice = cv2.imread(img_file_path, cv2.IMREAD_UNCHANGED)\n",
    "        scan_slice = np.expand_dims(scan_slice, axis=0)\n",
    "        scan_slice = scan_slice.astype('float32')\n",
    "        scan_slices.append(scan_slice)\n",
    "    \n",
    "    img = np.stack(scan_slices, axis=-1)\n",
    "\n",
    "    return img, None\n",
    "\n",
    "def mask_reader(path):\n",
    "    mask = np.load(path).transpose([3,0,1,2])\n",
    "    mask = mask.astype('float32')\n",
    "    return mask, None\n",
    "\n",
    "def get_subject(case_day, scan_path, mask_path=None):\n",
    "    \n",
    "    if not mask_path:\n",
    "        return ResizeSubject(\n",
    "            case_day=case_day, \n",
    "            scan=tio.ScalarImage(path=scan_path, reader=scan_reader),\n",
    "        )\n",
    "\n",
    "    return ResizedSubject(\n",
    "        case_day=case_day,\n",
    "        scan=tio.ScalarImage(path=scan_path, reader=scan_reader),\n",
    "        label=tio.LabelMap(path=mask_path, reader=mask_reader),\n",
    "    )"
   ]
  },
  {
   "cell_type": "code",
   "execution_count": 10,
   "id": "afb9c427-b0ee-41cf-98dd-d4263934ad3a",
   "metadata": {},
   "outputs": [],
   "source": [
    "# function for assigning fold to Data frame rows\n",
    "\n",
    "def assign_fold_to_df(df, num_folds=5):\n",
    "    num_rows = len(df)\n",
    "    folds = np.zeros(num_rows, dtype='uint8')\n",
    "    fold_vals = [i for i in range(num_folds)]\n",
    "    indices = [i for i in range(num_rows)]\n",
    "    random.shuffle(indices)\n",
    "    random.shuffle(fold_vals)\n",
    "    for i in indices:\n",
    "        folds[i] = fold_vals[i % num_folds]\n",
    "\n",
    "     # not shuffling fold_vals will cause some fold indices to always get less number of items than other fold indices.\n",
    "    # EX: number of items is 2, and num_folds = 3. Assigning fold index with order [0,1,2] will make only fold-0 and fold-1 get an item, while fold-2 has 0 item.\n",
    " \n",
    "    df['fold'] = folds"
   ]
  },
  {
   "cell_type": "code",
   "execution_count": 11,
   "id": "dac6d215-6498-4405-809b-b190a0f07734",
   "metadata": {},
   "outputs": [],
   "source": [
    "def prepare_loaders(df, fold, debug=False):\n",
    "    train_df = df.query(\"fold!=@fold\").reset_index(drop=True)\n",
    "    valid_df = df.query(\"fold==@fold\").reset_index(drop=True)\n",
    "    \n",
    "    train_dataset = tio.SubjectsDataset(\n",
    "        [get_subject(row['case_day'], row['image_path'], row['mask_path']) for _, row in train_df.iterrows()], \n",
    "        transform=data_transforms['train']\n",
    "    )\n",
    "    valid_dataset = tio.SubjectsDataset(\n",
    "        [get_subject(row['case_day'], row['image_path'], row['mask_path']) for _, row in valid_df.iterrows()], \n",
    "        transform=data_transforms['train']\n",
    "    )\n",
    "\n",
    "    train_loader = DataLoader(train_dataset, batch_size=CFG.train_bs if not debug else 1, \n",
    "                              num_workers=4, shuffle=True, pin_memory=False, drop_last=False)\n",
    "    valid_loader = DataLoader(valid_dataset, batch_size=CFG.valid_bs if not debug else 1, \n",
    "                              num_workers=4, shuffle=False, pin_memory=False)\n",
    "    \n",
    "    return train_loader, valid_loader"
   ]
  },
  {
   "cell_type": "code",
   "execution_count": 12,
   "id": "7f4b5a7f-c5f8-4f8a-81ac-a7d73803ea20",
   "metadata": {},
   "outputs": [
    {
     "data": {
      "text/html": [
       "<div>\n",
       "<style scoped>\n",
       "    .dataframe tbody tr th:only-of-type {\n",
       "        vertical-align: middle;\n",
       "    }\n",
       "\n",
       "    .dataframe tbody tr th {\n",
       "        vertical-align: top;\n",
       "    }\n",
       "\n",
       "    .dataframe thead th {\n",
       "        text-align: right;\n",
       "    }\n",
       "</style>\n",
       "<table border=\"1\" class=\"dataframe\">\n",
       "  <thead>\n",
       "    <tr style=\"text-align: right;\">\n",
       "      <th></th>\n",
       "      <th>case_day</th>\n",
       "      <th>image_path</th>\n",
       "      <th>mask_path</th>\n",
       "      <th>fold</th>\n",
       "    </tr>\n",
       "  </thead>\n",
       "  <tbody>\n",
       "    <tr>\n",
       "      <th>0</th>\n",
       "      <td>case123_day20</td>\n",
       "      <td>./input/uw-madison-gi-tract-image-segmentation...</td>\n",
       "      <td>./input/uw-madison-gi-tract-image-segmentation...</td>\n",
       "      <td>1</td>\n",
       "    </tr>\n",
       "    <tr>\n",
       "      <th>432</th>\n",
       "      <td>case123_day22</td>\n",
       "      <td>./input/uw-madison-gi-tract-image-segmentation...</td>\n",
       "      <td>./input/uw-madison-gi-tract-image-segmentation...</td>\n",
       "      <td>2</td>\n",
       "    </tr>\n",
       "    <tr>\n",
       "      <th>864</th>\n",
       "      <td>case123_day0</td>\n",
       "      <td>./input/uw-madison-gi-tract-image-segmentation...</td>\n",
       "      <td>./input/uw-madison-gi-tract-image-segmentation...</td>\n",
       "      <td>0</td>\n",
       "    </tr>\n",
       "    <tr>\n",
       "      <th>1296</th>\n",
       "      <td>case77_day20</td>\n",
       "      <td>./input/uw-madison-gi-tract-image-segmentation...</td>\n",
       "      <td>./input/uw-madison-gi-tract-image-segmentation...</td>\n",
       "      <td>3</td>\n",
       "    </tr>\n",
       "  </tbody>\n",
       "</table>\n",
       "</div>"
      ],
      "text/plain": [
       "           case_day                                         image_path  \\\n",
       "0     case123_day20  ./input/uw-madison-gi-tract-image-segmentation...   \n",
       "432   case123_day22  ./input/uw-madison-gi-tract-image-segmentation...   \n",
       "864    case123_day0  ./input/uw-madison-gi-tract-image-segmentation...   \n",
       "1296   case77_day20  ./input/uw-madison-gi-tract-image-segmentation...   \n",
       "\n",
       "                                              mask_path  fold  \n",
       "0     ./input/uw-madison-gi-tract-image-segmentation...     1  \n",
       "432   ./input/uw-madison-gi-tract-image-segmentation...     2  \n",
       "864   ./input/uw-madison-gi-tract-image-segmentation...     0  \n",
       "1296  ./input/uw-madison-gi-tract-image-segmentation...     3  "
      ]
     },
     "execution_count": 12,
     "metadata": {},
     "output_type": "execute_result"
    }
   ],
   "source": [
    "# Load data frame\n",
    "\n",
    "df_train = pd.read_csv('./input/uw-madison-gi-tract-image-segmentation/train.csv')\n",
    "train_path = './input/uw-madison-gi-tract-image-segmentation/train'\n",
    "df_train['case_day'] = df_train['id'].map(lambda x: x.split('_slice')[0])\n",
    "df_train.drop(columns=['class', 'segmentation', 'id'], inplace=True)\n",
    "df_train.drop_duplicates(inplace=True)\n",
    "df_train['image_path'] = df_train['case_day'].map(lambda x: f'{train_path}/' + x.split('_')[0] + f'/{x}/scans')\n",
    "df_train['mask_path'] =  df_train['case_day'].map(lambda x: f'{train_path}/' + x.split('_')[0] + f'/{x}/masks3D/{x}.npy')\n",
    "assign_fold_to_df(df_train)\n",
    "df_train.head(4)"
   ]
  },
  {
   "cell_type": "markdown",
   "id": "1d045a67-a7d7-4ca7-9dcb-34eb4856b3df",
   "metadata": {},
   "source": [
    "### Compare with Transformed Data\n",
    "\n",
    "Create Dataset and compare with the transformed image.\\\n",
    "You may want to temporaruily remove any spatial transformation that moves the original data along z-axis, \\\n",
    "because bellow code compares image with fixed slice number(z-axis value).\n",
    "\n",
    "Skip bellow section, if you are done dataset debugging"
   ]
  },
  {
   "cell_type": "code",
   "execution_count": 13,
   "id": "0dc84380-6f2e-4260-8306-8411e0c19f68",
   "metadata": {},
   "outputs": [],
   "source": [
    "import glob"
   ]
  },
  {
   "cell_type": "code",
   "execution_count": 14,
   "id": "692a7d70-b057-4dea-9c32-3815c727b72d",
   "metadata": {},
   "outputs": [],
   "source": [
    "subject_dataset = tio.SubjectsDataset(\n",
    "        [get_subject(row['case_day'], row['image_path'], row['mask_path']) for _, row in df_train.iterrows()], \n",
    "        transform=data_transforms['train']\n",
    "    )"
   ]
  },
  {
   "cell_type": "code",
   "execution_count": 15,
   "id": "6db98b53-48fa-4def-ad49-c728bdecb3ff",
   "metadata": {},
   "outputs": [],
   "source": [
    "# Select a subject\n",
    "# By selecting an item with indexing, data transformation is perofrmed in bellow code.\n",
    "# It will be performed again if you execute bellow code again even with the same index value.\n",
    "subject = subject_dataset[3]"
   ]
  },
  {
   "cell_type": "code",
   "execution_count": 16,
   "id": "6d0f77a9-713b-4023-800c-3635419950da",
   "metadata": {},
   "outputs": [
    {
     "data": {
      "text/plain": [
       "('case77_day20', [266, 266, 144])"
      ]
     },
     "execution_count": 16,
     "metadata": {},
     "output_type": "execute_result"
    }
   ],
   "source": [
    "slice_num = 113 # z-axis value\n",
    "case_day = subject['case_day']\n",
    "original_size = subject['original_size']\n",
    "case_day, original_size"
   ]
  },
  {
   "cell_type": "code",
   "execution_count": 17,
   "id": "f1e4d747-7ffd-4956-b59d-b27a0ef377b2",
   "metadata": {},
   "outputs": [
    {
     "data": {
      "image/png": "[encoded data removed]",
      "text/plain": [
       "<Figure size 720x432 with 3 Axes>"
      ]
     },
     "metadata": {
      "needs_background": "light"
     },
     "output_type": "display_data"
    },
    {
     "data": {
      "text/plain": [
       "array([1277., 1960.,    0.], dtype=float32)"
      ]
     },
     "execution_count": 17,
     "metadata": {},
     "output_type": "execute_result"
    }
   ],
   "source": [
    "# Show the original image\n",
    "\n",
    "df_row = df_train.loc[df_train['case_day'] == case_day].iloc[0]\n",
    "image_path = glob.glob(df_row['image_path'] + f'/slice_{str(slice_num).zfill(4)}_*.png')[0]\n",
    "image = plt.imread(image_path)\n",
    "mask = load_mask(df_row['mask_path'])[:, :, :, slice_num-1]\n",
    "mask[1] *= 2\n",
    "mask[2] *= 3\n",
    "mask_sum = mask.sum(axis=0)\n",
    "fig, ax = plt.subplots(1,3,figsize=(10,6))\n",
    "ax[0].imshow(image)\n",
    "ax[1].imshow(mask_sum)\n",
    "ax[2].imshow(image,'gray')\n",
    "ax[2].imshow(mask_sum, alpha=0.5)\n",
    "plt.show()\n",
    "mask.sum(axis=(1,2))"
   ]
  },
  {
   "cell_type": "code",
   "execution_count": 18,
   "id": "0c693f6a-f803-4eac-a44e-658d5b3a2941",
   "metadata": {},
   "outputs": [
    {
     "data": {
      "image/png": "[encoded data removed]",
      "text/plain": [
       "<Figure size 720x432 with 3 Axes>"
      ]
     },
     "metadata": {
      "needs_background": "light"
     },
     "output_type": "display_data"
    },
    {
     "data": {
      "text/plain": [
       "tensor([302., 392.,   0.])"
      ]
     },
     "execution_count": 18,
     "metadata": {},
     "output_type": "execute_result"
    }
   ],
   "source": [
    "# Show trnsformed image\n",
    "resized_slice_num = slice_num * CFG.image_size[2] // len(glob.glob(df_row['image_path'] + f'/slice_*.png')) \n",
    "image = subject['scan'][tio.DATA][0][:,:, resized_slice_num -1]\n",
    "mask = subject['label'][tio.DATA][:,:,:, resized_slice_num - 1]\n",
    "mask[1] *= 2\n",
    "mask[2] *= 3\n",
    "mask_sum = mask.sum(axis=0)\n",
    "fig, ax = plt.subplots(1,3,figsize=(10,6))\n",
    "ax[0].imshow(image)\n",
    "ax[1].imshow(mask_sum)\n",
    "ax[2].imshow(image,'gray')\n",
    "ax[2].imshow(mask_sum, alpha=0.5)\n",
    "plt.show()\n",
    "mask.sum(axis=(1,2))"
   ]
  },
  {
   "cell_type": "markdown",
   "id": "55ca055d-8dd8-4194-a469-36c0a1bf4b87",
   "metadata": {},
   "source": [
    "# Build Model"
   ]
  },
  {
   "cell_type": "markdown",
   "id": "55c8312d-9cb8-4d12-8a1d-69aa974aec9b",
   "metadata": {},
   "source": [
    "### Cycle shift"
   ]
  },
  {
   "cell_type": "code",
   "execution_count": 19,
   "id": "feb734b8-6988-4963-ab18-3b42e1dea048",
   "metadata": {},
   "outputs": [],
   "source": [
    "class CyclicShift(nn.Module):\n",
    "    def __init__(self, displacement):\n",
    "        super().__init__()\n",
    "        self.displacement = displacement\n",
    "\n",
    "    def forward(self, x):\n",
    "        # x.shape (b, 56, 56, 96)\n",
    "        return torch.roll(x, shifts=(self.displacement, self.displacement, self.displacement), dims=(1, 2, 3))"
   ]
  },
  {
   "cell_type": "markdown",
   "id": "72fc79ed-ee69-4bfe-a71f-90d24e195e30",
   "metadata": {},
   "source": [
    "### Skip Connection & Layer Normalization"
   ]
  },
  {
   "cell_type": "code",
   "execution_count": 20,
   "id": "d7adfdbd-9e19-425a-8501-131d464b0e62",
   "metadata": {},
   "outputs": [],
   "source": [
    "class Residual(nn.Module):\n",
    "    def __init__(self, fn):\n",
    "        super().__init__()\n",
    "        self.fn = fn\n",
    "\n",
    "    def forward(self, x, **kwargs):\n",
    "        return self.fn(x, **kwargs) + x\n",
    "\n",
    "class PreNorm(nn.Module):\n",
    "    def __init__(self, dim, fn):\n",
    "        super().__init__()\n",
    "        self.norm = nn.LayerNorm(dim)\n",
    "        self.fn = fn\n",
    "\n",
    "    def forward(self, x, **kwargs):\n",
    "        return self.fn(self.norm(x), **kwargs)"
   ]
  },
  {
   "cell_type": "markdown",
   "id": "3f214935-8794-46e9-9b9e-d475828956f2",
   "metadata": {},
   "source": [
    "### MLP"
   ]
  },
  {
   "cell_type": "code",
   "execution_count": 21,
   "id": "4f099049-46b4-4bff-bf7d-8d9f33720ad3",
   "metadata": {},
   "outputs": [],
   "source": [
    "class FeedForward(nn.Module):\n",
    "    def __init__(self, dim, hidden_dim, drop=0.0):\n",
    "        super().__init__()\n",
    "        self.net = nn.Sequential(\n",
    "            nn.Linear(dim, hidden_dim),\n",
    "            nn.GELU(),\n",
    "            nn.Dropout(drop),\n",
    "            nn.Linear(hidden_dim, dim),\n",
    "            nn.Dropout(drop)\n",
    "        )\n",
    "\n",
    "    def forward(self, x):\n",
    "        return self.net(x)"
   ]
  },
  {
   "cell_type": "markdown",
   "id": "915bc44c-8e7b-466d-a963-140ececa7632",
   "metadata": {},
   "source": [
    "### Attetion Mask"
   ]
  },
  {
   "cell_type": "code",
   "execution_count": 22,
   "id": "09da3198-d6fd-4789-8bda-fe815da9c22e",
   "metadata": {},
   "outputs": [],
   "source": [
    "# expects a tensor that has same shape as the window, and have values 1 or -1 only\n",
    "def _get_mask_from_bipartitioned_window(window_partition):\n",
    "    # flatten the window with partitioned value\n",
    "    window_partition = window_partition.view(-1)\n",
    "\n",
    "    # tensor with size (window_size ** 3, window_size ** 3), where each value corresponds to a pair of points in the window\n",
    "    # if the point pair is in the same partition, it will have value 1, and -1 otherwise.\n",
    "    mask_base = (window_partition[:, None] @ window_partition[None,: ])\n",
    "\n",
    "    # change value -1 to 0, and 1 to 2\n",
    "    mask_base +=1\n",
    "    # covert value 0 to nan and 1 to negative infinity\n",
    "    mask_base *= -float('inf')\n",
    "    \n",
    "    # mask_base = (window_partition[:, None] @ window_partition[None,: ]) : tensor of (window_size ** 3, window_size ** 3, with value 1 or -1\n",
    "    # mask_base += 1 :converts value -1 to 0, and value 1 to 2\n",
    "    # mask_base *= float('-inf') : converts value 0 to nan and value 2 to negative infinity\n",
    "    # mask_base *= 2 : tensor of (window_size ** 3, window_size ** 3, with value 2 or 0\n",
    "    mask_base = ((window_partition[:, None] @ window_partition[None,: ]) + 1) * float('-inf') \n",
    "\n",
    "    # mask = torch.nan_to_num(mask_base) : converts nan value to zero, and netative infinity value to the lowest value of float data type \n",
    "    # mask *= 2 : converts lowest value back to negative infinity \n",
    "    return torch.nan_to_num(mask_base) * 2\n",
    "\n",
    "def create_mask(window_size, displacement, left_right, upper_lower, front_back):\n",
    "    # assume spatial dimension has (order, width, height, depth)\n",
    "    \n",
    "    # masked positions will have value negative infinite\n",
    "    # unmasked positions will have value zero\n",
    "    mask = torch.zeros(window_size ** 3, window_size ** 3)\n",
    "    \n",
    "    if left_right:\n",
    "        window_partition = torch.zeros(window_size, window_size, window_size)\n",
    "        # partition window by value -1 and 1 \n",
    "        window_partition[:-displacement] = 1\n",
    "        window_partition[-displacement:] = -1\n",
    "        \n",
    "        mask += _get_mask_from_bipartitioned_window(window_partition)\n",
    "    \n",
    "    if upper_lower:\n",
    "        window_partition = torch.zeros(window_size, window_size, window_size)\n",
    "        # partition window by value -1 and 1 \n",
    "        window_partition[:, :-displacement] = 1\n",
    "        window_partition[:, -displacement:] = -1\n",
    "        \n",
    "        mask += _get_mask_from_bipartitioned_window(window_partition)\n",
    "        \n",
    "    if front_back:\n",
    "        window_partition = torch.zeros(window_size, window_size, window_size)\n",
    "        # partition window by value -1 and 1 \n",
    "        window_partition[:, :, :-displacement] = 1\n",
    "        window_partition[:, :, -displacement:] = -1\n",
    "        \n",
    "        mask += _get_mask_from_bipartitioned_window(window_partition)\n",
    "\n",
    "    return mask"
   ]
  },
  {
   "cell_type": "markdown",
   "id": "4462b158-1af9-4977-9781-5e41229153bd",
   "metadata": {},
   "source": [
    "### W-MSA & SW-MSA"
   ]
  },
  {
   "cell_type": "code",
   "execution_count": 23,
   "id": "71e1dcc9-5354-477f-a7f5-c1a13c6a639b",
   "metadata": {},
   "outputs": [],
   "source": [
    "def get_relative_distances(window_size):\n",
    "    indices = torch.tensor(np.array([[x, y, z] for x in range(window_size) for y in range(window_size) for z in range(window_size)]))\n",
    "    distances = indices[None, :, :] - indices[:, None, :]\n",
    "    return distances\n",
    "\n",
    "class WindowAttention(nn.Module):\n",
    "    def __init__(self, dim, heads, head_dim, shifted, window_size, relative_pos_embedding=True, attention_drop=0.0, output_drop=0.0):\n",
    "        super().__init__()\n",
    "        inner_dim = head_dim * heads\n",
    "\n",
    "        self.heads = heads\n",
    "        self.scale = head_dim ** -0.5\n",
    "        self.window_size = window_size\n",
    "        self.relative_pos_embedding = relative_pos_embedding\n",
    "        self.shifted = shifted\n",
    "        \n",
    "        self.attention_drop = nn.Dropout(attention_drop)\n",
    "        self.output_drop = nn.Dropout(output_drop)\n",
    "\n",
    "        if self.shifted:\n",
    "            displacement = window_size // 2  # 7//2 = 3\n",
    "            self.cyclic_shift = CyclicShift(-displacement)\n",
    "            self.cyclic_back_shift = CyclicShift(displacement)\n",
    "            self.upper_lower_mask = nn.Parameter(\n",
    "                create_mask(\n",
    "                    window_size=window_size, \n",
    "                    displacement=displacement, \n",
    "                    upper_lower=True, \n",
    "                    left_right=False, \n",
    "                    front_back=False\n",
    "                ), \n",
    "                requires_grad=False\n",
    "            )\n",
    "            self.left_right_mask = nn.Parameter(\n",
    "                create_mask(\n",
    "                    window_size=window_size, \n",
    "                    displacement=displacement, \n",
    "                    upper_lower=False, \n",
    "                    left_right=True, \n",
    "                    front_back=False\n",
    "                ), \n",
    "                requires_grad=False\n",
    "            )\n",
    "            self.front_back_mask = nn.Parameter(\n",
    "                create_mask(\n",
    "                    window_size=window_size, \n",
    "                    displacement=displacement, \n",
    "                    upper_lower=False, \n",
    "                    left_right=False, \n",
    "                    front_back=True\n",
    "                ), \n",
    "                requires_grad=False\n",
    "            )\n",
    "        self.to_qkv = nn.Linear(dim, inner_dim * 3, bias=False)\n",
    "\n",
    "        if self.relative_pos_embedding:\n",
    "            #  + window_size - 1 is for removing negative values\n",
    "            self.relative_indices = get_relative_distances(window_size) + window_size - 1\n",
    "            self.pos_embedding = nn.Parameter(torch.randn(2 * window_size - 1, 2 * window_size - 1, 2 * window_size - 1))\n",
    "            \n",
    "            # EX window size is 4, query has postion (1, 1, 1) and key has position (1, 1, 1)\n",
    "            # then query -> key has relative distance (3, 3, 3) = (0, 0, 0) + (window size -1)\n",
    "            # query (0, 0, 0),  key (3, 3, 3)\n",
    "            # then query -> key relative distance = (6, 6, 6) = (3, 3, 3) + (4 - 1)\n",
    "            # query (3, 3, 3), key (0, 0, 0)\n",
    "            # then query -> key relative distance = (0, 0, 0) = (-3, -3, -3) + (4 - 1)\n",
    "            \n",
    "        else:\n",
    "            self.pos_embedding = nn.Parameter(torch.randn(window_size ** 3, window_size ** 3))\n",
    "\n",
    "        self.to_out = nn.Linear(inner_dim, dim)\n",
    "\n",
    "    def forward(self, x):\n",
    "        if self.shifted:\n",
    "            x = self.cyclic_shift(x)\n",
    "\n",
    "        batch_size, width, height, depth, _ = x.shape\n",
    "\n",
    "        qkv = self.to_qkv(x).chunk(3, dim=-1)  # (b, 56, 56, 56, 288) -> tuple len 3 (b, 56, 56, 56, 96)\n",
    "        nw_h = height // self.window_size  # 8\n",
    "        nw_w = width // self.window_size  # 8\n",
    "        nw_d = depth // self.window_size  # 8\n",
    "        \n",
    "        # 'b (nw_w w_w) (nw_h w_h) (nw_d w_d) (h d) -> b h (nw_w nw_h nw_d) (w_w w_h w_d) d'\n",
    "        q, k, v = map(\n",
    "            lambda t: t.view(\n",
    "                batch_size, nw_w, self.window_size, nw_h, self.window_size, nw_d, self.window_size, self.heads, -1\n",
    "            ).permute(0, 8, 1, 3, 5, 2, 4, 6, 7).reshape(batch_size, self.heads, nw_w * nw_h * nw_d, self.window_size ** 3, -1), \n",
    "            qkv\n",
    "        ) \n",
    "\n",
    "\n",
    "        # (b, 3, 8 ** 3, 7 ** 3, 32), (b, 3, 8 ** 3, 7 ** 3, 32)  -> (b, 3, 8 ** 3, 7 ** 3, 7 ** 3)\n",
    "        dots = torch.einsum('b h w i d, b h w j d -> b h w i j', q, k) * self.scale\n",
    "\n",
    "        if self.relative_pos_embedding:\n",
    "            dots += self.pos_embedding[\n",
    "                self.relative_indices[:, :, 0].type(torch.long), \n",
    "                self.relative_indices[:, :, 1].type(torch.long), \n",
    "                self.relative_indices[:, :, 2].type(torch.long)\n",
    "            ]  # (7 **3, 7 **3)\n",
    "        else:\n",
    "            dots += self.pos_embedding\n",
    "\n",
    "        if self.shifted:  # masking\n",
    "            dots = dots.view(batch_size, self.heads, nw_w, nw_h, nw_d, self.window_size ** 3, self.window_size **3)\n",
    "            dots[:, :, -1] += self.left_right_mask\n",
    "            dots[:, :, :, -1] += self.upper_lower_mask\n",
    "            dots[:, :, :, :, -1] += self.front_back_mask\n",
    "            dots = dots.view(batch_size, self.heads, -1, self.window_size ** 3, self.window_size **3)\n",
    "\n",
    "        attn = dots.softmax(dim=-1)\n",
    "        attn = self.attention_drop(attn)  # forgot\n",
    "        out = torch.einsum('b h w i j, b h w j d -> b h w i d', attn, v)\n",
    "        \n",
    "        # 'b h (w_h w_w) (nw_w nw_h nw_d) (w_w w_h w_d) d -> b (nw_w w_w) (nw_h w_h) (nw_d w_d) (h d)\n",
    "        out = out.view(\n",
    "            batch_size, self.heads, nw_w, nw_h, nw_d, self.window_size, self.window_size, self.window_size, -1\n",
    "        ).permute(\n",
    "            (0, 2, 5, 3, 6, 4, 7, 1, 8)\n",
    "        ).reshape(\n",
    "            batch_size, nw_w * self.window_size, nw_h * self.window_size, nw_d * self.window_size, -1\n",
    "        )\n",
    "                        \n",
    "        out = self.to_out(out)\n",
    "        out = self.output_drop(out)  # forgot\n",
    "\n",
    "        if self.shifted:\n",
    "            out = self.cyclic_back_shift(out)  # return back shifted value\n",
    "        return out"
   ]
  },
  {
   "cell_type": "markdown",
   "id": "e572e3df-de63-470d-b26f-02a23bd68515",
   "metadata": {},
   "source": [
    "### Swin Transformer Block"
   ]
  },
  {
   "cell_type": "code",
   "execution_count": 24,
   "id": "adff1601-1697-43bd-a040-d7cac8aa75bf",
   "metadata": {},
   "outputs": [],
   "source": [
    "class SwinBlock(nn.Module):\n",
    "    def __init__(\n",
    "        self, \n",
    "        dim, \n",
    "        heads, \n",
    "        head_dim, \n",
    "        mlp_dim, \n",
    "        shifted, \n",
    "        window_size, \n",
    "        relative_pos_embedding=True,\n",
    "        attention_drop_rate=0.0,\n",
    "        wa_output_drop_rate=0.0,\n",
    "        ff_drop_rate=0.0\n",
    "    ):\n",
    "        super().__init__()\n",
    "        self.attention_block = Residual(\n",
    "            PreNorm(\n",
    "                dim, \n",
    "                WindowAttention(\n",
    "                    dim=dim,\n",
    "                    heads=heads,\n",
    "                    head_dim=head_dim,\n",
    "                    shifted=shifted,\n",
    "                    window_size=window_size,\n",
    "                    relative_pos_embedding=relative_pos_embedding, \n",
    "                    attention_drop= attention_drop_rate, \n",
    "                    output_drop=wa_output_drop_rate\n",
    "                )\n",
    "            )\n",
    "        )\n",
    "        self.mlp_block = Residual(PreNorm(dim, FeedForward(dim=dim, hidden_dim=mlp_dim, drop=ff_drop_rate)))\n",
    "\n",
    "    def forward(self, x):\n",
    "        x = self.attention_block(x)\n",
    "        x = self.mlp_block(x)\n",
    "        return x"
   ]
  },
  {
   "cell_type": "markdown",
   "id": "a962ac92-7e43-43a9-88a3-5ba8c3eeb490",
   "metadata": {},
   "source": [
    "### Patch Partition or Patch Merging & Linear Embedding"
   ]
  },
  {
   "cell_type": "code",
   "execution_count": 25,
   "id": "65a8cb96-c7b5-4435-b9f3-bc5c19345420",
   "metadata": {},
   "outputs": [],
   "source": [
    "class PatchMerging(nn.Module):\n",
    "    def __init__(self, in_channels, out_channels, downscaling_factor):\n",
    "        super().__init__()\n",
    "        self.downscaling_factor = downscaling_factor\n",
    "        self.patch_merge = nn.Unfold(kernel_size=downscaling_factor, stride=downscaling_factor, padding=0)\n",
    "        self.linear = nn.Linear(in_channels * downscaling_factor ** 3, out_channels)\n",
    "\n",
    "    def forward(self, x):\n",
    "        b, c, w, h, d = x.shape\n",
    "        new_w, new_h, new_d = w // self.downscaling_factor, h // self.downscaling_factor, d // self.downscaling_factor  #  num patches along width, height, depth\n",
    "        x = x.view(b, c, new_w, self.downscaling_factor, new_h, self.downscaling_factor, new_d, self.downscaling_factor).permute(0, 2, 4, 6, 3, 5, 7, 1).reshape(b, new_w, new_h, new_d, -1)\n",
    "        return self.linear(x)  # (b, 56, 56, 56, 192) -> (b, 56, 56, 56, out_channels)"
   ]
  },
  {
   "cell_type": "markdown",
   "id": "f2629e0b-8a73-4237-9803-9da039a116a6",
   "metadata": {},
   "source": [
    "### StageModule"
   ]
  },
  {
   "cell_type": "code",
   "execution_count": 26,
   "id": "963a8f65-97a8-45c8-9875-f1c55dcfea7f",
   "metadata": {},
   "outputs": [],
   "source": [
    "class StageModule(nn.Module):\n",
    "    def __init__(\n",
    "        self, \n",
    "        in_channels, \n",
    "        hidden_dimension, \n",
    "        layers, \n",
    "        downscaling_factor, \n",
    "        num_heads, \n",
    "        head_dim, \n",
    "        window_size,\n",
    "        relative_pos_embedding=True,\n",
    "        attention_drop_rate=0.0,\n",
    "        wa_output_drop_rate=0.0,\n",
    "        ff_drop_rate=0.0\n",
    "    ):\n",
    "        super().__init__()\n",
    "        assert layers % 2 == 0, 'Stage layers need to be divisible by 2 for regular and shifted block.'\n",
    "\n",
    "        self.layers = nn.ModuleList([])\n",
    "        for _ in range(layers // 2):\n",
    "            self.layers.append(\n",
    "                nn.ModuleList(\n",
    "                    [SwinBlock(\n",
    "                        dim=in_channels, \n",
    "                        heads=num_heads, \n",
    "                        head_dim=head_dim, \n",
    "                        mlp_dim=in_channels * 4,\n",
    "                        shifted=False, \n",
    "                        window_size=window_size, \n",
    "                        relative_pos_embedding=relative_pos_embedding,\n",
    "                        attention_drop_rate=attention_drop_rate, \n",
    "                        wa_output_drop_rate=wa_output_drop_rate, \n",
    "                        ff_drop_rate=ff_drop_rate\n",
    "                    ), \n",
    "                     SwinBlock(\n",
    "                         dim=in_channels, \n",
    "                         heads=num_heads, \n",
    "                         head_dim=head_dim, \n",
    "                         mlp_dim=in_channels * 4, \n",
    "                         shifted=True, \n",
    "                         window_size=window_size, \n",
    "                         relative_pos_embedding=relative_pos_embedding,\n",
    "                         attention_drop_rate=attention_drop_rate, \n",
    "                         wa_output_drop_rate=wa_output_drop_rate, \n",
    "                         ff_drop_rate=ff_drop_rate\n",
    "                     )]\n",
    "                )\n",
    "            )\n",
    "\n",
    "        self.patch_partition = PatchMerging(\n",
    "            in_channels=in_channels, \n",
    "            out_channels=hidden_dimension, \n",
    "            downscaling_factor=downscaling_factor\n",
    "        )\n",
    "    def forward(self, x):\n",
    "        \n",
    "        for regular_block, shifted_block in self.layers:\n",
    "            x = regular_block(x)\n",
    "            x = shifted_block(x)\n",
    "        \n",
    "        x = x.permute(0, 4, 1, 2, 3) # (4, 56, 56, 56, 96) -> (4, 96, 56, 56, 56)\n",
    "        return self.patch_partition(x)"
   ]
  },
  {
   "cell_type": "code",
   "execution_count": 27,
   "id": "d3a14fb9-e54a-4578-9897-93702a31b73a",
   "metadata": {
    "tags": []
   },
   "outputs": [],
   "source": [
    "def double_conv_block(in_channels, out_channels):\n",
    "    return nn.Sequential(\n",
    "        nn.Conv3d(in_channels, out_channels, 3, 1, 1, bias=False),\n",
    "        nn.InstanceNorm3d(out_channels),\n",
    "        nn.ReLU(inplace=True),\n",
    "        nn.Conv3d(out_channels, out_channels, 3, 1, 1, bias=False),\n",
    "        nn.InstanceNorm3d(out_channels),\n",
    "        nn.ReLU(inplace=True),\n",
    "    )\n",
    "\n",
    "class SwinTransformerUNet3D(nn.Module):\n",
    "    def __init__(\n",
    "        self, \n",
    "        hidden_dim=48, \n",
    "        heads=(3,3,3,3), \n",
    "        channels=1, \n",
    "        num_classes=3, \n",
    "        head_dim=32, \n",
    "        window_size=4, \n",
    "        layers=(2, 2, 2, 2), \n",
    "        downscaling_factors=(2, 2, 2, 2, 2), \n",
    "        relative_pos_embedding=True,\n",
    "        up_drop_rate=0.0,\n",
    "        attention_drop_rate=0.0,\n",
    "        wa_output_drop_rate=0.0,\n",
    "        ff_drop_rate=0.0\n",
    "    ):\n",
    "        super().__init__()\n",
    "        self.patch_partition = PatchMerging(\n",
    "            in_channels=channels, \n",
    "            out_channels=hidden_dim, \n",
    "            downscaling_factor=downscaling_factors[0]\n",
    "        )\n",
    "        self.stage1 = StageModule(\n",
    "            in_channels=hidden_dim, hidden_dimension=hidden_dim * 2, layers=layers[0], \n",
    "            downscaling_factor=downscaling_factors[1], num_heads=heads[0], head_dim=head_dim, \n",
    "            window_size=window_size, relative_pos_embedding=relative_pos_embedding,\n",
    "            attention_drop_rate=attention_drop_rate, wa_output_drop_rate=wa_output_drop_rate, ff_drop_rate=ff_drop_rate\n",
    "        )\n",
    "        # input shape\n",
    "        self.stage2 = StageModule(\n",
    "            in_channels=hidden_dim * 2, hidden_dimension=hidden_dim * 4, layers=layers[1],\n",
    "            downscaling_factor=downscaling_factors[2], num_heads=heads[1], head_dim=head_dim,\n",
    "            window_size=window_size, relative_pos_embedding=relative_pos_embedding,\n",
    "            attention_drop_rate=attention_drop_rate, wa_output_drop_rate=wa_output_drop_rate, ff_drop_rate=ff_drop_rate\n",
    "        )\n",
    "\n",
    "        self.stage3 = StageModule(\n",
    "            in_channels=hidden_dim * 4, hidden_dimension=hidden_dim * 8, layers=layers[2],\n",
    "            downscaling_factor=downscaling_factors[3], num_heads=heads[2], head_dim=head_dim,\n",
    "            window_size=window_size, relative_pos_embedding=relative_pos_embedding,\n",
    "            attention_drop_rate=attention_drop_rate, wa_output_drop_rate=wa_output_drop_rate, ff_drop_rate=ff_drop_rate\n",
    "        )\n",
    "\n",
    "        self.stage4 = StageModule(\n",
    "            in_channels=hidden_dim * 8, hidden_dimension=hidden_dim * 16, layers=layers[3],\n",
    "            downscaling_factor=downscaling_factors[4], num_heads=heads[3], head_dim=head_dim,\n",
    "            window_size=window_size, relative_pos_embedding=relative_pos_embedding,\n",
    "            attention_drop_rate=attention_drop_rate, wa_output_drop_rate=wa_output_drop_rate, ff_drop_rate=ff_drop_rate\n",
    "        )\n",
    "        \n",
    "        self.stage4_up = nn.ModuleList(\n",
    "            [double_conv_block(hidden_dim * 16, hidden_dim * 16), \n",
    "             nn.ConvTranspose3d(hidden_dim * 16, hidden_dim * 8, kernel_size=2, stride=2)]\n",
    "        )\n",
    "        \n",
    "        self.stage3_up = nn.ModuleList(\n",
    "            [double_conv_block(hidden_dim * 8, hidden_dim * 8), \n",
    "             nn.Dropout(up_drop_rate),\n",
    "             double_conv_block(hidden_dim * 16, hidden_dim * 8), \n",
    "             nn.ConvTranspose3d(hidden_dim * 8, hidden_dim * 4, kernel_size=2, stride=2)]\n",
    "        )\n",
    "        \n",
    "        self.stage2_up = nn.ModuleList(\n",
    "            [double_conv_block(hidden_dim * 4, hidden_dim * 4), \n",
    "             nn.Dropout(up_drop_rate),\n",
    "             double_conv_block(hidden_dim * 8, hidden_dim * 4), \n",
    "             nn.ConvTranspose3d(hidden_dim * 4, hidden_dim * 2, kernel_size=2, stride=2)]\n",
    "        )\n",
    "        \n",
    "        self.stage1_up = nn.ModuleList(\n",
    "            [double_conv_block(hidden_dim * 2, hidden_dim * 2), \n",
    "             nn.Dropout(up_drop_rate),\n",
    "             double_conv_block(hidden_dim * 4, hidden_dim * 2), \n",
    "             nn.ConvTranspose3d(hidden_dim * 2, hidden_dim, kernel_size=2, stride=2)]\n",
    "        )\n",
    "        self.final_up = nn.ModuleList(\n",
    "            [double_conv_block(hidden_dim, hidden_dim), \n",
    "             nn.Dropout(up_drop_rate),\n",
    "             double_conv_block(hidden_dim * 2, hidden_dim), \n",
    "             nn.ConvTranspose3d(hidden_dim, hidden_dim, kernel_size=2, stride=2)]\n",
    "        )\n",
    "        \n",
    "        self.image_size_blocks = nn.ModuleList(\n",
    "            [nn.Linear(channels, hidden_dim), double_conv_block(hidden_dim * 2, hidden_dim)]\n",
    "        )\n",
    "\n",
    "        self.final_conv = nn.Sequential(nn.Conv3d(hidden_dim, num_classes, kernel_size=1),  nn.Sigmoid())\n",
    "\n",
    "    def forward(self, img):\n",
    "        # width, height, and depth, each should be divisible by product of downscaling factors and window size \n",
    "        # (width, height, or deapth) % (np.prod(downscaling factors) * window_size) == 0\n",
    "        \n",
    "        # image shape(b, 3, 128, 128, 128) \n",
    "        x0 = self.patch_partition(img)  # (b, 64, 64, 64, 48)\n",
    "        x1 = self.stage1(x0)  # (b, 32, 32, 32, 96)\n",
    "        x2 = self.stage2(x1)  # (b, 16, 16, 16, 192)\n",
    "        x3 = self.stage3(x2)  # (b, 8, 8, 8, 384)\n",
    "        x4 = self.stage4(x3)  # (b, 4, 4, 4, 768)\n",
    "        \n",
    "        x = self.stage4_up[0](x4.permute(0, 4, 1, 2, 3))  # double conv block (b, 768, 4, 4, 4)\n",
    "        x = self.stage4_up[1](x)   # transposed convolution to increase spatial size (b, 384, 8, 8, 8)\n",
    "        \n",
    "        x = self.stage3_up[0](x)  # double conv block (b, 384, 8, 8, 8)\n",
    "        x = torch.cat((x, x3.permute(0, 4, 1, 2, 3)), dim=1)   # (b, 768, 8, 8, 8)\n",
    "        x = self.stage3_up[1](x)  # dropout\n",
    "        x = self.stage3_up[2](x)  # double conv block with skip connection (b, 384, 8, 8, 8)\n",
    "        x = self.stage3_up[3](x)  # transposed convolution to increase spatial size (b, 192, 16, 16, 16)\n",
    "        \n",
    "        x = self.stage2_up[0](x)  # double conv block (b, 192, 16, 16, 16)\n",
    "        x = torch.cat((x, x2.permute(0, 4, 1, 2, 3)), dim=1)   # (b, 384, 16, 16, 16)\n",
    "        x = self.stage2_up[1](x)  # dropout\n",
    "        x = self.stage2_up[2](x)  # double conv block with skip connection (b, 192, 16, 16, 16)\n",
    "        x = self.stage2_up[3](x)  # transposed convolution to increase spatial size (b, 96, 32, 32, 32)\n",
    "        \n",
    "        x = self.stage1_up[0](x)  # double conv block (b, 96, 32, 32, 32)\n",
    "        x = torch.cat((x, x1.permute(0, 4, 1, 2, 3)), dim=1)  # (b, 192, 32, 32, 32)\n",
    "        x = self.stage1_up[1](x)  # dropout\n",
    "        x = self.stage1_up[2](x)  # double conv block with skip connection (b, 96, 32, 32, 32)\n",
    "        x = self.stage1_up[3](x)  # transposed convolution to increase spatial size (b, 48, 64, 64, 64)\n",
    "        \n",
    "        x = self.final_up[0](x)    # double conv block (b, 48, 64, 64, 64)\n",
    "        x = torch.cat((x, x0.permute(0, 4, 1, 2, 3)), dim=1)   # (b, 96, 64, 64, 64)\n",
    "        x = self.final_up[1](x)  # dropout\n",
    "        x = self.final_up[2](x)  # transposed convolution to increase spatial size (b, 48, 64, 64, 64)\n",
    "        x = self.final_up[3](x)  # transposed convolution to increase spatial size (b, 48, 128, 128, 128)\n",
    "        \n",
    "        image_embedded = self.image_size_blocks[0](img.permute(0, 2, 3, 4, 1)).permute(0, 4, 1, 2 ,3)   # (b, 48, 128, 128, 128)\n",
    "        x = torch.cat((x, image_embedded), dim=1)   # (b, 96, 128, 128, 128)\n",
    "        x = self.image_size_blocks[1](x)   # (b, 48, 128, 128, 128)\n",
    "        \n",
    "        return self.final_conv(x)\n",
    "\n",
    "class UNet3D(nn.Module):\n",
    "    def __init__(self, in_channels=1, out_channels=3, features =[64, 128, 256, 512]):\n",
    "        super(UNet3D, self).__init__()\n",
    "        self.ups = nn.ModuleList()\n",
    "        self.downs = nn.ModuleList()\n",
    "        self.pool = nn.MaxPool3d(kernel_size=2, stride=2)\n",
    "\n",
    "        #down part of UNet\n",
    "        for feature in features:\n",
    "            self.downs.append(double_conv_block(in_channels, feature))\n",
    "            in_channels = feature\n",
    "\n",
    "        #upsample part of UNet\n",
    "        for feature in reversed(features):\n",
    "            self.ups.append(\n",
    "              nn.ConvTranspose3d(feature*2, feature, kernel_size=2, stride=2)\n",
    "            )\n",
    "            self.ups.append(double_conv_block(feature*2, feature))\n",
    "\n",
    "        self.bottleneck = double_conv_block(features[-1], features[-1]*2)\n",
    "        self.final_conv = nn.Sequential(nn.Conv3d(features[0], out_channels, kernel_size=1),  nn.Sigmoid())\n",
    "\n",
    "    def forward(self, x):\n",
    "        skip_connections = []\n",
    "\n",
    "        for down in self.downs:\n",
    "            x = down(x)\n",
    "            skip_connections.append(x)\n",
    "            x = self.pool(x)\n",
    "\n",
    "\n",
    "        x = self.bottleneck(x)\n",
    "        skip_connections = skip_connections[::-1]\n",
    "\n",
    "        for idx in range(0, len(self.ups), 2):\n",
    "            x = self.ups[idx](x)\n",
    "            skip_connection = skip_connections[idx//2]\n",
    "\n",
    "            # if x.shape != skip_connection.shape:\n",
    "            #     x = TF.resize(x, size=skip_connection.shape[2:])\n",
    "\n",
    "            concat_skip = torch.cat((skip_connection, x), dim=1)\n",
    "            x = self.ups[idx+1](concat_skip)\n",
    "\n",
    "        return self.final_conv(x)"
   ]
  },
  {
   "cell_type": "code",
   "execution_count": 28,
   "id": "414b2d9e-8460-4fd9-a236-1a3e9ae3bd5d",
   "metadata": {},
   "outputs": [],
   "source": [
    "def build_model():\n",
    "    model = SwinTransformerUNet3D(\n",
    "        up_drop_rate=CFG.drop_rate,\n",
    "        attention_drop_rate=CFG.drop_rate,\n",
    "        wa_output_drop_rate=CFG.drop_rate,\n",
    "        ff_drop_rate=CFG.drop_rate\n",
    "    )\n",
    "    model.to(CFG.device)\n",
    "    return model\n",
    "\n",
    "def load_model(path):\n",
    "    model = build_model()\n",
    "    model.load_state_dict(torch.load(path))\n",
    "    model.eval()\n",
    "    return model"
   ]
  },
  {
   "cell_type": "markdown",
   "id": "9294608a-abf9-4089-921c-34788129e070",
   "metadata": {},
   "source": [
    "## Loss"
   ]
  },
  {
   "cell_type": "code",
   "execution_count": 29,
   "id": "21337543-ce88-492a-86bd-50c1c9e38749",
   "metadata": {},
   "outputs": [],
   "source": [
    "def get_segmtation_indices(mask):\n",
    "    \"\"\"\n",
    "    :mask: (C x W x H x D) Tensor of the probability map of the estimation.\n",
    "    :return: List of List of Tensors of the Ground Truth points.\n",
    "                   The outer most list must be of size B as in prob_map.\n",
    "                   The second outer most list must be of size C.\n",
    "                   Each element in the second outer most list must be a 2D Tensor,\n",
    "                   where each row is the (x, y, z), i.e, (col, row, depth) of a GT point.\n",
    "    \"\"\"\n",
    "    num_classes = mask.size()[0]\n",
    "    mask_indices = []\n",
    "    for i in range(num_classes):\n",
    "        mask_indices.append((mask[i] > 0).nonzero())\n",
    "    \n",
    "    return mask_indices\n",
    "\n",
    "\n",
    "def _assert_no_grad(variables_list):\n",
    "    for variables in variables_list:\n",
    "        for var in variables:\n",
    "            assert not var.requires_grad, \\\n",
    "                \"nn criterions don't compute the gradient w.r.t. targets - please \" \\\n",
    "                \"mark these variables as volatile or not requiring gradients\"\n",
    "\n",
    "class DiceLoss(torch.nn.Module):\n",
    "    def __init__(self, num_classes):\n",
    "        self.num_classes=num_classes\n",
    "        super(DiceLoss, self).__init__()\n",
    "    def forward(self, pred, target):\n",
    "        batch_size = pred.shape[0]\n",
    "        smooth = 0.001\n",
    "        iflat = pred.contiguous().view(batch_size, -1)\n",
    "        tflat = target.contiguous().view(batch_size, -1)\n",
    "        intersection = (iflat * tflat).sum(-1)\n",
    "        A_sum = torch.sum(iflat * iflat, -1)\n",
    "        B_sum = torch.sum(tflat * tflat, -1)\n",
    "        return (1 - ((2. * intersection + smooth) / (A_sum + B_sum + smooth) )).mean()\n",
    "\n",
    "\n",
    "class WeightedHausdorffLoss(torch.nn.Module):\n",
    "    def __init__(self, num_classes, resized_shape, alpha=-4.0, return_by_class=False, device=torch.device('cpu')):\n",
    "        self.alpha = alpha\n",
    "        self.return_by_class = return_by_class\n",
    "        self.width, self.height, self.depth = resized_shape\n",
    "        self.num_classes = num_classes\n",
    "        self.resized_size = torch.tensor(\n",
    "            resized_shape,\n",
    "            dtype=torch.get_default_dtype(), \n",
    "            device=device\n",
    "        )\n",
    "        self.n_pixels = np.prod(resized_shape)\n",
    "        \n",
    "        self.all_pixel_locations = torch.from_numpy(\n",
    "            np.indices(resized_shape, dtype=np.int32).reshape(3,-1).transpose()\n",
    "        ).to(device=device, dtype=torch.get_default_dtype())\n",
    "        self.const_one = torch.tensor(1.0).to(device=device, dtype=torch.get_default_dtype())\n",
    "        super(WeightedHausdorffLoss, self).__init__()\n",
    "        \n",
    "    def forward(self, prob_map, gt, orig_sizes):\n",
    "        \"\"\"\n",
    "        Compute the Weighted Hausdorff Distance function\n",
    "        between the estimated probability map and ground truth points.\n",
    "        The output is the WHD averaged through all the batch.\n",
    "        :param prob_map: (B x C x W x H x D) Tensor of the probability map of the estimation.\n",
    "                         B is batch size, C is number of classes, H is height, W is width and D is depth.\n",
    "                         Values must be between 0 and 1.\n",
    "        :param gt: List of List of Tensors of the Ground Truth points.\n",
    "                   The outer most list must be of size B as in prob_map.\n",
    "                   The second outer most list must be of size C.\n",
    "                   Each element in the second outer most list must be a 2D Tensor,\n",
    "                   where each row is the (x, y, z), i.e, (col, row, depth) of a GT point.\n",
    "        :param orig_sizes: Bx3 Tensor containing the size\n",
    "                           of the original images.\n",
    "                           B is batch size.\n",
    "                           The size must be in (width, height, depth) format.\n",
    "        :return: Single-scalar Tensor with the Weighted Hausdorff Distance.\n",
    "                 If self.return_2_terms=True, then return a tuple containing\n",
    "                 the two terms of the Weighted Hausdorff Distance.\n",
    "        \"\"\"\n",
    "\n",
    "        _assert_no_grad(gt)\n",
    "\n",
    "        assert prob_map.dim() == 5, 'The probability map shape must be (B x C x W x H x D)'\n",
    "        assert prob_map.size()[1:5] == (self.num_classes, self.width, self.height, self.depth), \\\n",
    "        f'prob_map size is {prob_map.size()[1:5]}, it must have size {(self.num_classes, self.width, self.height, self.depth)}'\n",
    "\n",
    "        batch_size = prob_map.shape[0]\n",
    "        assert batch_size == len(gt)\n",
    "\n",
    "        distances_by_class = [[] for _ in range(self.num_classes)]\n",
    "    \n",
    "        for batch_index in range(batch_size):\n",
    "            orig_size_b = orig_sizes[batch_index, :]\n",
    "            norm_factor = (orig_size_b/self.resized_size)\n",
    "            max_dist = (orig_size_b ** 2).sum().sqrt()\n",
    "            for class_index in range(self.num_classes):\n",
    "                # One by one\n",
    "                prob_map_b = prob_map[batch_index, class_index]\n",
    "                gt_b = gt[batch_index][class_index]\n",
    "\n",
    "                # Corner case: no GT points\n",
    "                if gt_b.size()[0] == 0:\n",
    "                    # term_1 = max_dist\n",
    "                    # term_2 = 0\n",
    "                    distances_by_class[class_index].append(self.const_one)\n",
    "                    continue\n",
    "\n",
    "                # Pairwise distances between all possible locations and the GTed locations\n",
    "                n_gt_pts = gt_b.size()[0]\n",
    "                \n",
    "                # normalized_x has shape (width * height * depth, 3)\n",
    "                # normalized_y has shape (number of masked points, 3)\n",
    "                normalized_x = norm_factor * self.all_pixel_locations\n",
    "                normalized_y = norm_factor * gt_b\n",
    "\n",
    "                # normalized_x.unsqueeze(1) has shape (width * height * depth, 1, 3)\n",
    "                # normalized_y.unsqueeze(0) has shape (1, number of true segmented points, 3)\n",
    "                # diff has shape (width * height * depth, number of true segmented points, 3)\n",
    "                diffs = normalized_x.unsqueeze(1) - normalized_y.unsqueeze(0)\n",
    "                \n",
    "                # distances has shape (width * height * depth, number of true segmented points)\n",
    "                # normalize the distance with max distance \n",
    "                distance_matrix = torch.sum(diffs ** 2, -1).sqrt() / max_dist\n",
    "\n",
    "                # Reshape probability map as a long column vector,\n",
    "                # and prepare it for multiplication\n",
    "                p = prob_map_b.view(prob_map_b.nelement())\n",
    "                total_x_weight = p.sum()\n",
    "\n",
    "                # Weighted Hausdorff Distance\n",
    "                term_1 = (1 / (total_x_weight + 1e-6)) * torch.sum(p * torch.min(distance_matrix, 1)[0])\n",
    "                \n",
    "                p = p.view(-1, 1)\n",
    "                weighted_distance_matrix = (1 - p) + p*distance_matrix\n",
    "                \n",
    "                # get generalized mean\n",
    "                generalized_mean = torch.mean((weighted_distance_matrix + 1e-6)**self.alpha, 0)**(1./self.alpha)\n",
    "                term_2 = torch.mean(generalized_mean)\n",
    "                \n",
    "                result = term_1 + term_2\n",
    "                distances_by_class[class_index].append(result)\n",
    "\n",
    "        result = torch.stack(\n",
    "            [distances_by_class[class_index][batch_index] for batch_index in range(batch_size) for class_index in range(self.num_classes)]\n",
    "        ).view(batch_size, self.num_classes)\n",
    "        \n",
    "        if self.return_by_class:\n",
    "            return result.mean(dim=0) \n",
    "\n",
    "        return result.mean(dim=1).mean()"
   ]
  },
  {
   "cell_type": "markdown",
   "id": "22efdf41-dfdb-4952-95b5-a7adf7b9daaa",
   "metadata": {},
   "source": [
    "## Test Run"
   ]
  },
  {
   "cell_type": "raw",
   "id": "0b6c04b0-7fad-4c70-a769-65998fae275c",
   "metadata": {},
   "source": [
    "train_loader, valid_loader = prepare_loaders(df_train, fold=0, debug=True)\n",
    "inputs = None\n",
    "targets = None\n",
    "case_days = None\n",
    "original_sizes = None\n",
    "subjects = None\n",
    "for subjects_batch in train_loader:\n",
    "    subjects = subjects_batch\n",
    "    inputs = subjects_batch['scan'][tio.DATA]\n",
    "    targets = subjects_batch['label'][tio.DATA]\n",
    "    case_days = subjects_batch['case_day']\n",
    "    original_sizes = subjects_batch['original_size']\n",
    "\n",
    "    break\n",
    "\n",
    "x = subjects_batch['scan'][tio.DATA]\n",
    "y = subjects_batch['label'][tio.DATA]\n",
    "case_days = subjects_batch['case_day']\n",
    "original_sizes = torch.stack(subjects_batch['original_size']).transpose(0,1).to(CFG.device)\n",
    "    \n",
    "model = SwinTransformerUNet3D()\n",
    "model.to(CFG.device)\n",
    "x = x.to(CFG.device)\n",
    "y = y.to(CFG.device)\n",
    "preds = model(x)"
   ]
  },
  {
   "cell_type": "raw",
   "id": "441ad104-a3fe-411f-a44c-d30f48d967ef",
   "metadata": {},
   "source": [
    "mask_max_pool = nn.functional.max_pool3d(y, CFG.whf_pool_size)\n",
    "segmentation_indices = []\n",
    "for i in range(CFG.train_bs):\n",
    "    class_segmentation_indices = [item.to(CFG.device) for item in get_segmtation_indices(mask_max_pool[i])]\n",
    "    segmentation_indices.append(class_segmentation_indices)\n",
    "\n",
    "whf_loss = WeightedHausdorffLoss(3, [val // CFG.whf_pool_size for val in CFG.image_size], alpha=-1.0, device=CFG.device)\n",
    "dice_loss = DiceLoss(3)\n",
    "loss = 0.4 * dice_loss(preds, y)  + 0.6 * whf_loss(nn.functional.avg_pool3d(preds, CFG.whf_pool_size), segmentation_indices, original_sizes)\n",
    "loss"
   ]
  },
  {
   "cell_type": "markdown",
   "id": "4dd8e4bb-1556-4ab1-ac68-8f9d40088d98",
   "metadata": {},
   "source": [
    "## Train"
   ]
  },
  {
   "cell_type": "code",
   "execution_count": 30,
   "id": "b1341151-9a7f-4739-a401-01b454e30fa0",
   "metadata": {},
   "outputs": [],
   "source": [
    "def train_one_epoch(model, optimizer, scheduler, dataloader, device, epoch, whf):\n",
    "    model.train()\n",
    "    dice = DiceLoss(3)\n",
    "    scaler = amp.GradScaler()\n",
    "    \n",
    "    dataset_size = 0\n",
    "    running_loss = 0.0\n",
    "    running_dice_loss = 0.0\n",
    "    running_whf_loss = 0.0\n",
    "    total_size = len(dataloader)\n",
    "    pbar = tqdm(enumerate(dataloader), total=total_size, desc='Train ', ncols=150)\n",
    "    \n",
    "    last_n_accumulate = total_size % CFG.n_accumulate\n",
    "    last_n_accumulate_begin = total_size - last_n_accumulate\n",
    "    \n",
    "    for step, subjects_batch in pbar:\n",
    "        images = subjects_batch['scan'][tio.DATA]\n",
    "        masks = subjects_batch['label'][tio.DATA]\n",
    "        original_sizes = subjects_batch['original_size']\n",
    "        original_sizes = torch.stack(subjects_batch['original_size']).transpose(0,1)\n",
    "        case_days = subjects_batch['case_day']\n",
    "        \n",
    "        images = images.to(device, dtype=torch.float)\n",
    "        masks  = masks.to(device, dtype=torch.float)\n",
    "        original_sizes = original_sizes.to(device, dtype=torch.float)\n",
    "        \n",
    "        batch_size = images.size(0)\n",
    "        \n",
    "        mask_max_pool = nn.functional.max_pool3d(masks,CFG.whf_pool_size)\n",
    "        segmentation_indices = []\n",
    "        for i in range(batch_size):\n",
    "            class_segmentation_indices = [item.to(CFG.device) for item in get_segmtation_indices(mask_max_pool[i])]\n",
    "            segmentation_indices.append(class_segmentation_indices)\n",
    "        \n",
    "        with amp.autocast(enabled=True):\n",
    "            y_preds = model(images)\n",
    "            dice_loss = dice(y_preds, masks)\n",
    "            whf_loss = whf(nn.functional.avg_pool3d(y_preds, CFG.whf_pool_size), segmentation_indices, original_sizes)\n",
    "            loss = 0.4 * dice_loss + 0.6 * whf_loss\n",
    "\n",
    "        if step >= last_n_accumulate_begin:\n",
    "            current_n_accumulate = last_n_accumulate\n",
    "            need_update = step + 1 == total_size\n",
    "            \n",
    "            \n",
    "        else:\n",
    "            current_n_accumulate = CFG.n_accumulate\n",
    "            need_update =  (step + 1) % CFG.n_accumulate == 0\n",
    "            \n",
    "        scaler.scale(loss / current_n_accumulate).backward()\n",
    "    \n",
    "        if need_update:\n",
    "            scaler.step(optimizer)\n",
    "            scaler.update()\n",
    "\n",
    "            # zero the parameter gradients\n",
    "            optimizer.zero_grad()\n",
    "\n",
    "            if scheduler is not None:\n",
    "                scheduler.step()\n",
    "        \n",
    "        running_loss += (loss.item() * batch_size)\n",
    "        running_dice_loss += (dice_loss.item() * batch_size)\n",
    "        running_whf_loss += (whf_loss.item() * batch_size)\n",
    "        dataset_size += batch_size\n",
    "        \n",
    "        epoch_loss = running_loss / dataset_size\n",
    "        epoch_dice_loss = running_dice_loss / dataset_size\n",
    "        epoch_whf_loss = running_whf_loss / dataset_size\n",
    "        \n",
    "        mem = torch.cuda.memory_reserved() / 1E9 if torch.cuda.is_available() else 0\n",
    "        current_lr = optimizer.param_groups[0]['lr']\n",
    "        pbar.set_postfix(train_loss=f'{epoch_loss:0.4f}', l_dice=f'{epoch_dice_loss:0.4f}', l_whf=f'{epoch_whf_loss:0.4f}',\n",
    "                        lr=f'{current_lr:0.8f}',\n",
    "                        gpu_mem=f'{mem:0.2f} GB')\n",
    "    torch.cuda.empty_cache()\n",
    "    gc.collect()\n",
    "    \n",
    "    return epoch_loss"
   ]
  },
  {
   "cell_type": "code",
   "execution_count": 31,
   "id": "fe08882f-1c41-4c9b-8c83-511dd8ccdf36",
   "metadata": {},
   "outputs": [],
   "source": [
    "def dice_coef(y_true, y_pred, thr=0.5, dim=(2,3,4), epsilon=0.001):\n",
    "    y_true = y_true.to(torch.float32)\n",
    "    y_pred = (y_pred>thr).to(torch.float32)\n",
    "    inter = (y_true*y_pred).sum(dim=dim)\n",
    "    den = y_true.sum(dim=dim) + y_pred.sum(dim=dim)\n",
    "    dice = ((2*inter+epsilon)/(den+epsilon)).mean(dim=(1,0))\n",
    "    return dice\n",
    "\n",
    "def iou_coef(y_true, y_pred, thr=0.5, dim=(2,3, 4), epsilon=0.001):\n",
    "    y_true = y_true.to(torch.float32)\n",
    "    y_pred = (y_pred>thr).to(torch.float32)\n",
    "    inter = (y_true*y_pred).sum(dim=dim)\n",
    "    union = (y_true + y_pred - y_true*y_pred).sum(dim=dim)\n",
    "    iou = ((inter+epsilon)/(union+epsilon)).mean(dim=(1,0))\n",
    "    return iou\n",
    "\n",
    "@torch.no_grad()\n",
    "def valid_one_epoch(model, dataloader, device, epoch, whf):\n",
    "    model.eval()\n",
    "    dice = DiceLoss(3)\n",
    "    \n",
    "    dataset_size = 0\n",
    "    running_loss = 0.0\n",
    "    running_dice_loss = 0.0\n",
    "    running_whf_loss = 0.0\n",
    "    \n",
    "    val_scores = []\n",
    "    \n",
    "    pbar = tqdm(enumerate(dataloader), total=len(dataloader), desc='Valid ', ncols=150)\n",
    "   \n",
    "    for step, subjects_batch in pbar:\n",
    "        images = subjects_batch['scan'][tio.DATA]\n",
    "        masks = subjects_batch['label'][tio.DATA]\n",
    "        original_sizes = subjects_batch['original_size']\n",
    "        original_sizes = torch.stack(subjects_batch['original_size']).transpose(0,1)\n",
    "        case_days = subjects_batch['case_day']\n",
    "\n",
    "        images = images.to(device, dtype=torch.float)\n",
    "        masks  = masks.to(device, dtype=torch.float)\n",
    "        original_sizes = original_sizes.to(device, dtype=torch.float)\n",
    "        \n",
    "        batch_size = images.size(0)\n",
    "        \n",
    "        # max pooling the mask to decrease spaital size.\n",
    "        mask_max_pool = nn.functional.max_pool3d(masks,CFG.whf_pool_size)\n",
    "        segmentation_indices = []\n",
    "        for i in range(batch_size):\n",
    "            class_segmentation_indices = [item.to(CFG.device) for item in get_segmtation_indices(mask_max_pool[i])]\n",
    "            segmentation_indices.append(class_segmentation_indices)\n",
    "        \n",
    "        y_preds  = model(images)\n",
    "        dice_loss = dice(y_preds, masks)\n",
    "        # average pooling the prediction to decrease spatial size and use max pooled ground truth, \n",
    "        # because whf loss calculation require a lot of memory without decrasing the spatial size.\n",
    "        # amount of memory required grows quadratically as the spatial size grows\n",
    "        whf_loss = whf(nn.functional.avg_pool3d(y_preds, CFG.whf_pool_size), segmentation_indices, original_sizes)\n",
    "        loss = 0.4 * dice_loss + 0.6 * whf_loss\n",
    "        \n",
    "        running_loss += (loss.item() * batch_size)\n",
    "        running_dice_loss += (dice_loss.item() * batch_size)\n",
    "        running_whf_loss += (whf_loss.item() * batch_size)\n",
    "        dataset_size += batch_size\n",
    "        \n",
    "        epoch_loss = running_loss / dataset_size\n",
    "        epoch_dice_loss = running_dice_loss / dataset_size\n",
    "        epoch_whf_loss = running_whf_loss / dataset_size\n",
    "        \n",
    "        # y_pred = nn.Sigmoid()(y_pred)\n",
    "        val_dice = dice_coef(masks, y_preds).cpu().detach().numpy()\n",
    "        val_jaccard = iou_coef(masks, y_preds).cpu().detach().numpy()\n",
    "        val_scores.append([val_dice, val_jaccard])\n",
    "        \n",
    "        mem = torch.cuda.memory_reserved() / 1E9 if torch.cuda.is_available() else 0\n",
    "        pbar.set_postfix(valid_loss=f'{epoch_loss:0.4f}', l_dice=f'{epoch_dice_loss:0.4f}', l_whf=f'{epoch_whf_loss:0.4f}',\n",
    "                        gpu_memory=f'{mem:0.2f} GB')\n",
    "    val_scores = np.mean(val_scores, axis=0)\n",
    "    torch.cuda.empty_cache()\n",
    "    gc.collect()\n",
    "    \n",
    "    return epoch_loss, val_scores"
   ]
  },
  {
   "cell_type": "code",
   "execution_count": 32,
   "id": "f25fc259-35ee-4c51-a115-84969917e339",
   "metadata": {},
   "outputs": [],
   "source": [
    "def run_training(fold, model, whf_loss_func, optimizer, scheduler, device, num_epochs):\n",
    "    # To automatically log gradients\n",
    "    # wandb.watch(model, log_freq=100)\n",
    "    \n",
    "    if torch.cuda.is_available():\n",
    "        print(\"cuda: {}\\n\".format(torch.cuda.get_device_name()))\n",
    "    \n",
    "    start = time.time()\n",
    "    best_model_wts = copy.deepcopy(model.state_dict())\n",
    "    best_loss      = np.inf\n",
    "    best_epoch     = -1\n",
    "    history = defaultdict(list)\n",
    "    \n",
    "    for epoch in range(1, num_epochs + 1): \n",
    "        gc.collect()\n",
    "        print(f'Epoch {epoch}/{num_epochs}', end='')\n",
    "        train_loss = train_one_epoch(model, optimizer, scheduler, \n",
    "                                           dataloader=train_loader, \n",
    "                                           device=CFG.device, epoch=epoch, whf=whf_loss_func)\n",
    "        \n",
    "        val_loss, val_scores = valid_one_epoch(model, valid_loader, \n",
    "                                                 device=CFG.device, \n",
    "                                                 epoch=epoch, whf=whf_loss)\n",
    "        val_dice, val_jaccard = val_scores\n",
    "    \n",
    "        history['Train Loss'].append(train_loss)\n",
    "        history['Valid Loss'].append(val_loss)\n",
    "        history['Valid Dice'].append(val_dice)\n",
    "        history['Valid Jaccard'].append(val_jaccard)\n",
    "        \n",
    "        # Log the metrics\n",
    "        \"\"\"\n",
    "        wandb.log({\"Train Loss\": train_loss, \n",
    "                   \"Valid Loss\": val_loss,\n",
    "                   \"Valid Dice\": val_dice,\n",
    "                   \"Valid Jaccard\": val_jaccard,\n",
    "                   \"LR\":scheduler.get_last_lr()[0]})\n",
    "        \"\"\"\n",
    "        print(f'Valid Dice: {val_dice:0.4f} | Valid Jaccard: {val_jaccard:0.4f} | Valid Loss: {val_loss:0.8f}')\n",
    "        \n",
    "        # deep copy the model\n",
    "        if val_loss <= best_loss:\n",
    "            print(f\"Valid loss Improved ({best_loss:0.4f} ---> {val_loss:0.4f})\")\n",
    "            best_loss    = val_loss\n",
    "            best_jaccard = val_jaccard\n",
    "            best_dice = val_dice\n",
    "            best_epoch   = epoch\n",
    "            \"\"\"\n",
    "            run.summary[\"Best Dice\"]    = best_dice\n",
    "            run.summary[\"Best Jaccard\"] = best_jaccard\n",
    "            run.summary[\"Best Epoch\"]   = best_epoch\n",
    "            \"\"\"\n",
    "            best_model_wts = copy.deepcopy(model.state_dict())\n",
    "            save_path = f\"best_epoch-{fold:02d}.bin\"\n",
    "            torch.save(model.state_dict(), save_path)\n",
    "            # Save a model file from the current directory\n",
    "            # wandb.save(PATH)\n",
    "            print(f\"Model Saved\")\n",
    "            \n",
    "        last_model_wts = copy.deepcopy(model.state_dict())\n",
    "        model_path = f\"last_epoch-{fold:02d}.bin\"\n",
    "        torch.save(model.state_dict(), model_path)\n",
    "            \n",
    "        print(); print()\n",
    "    \n",
    "    end = time.time()\n",
    "    time_elapsed = end - start\n",
    "    print('Training complete in {:.0f}h {:.0f}m {:.0f}s'.format(\n",
    "        time_elapsed // 3600, (time_elapsed % 3600) // 60, (time_elapsed % 3600) % 60))\n",
    "    print(\"Best Loss: {:.4f}\".format(best_loss))\n",
    "    \n",
    "    # load best model weights\n",
    "    model.load_state_dict(best_model_wts)\n",
    "    \n",
    "    return model, history"
   ]
  },
  {
   "cell_type": "code",
   "execution_count": 33,
   "id": "afe660c4-7b0a-4994-bfa9-71e80756fb4b",
   "metadata": {},
   "outputs": [],
   "source": [
    "def fetch_scheduler(optimizer):\n",
    "    if CFG.scheduler == 'CosineAnnealingLR':\n",
    "        scheduler = lr_scheduler.CosineAnnealingLR(optimizer,T_max=CFG.T_max, \n",
    "                                                   eta_min=CFG.min_lr)\n",
    "    elif CFG.scheduler == 'CosineAnnealingWarmRestarts':\n",
    "        scheduler = lr_scheduler.CosineAnnealingWarmRestarts(optimizer,T_0=CFG.T_0, \n",
    "                                                             eta_min=CFG.min_lr)\n",
    "    elif CFG.scheduler == 'ReduceLROnPlateau':\n",
    "        scheduler = lr_scheduler.ReduceLROnPlateau(optimizer,\n",
    "                                                   mode='min',\n",
    "                                                   factor=0.1,\n",
    "                                                   patience=7,\n",
    "                                                   threshold=0.0001,\n",
    "                                                   min_lr=CFG.min_lr,)\n",
    "    elif CFG.scheduer == 'ExponentialLR':\n",
    "        scheduler = lr_scheduler.ExponentialLR(optimizer, gamma=0.85)\n",
    "    elif CFG.scheduler == None:\n",
    "        return None\n",
    "        \n",
    "    return scheduler"
   ]
  },
  {
   "cell_type": "code",
   "execution_count": null,
   "id": "d0c649ee-6045-4480-8f48-09f66093ded8",
   "metadata": {},
   "outputs": [
    {
     "name": "stdout",
     "output_type": "stream",
     "text": [
      "###############\n",
      "### Fold: 0\n",
      "###############\n",
      "cuda: NVIDIA GeForce RTX 2080 Ti\n",
      "\n",
      "Epoch 1/128"
     ]
    },
    {
     "name": "stderr",
     "output_type": "stream",
     "text": [
      "Train : 100%|███████████████████████| 219/219 [05:21<00:00,  1.47s/it, gpu_mem=8.45 GB, l_dice=0.7340, l_whf=0.1128, lr=0.00000200, train_loss=0.3613]\n",
      "Valid : 100%|█████████████████████████████████████| 55/55 [01:26<00:00,  1.56s/it, gpu_memory=6.61 GB, l_dice=0.7427, l_whf=0.1158, valid_loss=0.3666]\n"
     ]
    },
    {
     "name": "stdout",
     "output_type": "stream",
     "text": [
      "Valid Dice: 0.2567 | Valid Jaccard: 0.1511 | Valid Loss: 0.36658709\n",
      "Valid loss Improved (inf ---> 0.3666)\n",
      "Model Saved\n",
      "\n",
      "\n",
      "Epoch 2/128"
     ]
    },
    {
     "name": "stderr",
     "output_type": "stream",
     "text": [
      "Train : 100%|███████████████████████| 219/219 [05:14<00:00,  1.43s/it, gpu_mem=9.59 GB, l_dice=0.7341, l_whf=0.1121, lr=0.00000200, train_loss=0.3609]\n",
      "Valid : 100%|█████████████████████████████████████| 55/55 [01:19<00:00,  1.45s/it, gpu_memory=6.34 GB, l_dice=0.7480, l_whf=0.1127, valid_loss=0.3668]\n"
     ]
    },
    {
     "name": "stdout",
     "output_type": "stream",
     "text": [
      "Valid Dice: 0.2522 | Valid Jaccard: 0.1479 | Valid Loss: 0.36684185\n",
      "\n",
      "\n",
      "Epoch 3/128"
     ]
    },
    {
     "name": "stderr",
     "output_type": "stream",
     "text": [
      "Train : 100%|███████████████████████| 219/219 [04:52<00:00,  1.34s/it, gpu_mem=8.32 GB, l_dice=0.7295, l_whf=0.1135, lr=0.00000200, train_loss=0.3599]\n",
      "Valid : 100%|█████████████████████████████████████| 55/55 [01:14<00:00,  1.36s/it, gpu_memory=6.83 GB, l_dice=0.7414, l_whf=0.1173, valid_loss=0.3669]\n"
     ]
    },
    {
     "name": "stdout",
     "output_type": "stream",
     "text": [
      "Valid Dice: 0.2579 | Valid Jaccard: 0.1519 | Valid Loss: 0.36692349\n",
      "\n",
      "\n",
      "Epoch 4/128"
     ]
    },
    {
     "name": "stderr",
     "output_type": "stream",
     "text": [
      "Train : 100%|███████████████████████| 219/219 [04:48<00:00,  1.32s/it, gpu_mem=8.51 GB, l_dice=0.7311, l_whf=0.1129, lr=0.00000200, train_loss=0.3602]\n",
      "Valid : 100%|█████████████████████████████████████| 55/55 [01:14<00:00,  1.35s/it, gpu_memory=6.35 GB, l_dice=0.7418, l_whf=0.1137, valid_loss=0.3649]\n"
     ]
    },
    {
     "name": "stdout",
     "output_type": "stream",
     "text": [
      "Valid Dice: 0.2588 | Valid Jaccard: 0.1524 | Valid Loss: 0.36493004\n",
      "Valid loss Improved (0.3666 ---> 0.3649)\n",
      "Model Saved\n",
      "\n",
      "\n",
      "Epoch 5/128"
     ]
    },
    {
     "name": "stderr",
     "output_type": "stream",
     "text": [
      "Train : 100%|███████████████████████| 219/219 [04:42<00:00,  1.29s/it, gpu_mem=9.18 GB, l_dice=0.7303, l_whf=0.1137, lr=0.00000200, train_loss=0.3604]\n",
      "Valid : 100%|█████████████████████████████████████| 55/55 [01:15<00:00,  1.38s/it, gpu_memory=6.34 GB, l_dice=0.7425, l_whf=0.1151, valid_loss=0.3661]\n"
     ]
    },
    {
     "name": "stdout",
     "output_type": "stream",
     "text": [
      "Valid Dice: 0.2572 | Valid Jaccard: 0.1510 | Valid Loss: 0.36608282\n",
      "\n",
      "\n",
      "Epoch 6/128"
     ]
    },
    {
     "name": "stderr",
     "output_type": "stream",
     "text": [
      "Train : 100%|███████████████████████| 219/219 [04:46<00:00,  1.31s/it, gpu_mem=8.42 GB, l_dice=0.7289, l_whf=0.1142, lr=0.00000199, train_loss=0.3601]\n",
      "Valid : 100%|█████████████████████████████████████| 55/55 [01:12<00:00,  1.32s/it, gpu_memory=6.40 GB, l_dice=0.7395, l_whf=0.1115, valid_loss=0.3627]\n"
     ]
    },
    {
     "name": "stdout",
     "output_type": "stream",
     "text": [
      "Valid Dice: 0.2627 | Valid Jaccard: 0.1549 | Valid Loss: 0.36272665\n",
      "Valid loss Improved (0.3649 ---> 0.3627)\n",
      "Model Saved\n",
      "\n",
      "\n",
      "Epoch 7/128"
     ]
    },
    {
     "name": "stderr",
     "output_type": "stream",
     "text": [
      "Train : 100%|███████████████████████| 219/219 [04:47<00:00,  1.31s/it, gpu_mem=9.31 GB, l_dice=0.7315, l_whf=0.1129, lr=0.00000199, train_loss=0.3603]\n",
      "Valid : 100%|█████████████████████████████████████| 55/55 [01:14<00:00,  1.36s/it, gpu_memory=6.38 GB, l_dice=0.7423, l_whf=0.1182, valid_loss=0.3679]\n"
     ]
    },
    {
     "name": "stdout",
     "output_type": "stream",
     "text": [
      "Valid Dice: 0.2570 | Valid Jaccard: 0.1513 | Valid Loss: 0.36786189\n",
      "\n",
      "\n",
      "Epoch 8/128"
     ]
    },
    {
     "name": "stderr",
     "output_type": "stream",
     "text": [
      "Train : 100%|███████████████████████| 219/219 [05:11<00:00,  1.42s/it, gpu_mem=8.38 GB, l_dice=0.7328, l_whf=0.1159, lr=0.00000199, train_loss=0.3627]\n",
      "Valid : 100%|█████████████████████████████████████| 55/55 [01:22<00:00,  1.50s/it, gpu_memory=6.44 GB, l_dice=0.7444, l_whf=0.1156, valid_loss=0.3671]\n"
     ]
    },
    {
     "name": "stdout",
     "output_type": "stream",
     "text": [
      "Valid Dice: 0.2556 | Valid Jaccard: 0.1502 | Valid Loss: 0.36712940\n",
      "\n",
      "\n",
      "Epoch 9/128"
     ]
    },
    {
     "name": "stderr",
     "output_type": "stream",
     "text": [
      "Train : 100%|███████████████████████| 219/219 [04:53<00:00,  1.34s/it, gpu_mem=8.97 GB, l_dice=0.7320, l_whf=0.1142, lr=0.00000199, train_loss=0.3613]\n",
      "Valid : 100%|█████████████████████████████████████| 55/55 [01:16<00:00,  1.38s/it, gpu_memory=6.41 GB, l_dice=0.7403, l_whf=0.1143, valid_loss=0.3647]\n"
     ]
    },
    {
     "name": "stdout",
     "output_type": "stream",
     "text": [
      "Valid Dice: 0.2616 | Valid Jaccard: 0.1543 | Valid Loss: 0.36466506\n",
      "\n",
      "\n",
      "Epoch 10/128"
     ]
    },
    {
     "name": "stderr",
     "output_type": "stream",
     "text": [
      "Train : 100%|███████████████████████| 219/219 [04:39<00:00,  1.27s/it, gpu_mem=8.78 GB, l_dice=0.7282, l_whf=0.1137, lr=0.00000199, train_loss=0.3595]\n",
      "Valid : 100%|█████████████████████████████████████| 55/55 [01:19<00:00,  1.44s/it, gpu_memory=6.39 GB, l_dice=0.7384, l_whf=0.1165, valid_loss=0.3652]\n"
     ]
    },
    {
     "name": "stdout",
     "output_type": "stream",
     "text": [
      "Valid Dice: 0.2633 | Valid Jaccard: 0.1556 | Valid Loss: 0.36524685\n",
      "\n",
      "\n",
      "Epoch 11/128"
     ]
    },
    {
     "name": "stderr",
     "output_type": "stream",
     "text": [
      "Train : 100%|██████████████████████| 219/219 [05:05<00:00,  1.40s/it, gpu_mem=10.46 GB, l_dice=0.7307, l_whf=0.1131, lr=0.00000198, train_loss=0.3602]\n",
      "Valid : 100%|█████████████████████████████████████| 55/55 [01:18<00:00,  1.43s/it, gpu_memory=6.44 GB, l_dice=0.7468, l_whf=0.1121, valid_loss=0.3660]\n"
     ]
    },
    {
     "name": "stdout",
     "output_type": "stream",
     "text": [
      "Valid Dice: 0.2534 | Valid Jaccard: 0.1488 | Valid Loss: 0.36599101\n",
      "\n",
      "\n",
      "Epoch 12/128"
     ]
    },
    {
     "name": "stderr",
     "output_type": "stream",
     "text": [
      "Train : 100%|███████████████████████| 219/219 [04:58<00:00,  1.37s/it, gpu_mem=8.98 GB, l_dice=0.7299, l_whf=0.1126, lr=0.00000198, train_loss=0.3595]\n",
      "Valid : 100%|█████████████████████████████████████| 55/55 [01:19<00:00,  1.44s/it, gpu_memory=6.36 GB, l_dice=0.7354, l_whf=0.1161, valid_loss=0.3638]\n"
     ]
    },
    {
     "name": "stdout",
     "output_type": "stream",
     "text": [
      "Valid Dice: 0.2659 | Valid Jaccard: 0.1572 | Valid Loss: 0.36380212\n",
      "\n",
      "\n",
      "Epoch 13/128"
     ]
    },
    {
     "name": "stderr",
     "output_type": "stream",
     "text": [
      "Train : 100%|███████████████████████| 219/219 [05:07<00:00,  1.41s/it, gpu_mem=9.72 GB, l_dice=0.7255, l_whf=0.1151, lr=0.00000198, train_loss=0.3592]\n",
      "Valid : 100%|█████████████████████████████████████| 55/55 [01:22<00:00,  1.51s/it, gpu_memory=6.46 GB, l_dice=0.7507, l_whf=0.1133, valid_loss=0.3683]\n"
     ]
    },
    {
     "name": "stdout",
     "output_type": "stream",
     "text": [
      "Valid Dice: 0.2508 | Valid Jaccard: 0.1474 | Valid Loss: 0.36827771\n",
      "\n",
      "\n",
      "Epoch 14/128"
     ]
    },
    {
     "name": "stderr",
     "output_type": "stream",
     "text": [
      "Train : 100%|███████████████████████| 219/219 [05:01<00:00,  1.38s/it, gpu_mem=9.10 GB, l_dice=0.7288, l_whf=0.1120, lr=0.00000197, train_loss=0.3587]\n",
      "Valid : 100%|█████████████████████████████████████| 55/55 [01:14<00:00,  1.36s/it, gpu_memory=6.39 GB, l_dice=0.7410, l_whf=0.1160, valid_loss=0.3660]\n"
     ]
    },
    {
     "name": "stdout",
     "output_type": "stream",
     "text": [
      "Valid Dice: 0.2587 | Valid Jaccard: 0.1525 | Valid Loss: 0.36600034\n",
      "\n",
      "\n",
      "Epoch 15/128"
     ]
    },
    {
     "name": "stderr",
     "output_type": "stream",
     "text": [
      "Train : 100%|███████████████████████| 219/219 [04:48<00:00,  1.32s/it, gpu_mem=8.34 GB, l_dice=0.7279, l_whf=0.1176, lr=0.00000197, train_loss=0.3617]\n",
      "Valid : 100%|█████████████████████████████████████| 55/55 [01:18<00:00,  1.42s/it, gpu_memory=6.97 GB, l_dice=0.7341, l_whf=0.1156, valid_loss=0.3630]\n"
     ]
    },
    {
     "name": "stdout",
     "output_type": "stream",
     "text": [
      "Valid Dice: 0.2678 | Valid Jaccard: 0.1585 | Valid Loss: 0.36301098\n",
      "\n",
      "\n",
      "Epoch 16/128"
     ]
    },
    {
     "name": "stderr",
     "output_type": "stream",
     "text": [
      "Train : 100%|███████████████████████| 219/219 [04:51<00:00,  1.33s/it, gpu_mem=9.17 GB, l_dice=0.7281, l_whf=0.1143, lr=0.00000196, train_loss=0.3598]\n",
      "Valid : 100%|█████████████████████████████████████| 55/55 [01:20<00:00,  1.46s/it, gpu_memory=6.48 GB, l_dice=0.7506, l_whf=0.1130, valid_loss=0.3680]\n"
     ]
    },
    {
     "name": "stdout",
     "output_type": "stream",
     "text": [
      "Valid Dice: 0.2506 | Valid Jaccard: 0.1472 | Valid Loss: 0.36802799\n",
      "\n",
      "\n",
      "Epoch 17/128"
     ]
    },
    {
     "name": "stderr",
     "output_type": "stream",
     "text": [
      "Train : 100%|███████████████████████| 219/219 [04:51<00:00,  1.33s/it, gpu_mem=9.59 GB, l_dice=0.7290, l_whf=0.1130, lr=0.00000196, train_loss=0.3594]\n",
      "Valid : 100%|█████████████████████████████████████| 55/55 [01:15<00:00,  1.37s/it, gpu_memory=6.90 GB, l_dice=0.7369, l_whf=0.1162, valid_loss=0.3645]\n"
     ]
    },
    {
     "name": "stdout",
     "output_type": "stream",
     "text": [
      "Valid Dice: 0.2653 | Valid Jaccard: 0.1572 | Valid Loss: 0.36447876\n",
      "\n",
      "\n",
      "Epoch 18/128"
     ]
    },
    {
     "name": "stderr",
     "output_type": "stream",
     "text": [
      "Train : 100%|███████████████████████| 219/219 [04:45<00:00,  1.31s/it, gpu_mem=8.47 GB, l_dice=0.7240, l_whf=0.1156, lr=0.00000196, train_loss=0.3590]\n",
      "Valid : 100%|█████████████████████████████████████| 55/55 [01:16<00:00,  1.39s/it, gpu_memory=6.41 GB, l_dice=0.7382, l_whf=0.1143, valid_loss=0.3638]\n"
     ]
    },
    {
     "name": "stdout",
     "output_type": "stream",
     "text": [
      "Valid Dice: 0.2655 | Valid Jaccard: 0.1574 | Valid Loss: 0.36383524\n",
      "\n",
      "\n",
      "Epoch 19/128"
     ]
    },
    {
     "name": "stderr",
     "output_type": "stream",
     "text": [
      "Train : 100%|███████████████████████| 219/219 [04:44<00:00,  1.30s/it, gpu_mem=8.58 GB, l_dice=0.7258, l_whf=0.1124, lr=0.00000195, train_loss=0.3578]\n",
      "Valid : 100%|█████████████████████████████████████| 55/55 [01:13<00:00,  1.33s/it, gpu_memory=6.96 GB, l_dice=0.7486, l_whf=0.1191, valid_loss=0.3709]\n"
     ]
    },
    {
     "name": "stdout",
     "output_type": "stream",
     "text": [
      "Valid Dice: 0.2504 | Valid Jaccard: 0.1473 | Valid Loss: 0.37090067\n",
      "\n",
      "\n",
      "Epoch 20/128"
     ]
    },
    {
     "name": "stderr",
     "output_type": "stream",
     "text": [
      "Train : 100%|███████████████████████| 219/219 [04:45<00:00,  1.30s/it, gpu_mem=8.93 GB, l_dice=0.7241, l_whf=0.1161, lr=0.00000194, train_loss=0.3593]\n",
      "Valid : 100%|█████████████████████████████████████| 55/55 [01:15<00:00,  1.36s/it, gpu_memory=6.39 GB, l_dice=0.7321, l_whf=0.1179, valid_loss=0.3636]\n"
     ]
    },
    {
     "name": "stdout",
     "output_type": "stream",
     "text": [
      "Valid Dice: 0.2699 | Valid Jaccard: 0.1604 | Valid Loss: 0.36357014\n",
      "\n",
      "\n",
      "Epoch 21/128"
     ]
    },
    {
     "name": "stderr",
     "output_type": "stream",
     "text": [
      "Train : 100%|███████████████████████| 219/219 [04:41<00:00,  1.29s/it, gpu_mem=8.42 GB, l_dice=0.7233, l_whf=0.1152, lr=0.00000194, train_loss=0.3584]\n",
      "Valid : 100%|█████████████████████████████████████| 55/55 [01:12<00:00,  1.32s/it, gpu_memory=6.92 GB, l_dice=0.7367, l_whf=0.1141, valid_loss=0.3632]\n"
     ]
    },
    {
     "name": "stdout",
     "output_type": "stream",
     "text": [
      "Valid Dice: 0.2667 | Valid Jaccard: 0.1579 | Valid Loss: 0.36316069\n",
      "\n",
      "\n",
      "Epoch 22/128"
     ]
    },
    {
     "name": "stderr",
     "output_type": "stream",
     "text": [
      "Train : 100%|███████████████████████| 219/219 [04:43<00:00,  1.29s/it, gpu_mem=8.63 GB, l_dice=0.7237, l_whf=0.1133, lr=0.00000193, train_loss=0.3575]\n",
      "Valid : 100%|█████████████████████████████████████| 55/55 [01:17<00:00,  1.41s/it, gpu_memory=6.40 GB, l_dice=0.7408, l_whf=0.1169, valid_loss=0.3665]\n"
     ]
    },
    {
     "name": "stdout",
     "output_type": "stream",
     "text": [
      "Valid Dice: 0.2619 | Valid Jaccard: 0.1548 | Valid Loss: 0.36649992\n",
      "\n",
      "\n",
      "Epoch 23/128"
     ]
    },
    {
     "name": "stderr",
     "output_type": "stream",
     "text": [
      "Train : 100%|██████████████████████| 219/219 [04:59<00:00,  1.37s/it, gpu_mem=10.48 GB, l_dice=0.7221, l_whf=0.1148, lr=0.00000193, train_loss=0.3577]\n",
      "Valid : 100%|█████████████████████████████████████| 55/55 [01:24<00:00,  1.53s/it, gpu_memory=7.43 GB, l_dice=0.7305, l_whf=0.1182, valid_loss=0.3631]\n"
     ]
    },
    {
     "name": "stdout",
     "output_type": "stream",
     "text": [
      "Valid Dice: 0.2705 | Valid Jaccard: 0.1606 | Valid Loss: 0.36309352\n",
      "\n",
      "\n",
      "Epoch 24/128"
     ]
    },
    {
     "name": "stderr",
     "output_type": "stream",
     "text": [
      "Train : 100%|███████████████████████| 219/219 [04:53<00:00,  1.34s/it, gpu_mem=9.11 GB, l_dice=0.7200, l_whf=0.1159, lr=0.00000192, train_loss=0.3576]\n",
      "Valid : 100%|█████████████████████████████████████| 55/55 [01:11<00:00,  1.30s/it, gpu_memory=6.85 GB, l_dice=0.7400, l_whf=0.1201, valid_loss=0.3681]\n"
     ]
    },
    {
     "name": "stdout",
     "output_type": "stream",
     "text": [
      "Valid Dice: 0.2614 | Valid Jaccard: 0.1548 | Valid Loss: 0.36806022\n",
      "\n",
      "\n",
      "Epoch 25/128"
     ]
    },
    {
     "name": "stderr",
     "output_type": "stream",
     "text": [
      "Train : 100%|███████████████████████| 219/219 [04:48<00:00,  1.32s/it, gpu_mem=9.05 GB, l_dice=0.7214, l_whf=0.1148, lr=0.00000191, train_loss=0.3574]\n",
      "Valid : 100%|█████████████████████████████████████| 55/55 [01:13<00:00,  1.33s/it, gpu_memory=6.44 GB, l_dice=0.7310, l_whf=0.1191, valid_loss=0.3638]\n"
     ]
    },
    {
     "name": "stdout",
     "output_type": "stream",
     "text": [
      "Valid Dice: 0.2696 | Valid Jaccard: 0.1602 | Valid Loss: 0.36384187\n",
      "\n",
      "\n",
      "Epoch 26/128"
     ]
    },
    {
     "name": "stderr",
     "output_type": "stream",
     "text": [
      "Train : 100%|███████████████████████| 219/219 [04:51<00:00,  1.33s/it, gpu_mem=8.45 GB, l_dice=0.7187, l_whf=0.1174, lr=0.00000191, train_loss=0.3580]\n",
      "Valid : 100%|█████████████████████████████████████| 55/55 [01:16<00:00,  1.39s/it, gpu_memory=6.35 GB, l_dice=0.7330, l_whf=0.1172, valid_loss=0.3635]\n"
     ]
    },
    {
     "name": "stdout",
     "output_type": "stream",
     "text": [
      "Valid Dice: 0.2703 | Valid Jaccard: 0.1602 | Valid Loss: 0.36351300\n",
      "\n",
      "\n",
      "Epoch 27/128"
     ]
    },
    {
     "name": "stderr",
     "output_type": "stream",
     "text": [
      "Train : 100%|███████████████████████| 219/219 [04:49<00:00,  1.32s/it, gpu_mem=9.10 GB, l_dice=0.7215, l_whf=0.1136, lr=0.00000190, train_loss=0.3568]\n",
      "Valid : 100%|█████████████████████████████████████| 55/55 [01:18<00:00,  1.43s/it, gpu_memory=6.96 GB, l_dice=0.7406, l_whf=0.1173, valid_loss=0.3666]\n"
     ]
    },
    {
     "name": "stdout",
     "output_type": "stream",
     "text": [
      "Valid Dice: 0.2612 | Valid Jaccard: 0.1543 | Valid Loss: 0.36664496\n",
      "\n",
      "\n",
      "Epoch 28/128"
     ]
    },
    {
     "name": "stderr",
     "output_type": "stream",
     "text": [
      "Train : 100%|███████████████████████| 219/219 [04:38<00:00,  1.27s/it, gpu_mem=8.36 GB, l_dice=0.7152, l_whf=0.1149, lr=0.00000189, train_loss=0.3550]\n",
      "Valid : 100%|█████████████████████████████████████| 55/55 [01:17<00:00,  1.41s/it, gpu_memory=6.41 GB, l_dice=0.7347, l_whf=0.1198, valid_loss=0.3658]\n"
     ]
    },
    {
     "name": "stdout",
     "output_type": "stream",
     "text": [
      "Valid Dice: 0.2664 | Valid Jaccard: 0.1581 | Valid Loss: 0.36575094\n",
      "\n",
      "\n",
      "Epoch 29/128"
     ]
    },
    {
     "name": "stderr",
     "output_type": "stream",
     "text": [
      "Train : 100%|███████████████████████| 219/219 [04:59<00:00,  1.37s/it, gpu_mem=8.34 GB, l_dice=0.7172, l_whf=0.1161, lr=0.00000189, train_loss=0.3566]\n",
      "Valid : 100%|█████████████████████████████████████| 55/55 [01:18<00:00,  1.42s/it, gpu_memory=6.41 GB, l_dice=0.7397, l_whf=0.1184, valid_loss=0.3669]\n"
     ]
    },
    {
     "name": "stdout",
     "output_type": "stream",
     "text": [
      "Valid Dice: 0.2637 | Valid Jaccard: 0.1566 | Valid Loss: 0.36689211\n",
      "\n",
      "\n",
      "Epoch 30/128"
     ]
    },
    {
     "name": "stderr",
     "output_type": "stream",
     "text": [
      "Train : 100%|███████████████████████| 219/219 [04:51<00:00,  1.33s/it, gpu_mem=8.61 GB, l_dice=0.7206, l_whf=0.1167, lr=0.00000188, train_loss=0.3583]\n",
      "Valid : 100%|█████████████████████████████████████| 55/55 [01:16<00:00,  1.38s/it, gpu_memory=6.86 GB, l_dice=0.7348, l_whf=0.1180, valid_loss=0.3647]\n"
     ]
    },
    {
     "name": "stdout",
     "output_type": "stream",
     "text": [
      "Valid Dice: 0.2676 | Valid Jaccard: 0.1584 | Valid Loss: 0.36469799\n",
      "\n",
      "\n",
      "Epoch 31/128"
     ]
    },
    {
     "name": "stderr",
     "output_type": "stream",
     "text": [
      "Train : 100%|███████████████████████| 219/219 [04:52<00:00,  1.34s/it, gpu_mem=9.08 GB, l_dice=0.7196, l_whf=0.1151, lr=0.00000187, train_loss=0.3569]\n",
      "Valid : 100%|█████████████████████████████████████| 55/55 [01:16<00:00,  1.39s/it, gpu_memory=6.49 GB, l_dice=0.7333, l_whf=0.1176, valid_loss=0.3639]\n"
     ]
    },
    {
     "name": "stdout",
     "output_type": "stream",
     "text": [
      "Valid Dice: 0.2687 | Valid Jaccard: 0.1590 | Valid Loss: 0.36385868\n",
      "\n",
      "\n",
      "Epoch 32/128"
     ]
    },
    {
     "name": "stderr",
     "output_type": "stream",
     "text": [
      "Train : 100%|██████████████████████| 219/219 [04:52<00:00,  1.33s/it, gpu_mem=10.61 GB, l_dice=0.7177, l_whf=0.1168, lr=0.00000186, train_loss=0.3572]\n",
      "Valid : 100%|█████████████████████████████████████| 55/55 [01:14<00:00,  1.36s/it, gpu_memory=6.38 GB, l_dice=0.7302, l_whf=0.1169, valid_loss=0.3622]\n"
     ]
    },
    {
     "name": "stdout",
     "output_type": "stream",
     "text": [
      "Valid Dice: 0.2737 | Valid Jaccard: 0.1626 | Valid Loss: 0.36219977\n",
      "Valid loss Improved (0.3627 ---> 0.3622)\n",
      "Model Saved\n",
      "\n",
      "\n",
      "Epoch 33/128"
     ]
    },
    {
     "name": "stderr",
     "output_type": "stream",
     "text": [
      "Train : 100%|███████████████████████| 219/219 [04:45<00:00,  1.30s/it, gpu_mem=9.65 GB, l_dice=0.7225, l_whf=0.1135, lr=0.00000185, train_loss=0.3571]\n",
      "Valid : 100%|█████████████████████████████████████| 55/55 [01:16<00:00,  1.39s/it, gpu_memory=6.91 GB, l_dice=0.7357, l_whf=0.1171, valid_loss=0.3645]\n"
     ]
    },
    {
     "name": "stdout",
     "output_type": "stream",
     "text": [
      "Valid Dice: 0.2659 | Valid Jaccard: 0.1579 | Valid Loss: 0.36453897\n",
      "\n",
      "\n",
      "Epoch 34/128"
     ]
    },
    {
     "name": "stderr",
     "output_type": "stream",
     "text": [
      "Train : 100%|███████████████████████| 219/219 [04:53<00:00,  1.34s/it, gpu_mem=9.09 GB, l_dice=0.7201, l_whf=0.1176, lr=0.00000185, train_loss=0.3586]\n",
      "Valid : 100%|█████████████████████████████████████| 55/55 [01:20<00:00,  1.46s/it, gpu_memory=6.57 GB, l_dice=0.7264, l_whf=0.1178, valid_loss=0.3612]\n"
     ]
    },
    {
     "name": "stdout",
     "output_type": "stream",
     "text": [
      "Valid Dice: 0.2760 | Valid Jaccard: 0.1646 | Valid Loss: 0.36124204\n",
      "Valid loss Improved (0.3622 ---> 0.3612)\n",
      "Model Saved\n",
      "\n",
      "\n",
      "Epoch 35/128"
     ]
    },
    {
     "name": "stderr",
     "output_type": "stream",
     "text": [
      "Train : 100%|███████████████████████| 219/219 [04:51<00:00,  1.33s/it, gpu_mem=8.35 GB, l_dice=0.7158, l_whf=0.1141, lr=0.00000184, train_loss=0.3548]\n",
      "Valid : 100%|█████████████████████████████████████| 55/55 [01:16<00:00,  1.39s/it, gpu_memory=6.46 GB, l_dice=0.7383, l_whf=0.1180, valid_loss=0.3661]\n"
     ]
    },
    {
     "name": "stdout",
     "output_type": "stream",
     "text": [
      "Valid Dice: 0.2642 | Valid Jaccard: 0.1569 | Valid Loss: 0.36611141\n",
      "\n",
      "\n",
      "Epoch 36/128"
     ]
    },
    {
     "name": "stderr",
     "output_type": "stream",
     "text": [
      "Train : 100%|███████████████████████| 219/219 [04:42<00:00,  1.29s/it, gpu_mem=8.44 GB, l_dice=0.7183, l_whf=0.1178, lr=0.00000183, train_loss=0.3580]\n",
      "Valid : 100%|█████████████████████████████████████| 55/55 [01:20<00:00,  1.46s/it, gpu_memory=6.40 GB, l_dice=0.7363, l_whf=0.1148, valid_loss=0.3634]\n"
     ]
    },
    {
     "name": "stdout",
     "output_type": "stream",
     "text": [
      "Valid Dice: 0.2686 | Valid Jaccard: 0.1598 | Valid Loss: 0.36338094\n",
      "\n",
      "\n",
      "Epoch 37/128"
     ]
    },
    {
     "name": "stderr",
     "output_type": "stream",
     "text": [
      "Train : 100%|███████████████████████| 219/219 [04:51<00:00,  1.33s/it, gpu_mem=8.24 GB, l_dice=0.7180, l_whf=0.1161, lr=0.00000182, train_loss=0.3569]\n",
      "Valid : 100%|█████████████████████████████████████| 55/55 [01:15<00:00,  1.37s/it, gpu_memory=6.46 GB, l_dice=0.7281, l_whf=0.1192, valid_loss=0.3628]\n"
     ]
    },
    {
     "name": "stdout",
     "output_type": "stream",
     "text": [
      "Valid Dice: 0.2751 | Valid Jaccard: 0.1638 | Valid Loss: 0.36277537\n",
      "\n",
      "\n",
      "Epoch 38/128"
     ]
    },
    {
     "name": "stderr",
     "output_type": "stream",
     "text": [
      "Train : 100%|███████████████████████| 219/219 [04:45<00:00,  1.30s/it, gpu_mem=8.84 GB, l_dice=0.7164, l_whf=0.1178, lr=0.00000181, train_loss=0.3572]\n",
      "Valid : 100%|█████████████████████████████████████| 55/55 [01:15<00:00,  1.38s/it, gpu_memory=6.42 GB, l_dice=0.7335, l_whf=0.1197, valid_loss=0.3652]\n"
     ]
    },
    {
     "name": "stdout",
     "output_type": "stream",
     "text": [
      "Valid Dice: 0.2686 | Valid Jaccard: 0.1598 | Valid Loss: 0.36523489\n",
      "\n",
      "\n",
      "Epoch 39/128"
     ]
    },
    {
     "name": "stderr",
     "output_type": "stream",
     "text": [
      "Train : 100%|███████████████████████| 219/219 [05:21<00:00,  1.47s/it, gpu_mem=9.88 GB, l_dice=0.7147, l_whf=0.1152, lr=0.00000180, train_loss=0.3550]\n",
      "Valid : 100%|█████████████████████████████████████| 55/55 [01:25<00:00,  1.55s/it, gpu_memory=6.97 GB, l_dice=0.7370, l_whf=0.1172, valid_loss=0.3651]\n"
     ]
    },
    {
     "name": "stdout",
     "output_type": "stream",
     "text": [
      "Valid Dice: 0.2650 | Valid Jaccard: 0.1570 | Valid Loss: 0.36511700\n",
      "\n",
      "\n",
      "Epoch 40/128"
     ]
    },
    {
     "name": "stderr",
     "output_type": "stream",
     "text": [
      "Train : 100%|███████████████████████| 219/219 [05:15<00:00,  1.44s/it, gpu_mem=8.43 GB, l_dice=0.7197, l_whf=0.1164, lr=0.00000179, train_loss=0.3577]\n",
      "Valid : 100%|█████████████████████████████████████| 55/55 [01:20<00:00,  1.47s/it, gpu_memory=6.92 GB, l_dice=0.7311, l_whf=0.1176, valid_loss=0.3630]\n"
     ]
    },
    {
     "name": "stdout",
     "output_type": "stream",
     "text": [
      "Valid Dice: 0.2714 | Valid Jaccard: 0.1617 | Valid Loss: 0.36304234\n",
      "\n",
      "\n",
      "Epoch 41/128"
     ]
    },
    {
     "name": "stderr",
     "output_type": "stream",
     "text": [
      "Train : 100%|██████████████████████| 219/219 [04:55<00:00,  1.35s/it, gpu_mem=10.37 GB, l_dice=0.7162, l_whf=0.1149, lr=0.00000178, train_loss=0.3554]\n",
      "Valid : 100%|█████████████████████████████████████| 55/55 [01:16<00:00,  1.40s/it, gpu_memory=6.43 GB, l_dice=0.7244, l_whf=0.1189, valid_loss=0.3611]\n"
     ]
    },
    {
     "name": "stdout",
     "output_type": "stream",
     "text": [
      "Valid Dice: 0.2799 | Valid Jaccard: 0.1673 | Valid Loss: 0.36112980\n",
      "Valid loss Improved (0.3612 ---> 0.3611)\n",
      "Model Saved\n",
      "\n",
      "\n",
      "Epoch 42/128"
     ]
    },
    {
     "name": "stderr",
     "output_type": "stream",
     "text": [
      "Train : 100%|██████████████████████| 219/219 [04:48<00:00,  1.32s/it, gpu_mem=10.87 GB, l_dice=0.7095, l_whf=0.1198, lr=0.00000177, train_loss=0.3557]\n",
      "Valid : 100%|█████████████████████████████████████| 55/55 [01:15<00:00,  1.36s/it, gpu_memory=6.01 GB, l_dice=0.7306, l_whf=0.1178, valid_loss=0.3629]\n"
     ]
    },
    {
     "name": "stdout",
     "output_type": "stream",
     "text": [
      "Valid Dice: 0.2742 | Valid Jaccard: 0.1638 | Valid Loss: 0.36293640\n",
      "\n",
      "\n",
      "Epoch 43/128"
     ]
    },
    {
     "name": "stderr",
     "output_type": "stream",
     "text": [
      "Train : 100%|███████████████████████| 219/219 [04:59<00:00,  1.37s/it, gpu_mem=8.36 GB, l_dice=0.7168, l_whf=0.1143, lr=0.00000176, train_loss=0.3553]\n",
      "Valid : 100%|█████████████████████████████████████| 55/55 [01:15<00:00,  1.37s/it, gpu_memory=6.54 GB, l_dice=0.7316, l_whf=0.1214, valid_loss=0.3655]\n"
     ]
    },
    {
     "name": "stdout",
     "output_type": "stream",
     "text": [
      "Valid Dice: 0.2709 | Valid Jaccard: 0.1613 | Valid Loss: 0.36547034\n",
      "\n",
      "\n",
      "Epoch 44/128"
     ]
    },
    {
     "name": "stderr",
     "output_type": "stream",
     "text": [
      "Train : 100%|███████████████████████| 219/219 [04:48<00:00,  1.32s/it, gpu_mem=8.46 GB, l_dice=0.7092, l_whf=0.1193, lr=0.00000175, train_loss=0.3553]\n",
      "Valid : 100%|█████████████████████████████████████| 55/55 [01:19<00:00,  1.44s/it, gpu_memory=6.84 GB, l_dice=0.7336, l_whf=0.1274, valid_loss=0.3698]\n"
     ]
    },
    {
     "name": "stdout",
     "output_type": "stream",
     "text": [
      "Valid Dice: 0.2688 | Valid Jaccard: 0.1605 | Valid Loss: 0.36984688\n",
      "\n",
      "\n",
      "Epoch 45/128"
     ]
    },
    {
     "name": "stderr",
     "output_type": "stream",
     "text": [
      "Train : 100%|███████████████████████| 219/219 [04:50<00:00,  1.33s/it, gpu_mem=8.33 GB, l_dice=0.7135, l_whf=0.1174, lr=0.00000174, train_loss=0.3559]\n",
      "Valid : 100%|█████████████████████████████████████| 55/55 [01:16<00:00,  1.39s/it, gpu_memory=6.59 GB, l_dice=0.7264, l_whf=0.1258, valid_loss=0.3660]\n"
     ]
    },
    {
     "name": "stdout",
     "output_type": "stream",
     "text": [
      "Valid Dice: 0.2769 | Valid Jaccard: 0.1658 | Valid Loss: 0.36601999\n",
      "\n",
      "\n",
      "Epoch 46/128"
     ]
    },
    {
     "name": "stderr",
     "output_type": "stream",
     "text": [
      "Train : 100%|██████████████████████| 219/219 [04:53<00:00,  1.34s/it, gpu_mem=10.43 GB, l_dice=0.7147, l_whf=0.1189, lr=0.00000173, train_loss=0.3572]\n",
      "Valid : 100%|█████████████████████████████████████| 55/55 [01:15<00:00,  1.38s/it, gpu_memory=6.43 GB, l_dice=0.7396, l_whf=0.1185, valid_loss=0.3669]\n"
     ]
    },
    {
     "name": "stdout",
     "output_type": "stream",
     "text": [
      "Valid Dice: 0.2622 | Valid Jaccard: 0.1556 | Valid Loss: 0.36693296\n",
      "\n",
      "\n",
      "Epoch 47/128"
     ]
    },
    {
     "name": "stderr",
     "output_type": "stream",
     "text": [
      "Train : 100%|███████████████████████| 219/219 [05:09<00:00,  1.41s/it, gpu_mem=9.47 GB, l_dice=0.7118, l_whf=0.1154, lr=0.00000172, train_loss=0.3539]\n",
      "Valid : 100%|█████████████████████████████████████| 55/55 [01:19<00:00,  1.45s/it, gpu_memory=6.59 GB, l_dice=0.7297, l_whf=0.1192, valid_loss=0.3634]\n"
     ]
    },
    {
     "name": "stdout",
     "output_type": "stream",
     "text": [
      "Valid Dice: 0.2733 | Valid Jaccard: 0.1631 | Valid Loss: 0.36337132\n",
      "\n",
      "\n",
      "Epoch 48/128"
     ]
    },
    {
     "name": "stderr",
     "output_type": "stream",
     "text": [
      "Train : 100%|███████████████████████| 219/219 [04:57<00:00,  1.36s/it, gpu_mem=9.93 GB, l_dice=0.7142, l_whf=0.1167, lr=0.00000171, train_loss=0.3557]\n",
      "Valid : 100%|█████████████████████████████████████| 55/55 [01:15<00:00,  1.37s/it, gpu_memory=6.91 GB, l_dice=0.7248, l_whf=0.1202, valid_loss=0.3621]\n"
     ]
    },
    {
     "name": "stdout",
     "output_type": "stream",
     "text": [
      "Valid Dice: 0.2796 | Valid Jaccard: 0.1673 | Valid Loss: 0.36205729\n",
      "\n",
      "\n",
      "Epoch 49/128"
     ]
    },
    {
     "name": "stderr",
     "output_type": "stream",
     "text": [
      "Train : 100%|███████████████████████| 219/219 [04:51<00:00,  1.33s/it, gpu_mem=8.17 GB, l_dice=0.7136, l_whf=0.1162, lr=0.00000170, train_loss=0.3552]\n",
      "Valid : 100%|█████████████████████████████████████| 55/55 [01:14<00:00,  1.35s/it, gpu_memory=6.52 GB, l_dice=0.7256, l_whf=0.1220, valid_loss=0.3634]\n"
     ]
    },
    {
     "name": "stdout",
     "output_type": "stream",
     "text": [
      "Valid Dice: 0.2805 | Valid Jaccard: 0.1681 | Valid Loss: 0.36343739\n",
      "\n",
      "\n",
      "Epoch 50/128"
     ]
    },
    {
     "name": "stderr",
     "output_type": "stream",
     "text": [
      "Train : 100%|███████████████████████| 219/219 [04:52<00:00,  1.33s/it, gpu_mem=8.56 GB, l_dice=0.7087, l_whf=0.1173, lr=0.00000169, train_loss=0.3539]\n",
      "Valid : 100%|█████████████████████████████████████| 55/55 [01:15<00:00,  1.38s/it, gpu_memory=6.86 GB, l_dice=0.7222, l_whf=0.1212, valid_loss=0.3616]\n"
     ]
    },
    {
     "name": "stdout",
     "output_type": "stream",
     "text": [
      "Valid Dice: 0.2818 | Valid Jaccard: 0.1688 | Valid Loss: 0.36161972\n",
      "\n",
      "\n",
      "Epoch 51/128"
     ]
    },
    {
     "name": "stderr",
     "output_type": "stream",
     "text": [
      "Train : 100%|███████████████████████| 219/219 [04:57<00:00,  1.36s/it, gpu_mem=8.83 GB, l_dice=0.7097, l_whf=0.1188, lr=0.00000168, train_loss=0.3552]\n",
      "Valid : 100%|█████████████████████████████████████| 55/55 [01:16<00:00,  1.39s/it, gpu_memory=6.51 GB, l_dice=0.7320, l_whf=0.1215, valid_loss=0.3657]\n"
     ]
    },
    {
     "name": "stdout",
     "output_type": "stream",
     "text": [
      "Valid Dice: 0.2708 | Valid Jaccard: 0.1612 | Valid Loss: 0.36569320\n",
      "\n",
      "\n",
      "Epoch 52/128"
     ]
    },
    {
     "name": "stderr",
     "output_type": "stream",
     "text": [
      "Train : 100%|██████████████████████| 219/219 [04:56<00:00,  1.35s/it, gpu_mem=10.53 GB, l_dice=0.7115, l_whf=0.1191, lr=0.00000166, train_loss=0.3561]\n",
      "Valid : 100%|█████████████████████████████████████| 55/55 [01:19<00:00,  1.44s/it, gpu_memory=6.45 GB, l_dice=0.7357, l_whf=0.1206, valid_loss=0.3667]\n"
     ]
    },
    {
     "name": "stdout",
     "output_type": "stream",
     "text": [
      "Valid Dice: 0.2662 | Valid Jaccard: 0.1576 | Valid Loss: 0.36665646\n",
      "\n",
      "\n",
      "Epoch 53/128"
     ]
    },
    {
     "name": "stderr",
     "output_type": "stream",
     "text": [
      "Train : 100%|███████████████████████| 219/219 [04:53<00:00,  1.34s/it, gpu_mem=8.50 GB, l_dice=0.7114, l_whf=0.1166, lr=0.00000165, train_loss=0.3545]\n",
      "Valid : 100%|█████████████████████████████████████| 55/55 [01:20<00:00,  1.46s/it, gpu_memory=6.54 GB, l_dice=0.7322, l_whf=0.1194, valid_loss=0.3646]\n"
     ]
    },
    {
     "name": "stdout",
     "output_type": "stream",
     "text": [
      "Valid Dice: 0.2724 | Valid Jaccard: 0.1625 | Valid Loss: 0.36456528\n",
      "\n",
      "\n",
      "Epoch 54/128"
     ]
    },
    {
     "name": "stderr",
     "output_type": "stream",
     "text": [
      "Train : 100%|███████████████████████| 219/219 [04:58<00:00,  1.36s/it, gpu_mem=9.04 GB, l_dice=0.7106, l_whf=0.1160, lr=0.00000164, train_loss=0.3538]\n",
      "Valid : 100%|█████████████████████████████████████| 55/55 [01:17<00:00,  1.40s/it, gpu_memory=6.87 GB, l_dice=0.7276, l_whf=0.1190, valid_loss=0.3624]\n"
     ]
    },
    {
     "name": "stdout",
     "output_type": "stream",
     "text": [
      "Valid Dice: 0.2769 | Valid Jaccard: 0.1659 | Valid Loss: 0.36242010\n",
      "\n",
      "\n",
      "Epoch 55/128"
     ]
    },
    {
     "name": "stderr",
     "output_type": "stream",
     "text": [
      "Train : 100%|██████████████████████| 219/219 [04:58<00:00,  1.36s/it, gpu_mem=10.09 GB, l_dice=0.7113, l_whf=0.1190, lr=0.00000163, train_loss=0.3559]\n",
      "Valid : 100%|█████████████████████████████████████| 55/55 [01:17<00:00,  1.41s/it, gpu_memory=6.66 GB, l_dice=0.7220, l_whf=0.1237, valid_loss=0.3630]\n"
     ]
    },
    {
     "name": "stdout",
     "output_type": "stream",
     "text": [
      "Valid Dice: 0.2846 | Valid Jaccard: 0.1710 | Valid Loss: 0.36299396\n",
      "\n",
      "\n",
      "Epoch 56/128"
     ]
    },
    {
     "name": "stderr",
     "output_type": "stream",
     "text": [
      "Train : 100%|███████████████████████| 219/219 [04:58<00:00,  1.36s/it, gpu_mem=8.46 GB, l_dice=0.7126, l_whf=0.1174, lr=0.00000162, train_loss=0.3555]\n",
      "Valid : 100%|█████████████████████████████████████| 55/55 [01:19<00:00,  1.44s/it, gpu_memory=6.43 GB, l_dice=0.7331, l_whf=0.1220, valid_loss=0.3664]\n"
     ]
    },
    {
     "name": "stdout",
     "output_type": "stream",
     "text": [
      "Valid Dice: 0.2672 | Valid Jaccard: 0.1586 | Valid Loss: 0.36643049\n",
      "\n",
      "\n",
      "Epoch 57/128"
     ]
    },
    {
     "name": "stderr",
     "output_type": "stream",
     "text": [
      "Train : 100%|███████████████████████| 219/219 [04:51<00:00,  1.33s/it, gpu_mem=9.80 GB, l_dice=0.7080, l_whf=0.1187, lr=0.00000161, train_loss=0.3544]\n",
      "Valid : 100%|█████████████████████████████████████| 55/55 [01:20<00:00,  1.46s/it, gpu_memory=6.57 GB, l_dice=0.7226, l_whf=0.1180, valid_loss=0.3599]\n"
     ]
    },
    {
     "name": "stdout",
     "output_type": "stream",
     "text": [
      "Valid Dice: 0.2821 | Valid Jaccard: 0.1691 | Valid Loss: 0.35988289\n",
      "Valid loss Improved (0.3611 ---> 0.3599)\n",
      "Model Saved\n",
      "\n",
      "\n",
      "Epoch 58/128"
     ]
    },
    {
     "name": "stderr",
     "output_type": "stream",
     "text": [
      "Train : 100%|███████████████████████| 219/219 [04:37<00:00,  1.27s/it, gpu_mem=8.57 GB, l_dice=0.7077, l_whf=0.1176, lr=0.00000160, train_loss=0.3536]\n",
      "Valid : 100%|█████████████████████████████████████| 55/55 [01:21<00:00,  1.48s/it, gpu_memory=7.63 GB, l_dice=0.7235, l_whf=0.1196, valid_loss=0.3612]\n"
     ]
    },
    {
     "name": "stdout",
     "output_type": "stream",
     "text": [
      "Valid Dice: 0.2828 | Valid Jaccard: 0.1698 | Valid Loss: 0.36116865\n",
      "\n",
      "\n",
      "Epoch 59/128"
     ]
    },
    {
     "name": "stderr",
     "output_type": "stream",
     "text": [
      "Train : 100%|███████████████████████| 219/219 [04:54<00:00,  1.34s/it, gpu_mem=8.67 GB, l_dice=0.7129, l_whf=0.1189, lr=0.00000158, train_loss=0.3565]\n",
      "Valid : 100%|█████████████████████████████████████| 55/55 [01:14<00:00,  1.35s/it, gpu_memory=6.42 GB, l_dice=0.7279, l_whf=0.1260, valid_loss=0.3668]\n"
     ]
    },
    {
     "name": "stdout",
     "output_type": "stream",
     "text": [
      "Valid Dice: 0.2734 | Valid Jaccard: 0.1629 | Valid Loss: 0.36678386\n",
      "\n",
      "\n",
      "Epoch 60/128"
     ]
    },
    {
     "name": "stderr",
     "output_type": "stream",
     "text": [
      "Train : 100%|███████████████████████| 219/219 [05:01<00:00,  1.38s/it, gpu_mem=8.42 GB, l_dice=0.7082, l_whf=0.1173, lr=0.00000157, train_loss=0.3537]\n",
      "Valid : 100%|█████████████████████████████████████| 55/55 [01:16<00:00,  1.39s/it, gpu_memory=6.97 GB, l_dice=0.7249, l_whf=0.1219, valid_loss=0.3631]\n"
     ]
    },
    {
     "name": "stdout",
     "output_type": "stream",
     "text": [
      "Valid Dice: 0.2799 | Valid Jaccard: 0.1674 | Valid Loss: 0.36308290\n",
      "\n",
      "\n",
      "Epoch 61/128"
     ]
    },
    {
     "name": "stderr",
     "output_type": "stream",
     "text": [
      "Train : 100%|███████████████████████| 219/219 [04:55<00:00,  1.35s/it, gpu_mem=8.53 GB, l_dice=0.7059, l_whf=0.1180, lr=0.00000156, train_loss=0.3531]\n",
      "Valid : 100%|█████████████████████████████████████| 55/55 [01:16<00:00,  1.40s/it, gpu_memory=6.91 GB, l_dice=0.7202, l_whf=0.1227, valid_loss=0.3617]\n"
     ]
    },
    {
     "name": "stdout",
     "output_type": "stream",
     "text": [
      "Valid Dice: 0.2851 | Valid Jaccard: 0.1715 | Valid Loss: 0.36169941\n",
      "\n",
      "\n",
      "Epoch 62/128"
     ]
    },
    {
     "name": "stderr",
     "output_type": "stream",
     "text": [
      "Train : 100%|███████████████████████| 219/219 [04:48<00:00,  1.32s/it, gpu_mem=8.61 GB, l_dice=0.7062, l_whf=0.1197, lr=0.00000155, train_loss=0.3543]\n",
      "Valid : 100%|█████████████████████████████████████| 55/55 [01:15<00:00,  1.38s/it, gpu_memory=6.40 GB, l_dice=0.7296, l_whf=0.1252, valid_loss=0.3670]\n"
     ]
    },
    {
     "name": "stdout",
     "output_type": "stream",
     "text": [
      "Valid Dice: 0.2729 | Valid Jaccard: 0.1619 | Valid Loss: 0.36695754\n",
      "\n",
      "\n",
      "Epoch 63/128"
     ]
    },
    {
     "name": "stderr",
     "output_type": "stream",
     "text": [
      "Train : 100%|███████████████████████| 219/219 [04:49<00:00,  1.32s/it, gpu_mem=8.37 GB, l_dice=0.7035, l_whf=0.1211, lr=0.00000154, train_loss=0.3541]\n",
      "Valid : 100%|█████████████████████████████████████| 55/55 [01:18<00:00,  1.42s/it, gpu_memory=6.48 GB, l_dice=0.7243, l_whf=0.1210, valid_loss=0.3623]\n"
     ]
    },
    {
     "name": "stdout",
     "output_type": "stream",
     "text": [
      "Valid Dice: 0.2801 | Valid Jaccard: 0.1673 | Valid Loss: 0.36230972\n",
      "\n",
      "\n",
      "Epoch 64/128"
     ]
    },
    {
     "name": "stderr",
     "output_type": "stream",
     "text": [
      "Train : 100%|███████████████████████| 219/219 [05:05<00:00,  1.39s/it, gpu_mem=9.76 GB, l_dice=0.7084, l_whf=0.1179, lr=0.00000153, train_loss=0.3541]\n",
      "Valid : 100%|█████████████████████████████████████| 55/55 [01:16<00:00,  1.39s/it, gpu_memory=5.98 GB, l_dice=0.7194, l_whf=0.1221, valid_loss=0.3610]\n"
     ]
    },
    {
     "name": "stdout",
     "output_type": "stream",
     "text": [
      "Valid Dice: 0.2846 | Valid Jaccard: 0.1708 | Valid Loss: 0.36104069\n",
      "\n",
      "\n",
      "Epoch 65/128"
     ]
    },
    {
     "name": "stderr",
     "output_type": "stream",
     "text": [
      "Train : 100%|███████████████████████| 219/219 [04:48<00:00,  1.32s/it, gpu_mem=9.51 GB, l_dice=0.7025, l_whf=0.1191, lr=0.00000151, train_loss=0.3525]\n",
      "Valid : 100%|█████████████████████████████████████| 55/55 [01:12<00:00,  1.32s/it, gpu_memory=6.42 GB, l_dice=0.7225, l_whf=0.1214, valid_loss=0.3619]\n"
     ]
    },
    {
     "name": "stdout",
     "output_type": "stream",
     "text": [
      "Valid Dice: 0.2820 | Valid Jaccard: 0.1691 | Valid Loss: 0.36186633\n",
      "\n",
      "\n",
      "Epoch 66/128"
     ]
    },
    {
     "name": "stderr",
     "output_type": "stream",
     "text": [
      "Train : 100%|███████████████████████| 219/219 [04:55<00:00,  1.35s/it, gpu_mem=9.57 GB, l_dice=0.7085, l_whf=0.1200, lr=0.00000150, train_loss=0.3554]\n",
      "Valid : 100%|█████████████████████████████████████| 55/55 [01:16<00:00,  1.38s/it, gpu_memory=6.41 GB, l_dice=0.7292, l_whf=0.1190, valid_loss=0.3631]\n"
     ]
    },
    {
     "name": "stdout",
     "output_type": "stream",
     "text": [
      "Valid Dice: 0.2738 | Valid Jaccard: 0.1635 | Valid Loss: 0.36305664\n",
      "\n",
      "\n",
      "Epoch 67/128"
     ]
    },
    {
     "name": "stderr",
     "output_type": "stream",
     "text": [
      "Train : 100%|███████████████████████| 219/219 [05:00<00:00,  1.37s/it, gpu_mem=9.08 GB, l_dice=0.7064, l_whf=0.1179, lr=0.00000149, train_loss=0.3533]\n",
      "Valid : 100%|█████████████████████████████████████| 55/55 [01:22<00:00,  1.49s/it, gpu_memory=6.42 GB, l_dice=0.7128, l_whf=0.1235, valid_loss=0.3592]\n"
     ]
    },
    {
     "name": "stdout",
     "output_type": "stream",
     "text": [
      "Valid Dice: 0.2922 | Valid Jaccard: 0.1762 | Valid Loss: 0.35918151\n",
      "Valid loss Improved (0.3599 ---> 0.3592)\n",
      "Model Saved\n",
      "\n",
      "\n",
      "Epoch 68/128"
     ]
    },
    {
     "name": "stderr",
     "output_type": "stream",
     "text": [
      "Train : 100%|███████████████████████| 219/219 [04:59<00:00,  1.37s/it, gpu_mem=8.40 GB, l_dice=0.7027, l_whf=0.1202, lr=0.00000148, train_loss=0.3532]\n",
      "Valid : 100%|█████████████████████████████████████| 55/55 [01:21<00:00,  1.48s/it, gpu_memory=7.60 GB, l_dice=0.7310, l_whf=0.1223, valid_loss=0.3658]\n"
     ]
    },
    {
     "name": "stdout",
     "output_type": "stream",
     "text": [
      "Valid Dice: 0.2708 | Valid Jaccard: 0.1610 | Valid Loss: 0.36577281\n",
      "\n",
      "\n",
      "Epoch 69/128"
     ]
    },
    {
     "name": "stderr",
     "output_type": "stream",
     "text": [
      "Train : 100%|███████████████████████| 219/219 [05:11<00:00,  1.42s/it, gpu_mem=9.20 GB, l_dice=0.7119, l_whf=0.1208, lr=0.00000147, train_loss=0.3572]\n",
      "Valid : 100%|█████████████████████████████████████| 55/55 [01:20<00:00,  1.46s/it, gpu_memory=6.55 GB, l_dice=0.7272, l_whf=0.1204, valid_loss=0.3631]\n"
     ]
    },
    {
     "name": "stdout",
     "output_type": "stream",
     "text": [
      "Valid Dice: 0.2779 | Valid Jaccard: 0.1658 | Valid Loss: 0.36310706\n",
      "\n",
      "\n",
      "Epoch 70/128"
     ]
    },
    {
     "name": "stderr",
     "output_type": "stream",
     "text": [
      "Train : 100%|███████████████████████| 219/219 [05:08<00:00,  1.41s/it, gpu_mem=8.52 GB, l_dice=0.7087, l_whf=0.1165, lr=0.00000145, train_loss=0.3534]\n",
      "Valid : 100%|█████████████████████████████████████| 55/55 [01:20<00:00,  1.46s/it, gpu_memory=6.95 GB, l_dice=0.7184, l_whf=0.1229, valid_loss=0.3611]\n"
     ]
    },
    {
     "name": "stdout",
     "output_type": "stream",
     "text": [
      "Valid Dice: 0.2866 | Valid Jaccard: 0.1725 | Valid Loss: 0.36109170\n",
      "\n",
      "\n",
      "Epoch 71/128"
     ]
    },
    {
     "name": "stderr",
     "output_type": "stream",
     "text": [
      "Train : 100%|██████████████████████| 219/219 [04:59<00:00,  1.37s/it, gpu_mem=10.01 GB, l_dice=0.7045, l_whf=0.1214, lr=0.00000144, train_loss=0.3546]\n",
      "Valid : 100%|█████████████████████████████████████| 55/55 [01:24<00:00,  1.53s/it, gpu_memory=7.00 GB, l_dice=0.7173, l_whf=0.1174, valid_loss=0.3574]\n"
     ]
    },
    {
     "name": "stdout",
     "output_type": "stream",
     "text": [
      "Valid Dice: 0.2920 | Valid Jaccard: 0.1759 | Valid Loss: 0.35738320\n",
      "Valid loss Improved (0.3592 ---> 0.3574)\n",
      "Model Saved\n",
      "\n",
      "\n",
      "Epoch 72/128"
     ]
    },
    {
     "name": "stderr",
     "output_type": "stream",
     "text": [
      "Train : 100%|███████████████████████| 219/219 [04:51<00:00,  1.33s/it, gpu_mem=9.30 GB, l_dice=0.7094, l_whf=0.1173, lr=0.00000143, train_loss=0.3541]\n",
      "Valid : 100%|█████████████████████████████████████| 55/55 [01:13<00:00,  1.34s/it, gpu_memory=6.44 GB, l_dice=0.7221, l_whf=0.1201, valid_loss=0.3609]\n"
     ]
    },
    {
     "name": "stdout",
     "output_type": "stream",
     "text": [
      "Valid Dice: 0.2816 | Valid Jaccard: 0.1687 | Valid Loss: 0.36090515\n",
      "\n",
      "\n",
      "Epoch 73/128"
     ]
    },
    {
     "name": "stderr",
     "output_type": "stream",
     "text": [
      "Train : 100%|███████████████████████| 219/219 [04:53<00:00,  1.34s/it, gpu_mem=8.67 GB, l_dice=0.6967, l_whf=0.1208, lr=0.00000142, train_loss=0.3512]\n",
      "Valid : 100%|█████████████████████████████████████| 55/55 [01:14<00:00,  1.35s/it, gpu_memory=6.41 GB, l_dice=0.7179, l_whf=0.1274, valid_loss=0.3636]\n"
     ]
    },
    {
     "name": "stdout",
     "output_type": "stream",
     "text": [
      "Valid Dice: 0.2846 | Valid Jaccard: 0.1710 | Valid Loss: 0.36360887\n",
      "\n",
      "\n",
      "Epoch 74/128"
     ]
    },
    {
     "name": "stderr",
     "output_type": "stream",
     "text": [
      "Train : 100%|███████████████████████| 219/219 [05:00<00:00,  1.37s/it, gpu_mem=9.63 GB, l_dice=0.7012, l_whf=0.1196, lr=0.00000141, train_loss=0.3522]\n",
      "Valid : 100%|█████████████████████████████████████| 55/55 [01:21<00:00,  1.48s/it, gpu_memory=6.45 GB, l_dice=0.7235, l_whf=0.1212, valid_loss=0.3621]\n"
     ]
    },
    {
     "name": "stdout",
     "output_type": "stream",
     "text": [
      "Valid Dice: 0.2849 | Valid Jaccard: 0.1714 | Valid Loss: 0.36210791\n",
      "\n",
      "\n",
      "Epoch 75/128"
     ]
    },
    {
     "name": "stderr",
     "output_type": "stream",
     "text": [
      "Train : 100%|███████████████████████| 219/219 [04:53<00:00,  1.34s/it, gpu_mem=8.88 GB, l_dice=0.7002, l_whf=0.1184, lr=0.00000140, train_loss=0.3511]\n",
      "Valid : 100%|█████████████████████████████████████| 55/55 [01:19<00:00,  1.45s/it, gpu_memory=6.42 GB, l_dice=0.7247, l_whf=0.1229, valid_loss=0.3636]\n"
     ]
    },
    {
     "name": "stdout",
     "output_type": "stream",
     "text": [
      "Valid Dice: 0.2788 | Valid Jaccard: 0.1671 | Valid Loss: 0.36363985\n",
      "\n",
      "\n",
      "Epoch 76/128"
     ]
    },
    {
     "name": "stderr",
     "output_type": "stream",
     "text": [
      "Train : 100%|███████████████████████| 219/219 [04:56<00:00,  1.36s/it, gpu_mem=8.78 GB, l_dice=0.7006, l_whf=0.1199, lr=0.00000138, train_loss=0.3522]\n",
      "Valid : 100%|█████████████████████████████████████| 55/55 [01:16<00:00,  1.39s/it, gpu_memory=6.04 GB, l_dice=0.7205, l_whf=0.1223, valid_loss=0.3616]\n"
     ]
    },
    {
     "name": "stdout",
     "output_type": "stream",
     "text": [
      "Valid Dice: 0.2840 | Valid Jaccard: 0.1708 | Valid Loss: 0.36156611\n",
      "\n",
      "\n",
      "Epoch 77/128"
     ]
    },
    {
     "name": "stderr",
     "output_type": "stream",
     "text": [
      "Train : 100%|███████████████████████| 219/219 [05:04<00:00,  1.39s/it, gpu_mem=9.39 GB, l_dice=0.7003, l_whf=0.1203, lr=0.00000137, train_loss=0.3523]\n",
      "Valid : 100%|█████████████████████████████████████| 55/55 [01:17<00:00,  1.40s/it, gpu_memory=6.42 GB, l_dice=0.7265, l_whf=0.1197, valid_loss=0.3624]\n"
     ]
    },
    {
     "name": "stdout",
     "output_type": "stream",
     "text": [
      "Valid Dice: 0.2783 | Valid Jaccard: 0.1665 | Valid Loss: 0.36242589\n",
      "\n",
      "\n",
      "Epoch 78/128"
     ]
    },
    {
     "name": "stderr",
     "output_type": "stream",
     "text": [
      "Train : 100%|███████████████████████| 219/219 [04:49<00:00,  1.32s/it, gpu_mem=9.00 GB, l_dice=0.7078, l_whf=0.1195, lr=0.00000136, train_loss=0.3548]\n",
      "Valid : 100%|█████████████████████████████████████| 55/55 [01:15<00:00,  1.37s/it, gpu_memory=6.90 GB, l_dice=0.7274, l_whf=0.1247, valid_loss=0.3658]\n"
     ]
    },
    {
     "name": "stdout",
     "output_type": "stream",
     "text": [
      "Valid Dice: 0.2762 | Valid Jaccard: 0.1656 | Valid Loss: 0.36579237\n",
      "\n",
      "\n",
      "Epoch 79/128"
     ]
    },
    {
     "name": "stderr",
     "output_type": "stream",
     "text": [
      "Train : 100%|███████████████████████| 219/219 [04:54<00:00,  1.34s/it, gpu_mem=9.68 GB, l_dice=0.7017, l_whf=0.1202, lr=0.00000135, train_loss=0.3528]\n",
      "Valid : 100%|█████████████████████████████████████| 55/55 [01:15<00:00,  1.37s/it, gpu_memory=6.59 GB, l_dice=0.7236, l_whf=0.1258, valid_loss=0.3649]\n"
     ]
    },
    {
     "name": "stdout",
     "output_type": "stream",
     "text": [
      "Valid Dice: 0.2794 | Valid Jaccard: 0.1673 | Valid Loss: 0.36493106\n",
      "\n",
      "\n",
      "Epoch 80/128"
     ]
    },
    {
     "name": "stderr",
     "output_type": "stream",
     "text": [
      "Train : 100%|███████████████████████| 219/219 [05:00<00:00,  1.37s/it, gpu_mem=9.54 GB, l_dice=0.7058, l_whf=0.1192, lr=0.00000134, train_loss=0.3539]\n",
      "Valid :  60%|██████████████████████▏              | 33/55 [00:49<00:22,  1.04s/it, gpu_memory=5.95 GB, l_dice=0.7237, l_whf=0.1238, valid_loss=0.3638]"
     ]
    }
   ],
   "source": [
    "whf_loss = WeightedHausdorffLoss(3, [val // CFG.whf_pool_size for val in CFG.image_size], alpha=-5.0, device=CFG.device)\n",
    "for fold in range(1):\n",
    "    print(f'#'*15)\n",
    "    print(f'### Fold: {fold}')\n",
    "    print(f'#'*15)\n",
    "    \"\"\"\n",
    "    run = wandb.init(project='uw-maddison-gi-tract', \n",
    "                     config={k:v for k, v in dict(vars(CFG)).items() if '__' not in k},\n",
    "                     anonymous=anonymous,\n",
    "                     name=f\"fold-{fold}|dim-{CFG.img_size[0]}x{CFG.img_size[1]}|model-{CFG.model_name}\",\n",
    "                     group=CFG.comment,\n",
    "                    )\n",
    "    \"\"\"\n",
    "    train_loader, valid_loader = prepare_loaders(df_train, fold=fold, debug=CFG.debug)\n",
    "    # model = build_model()\n",
    "    model = load_model(f\"last_epoch-{fold:02d}.bin\")\n",
    "    optimizer = optim.Adam(model.parameters(), lr=CFG.lr, weight_decay=CFG.wd)\n",
    "    scheduler = fetch_scheduler(optimizer)\n",
    "    model, history = run_training(fold, model, whf_loss, optimizer, scheduler,\n",
    "                                  device=CFG.device,\n",
    "                                  num_epochs=CFG.epochs)\n",
    "    \"\"\"\n",
    "    run.finish()\n",
    "    display(ipd.IFrame(run.url, width=1000, height=720))\n",
    "    \"\"\""
   ]
  },
  {
   "cell_type": "code",
   "execution_count": null,
   "id": "0dd4e5d6-4204-43ac-8f97-c5da1b33ca95",
   "metadata": {},
   "outputs": [],
   "source": [
    "def show_img(img, mask=None):\n",
    "    clahe = cv2.createCLAHE(clipLimit=2.0, tileGridSize=(8,8))\n",
    "#     img = clahe.apply(img)\n",
    "#     plt.figure(figsize=(10,10))\n",
    "    plt.imshow(img, cmap='bone')\n",
    "    \n",
    "    if mask is not None:\n",
    "        # plt.imshow(np.ma.masked_where(mask!=1, mask), alpha=0.5, cmap='autumn')\n",
    "        plt.imshow(mask, alpha=0.5)\n",
    "        handles = [Rectangle((0,0),1,1, color=_c) for _c in [(0.667,0.0,0.0), (0.0,0.667,0.0), (0.0,0.0,0.667)]]\n",
    "        labels = [\"Large Bowel\", \"Small Bowel\", \"Stomach\"]\n",
    "        plt.legend(handles,labels)\n",
    "    plt.axis('off')\n",
    "\n",
    "def plot_batch(imgs, msks, depth, size=3):\n",
    "    plt.figure(figsize=(5*5, 5))\n",
    "    for idx in range(size):\n",
    "        plt.subplot(1, 5, idx+1)\n",
    "        img = imgs[idx, :, :, :, depth].permute((1, 2, 0)).numpy()*255.0\n",
    "        img = img.astype('uint8')\n",
    "        msk = msks[idx, :, :, :, depth].permute((1, 2, 0)).numpy()*255.0\n",
    "        print(msk.sum())\n",
    "        show_img(img, msk)\n",
    "    plt.tight_layout()\n",
    "    plt.show()\n"
   ]
  },
  {
   "cell_type": "code",
   "execution_count": null,
   "id": "fcb8edfe-626a-45e7-9965-55f21fafc4e8",
   "metadata": {},
   "outputs": [],
   "source": [
    "gc.collect()\n",
    "test_dataset = tio.SubjectsDataset(\n",
    "        [get_subject(row['case_day'], row['image_path'], row['mask_path']) for _, row in df_train.query(\"fold==0\").sample(frac=1.0).iterrows()], \n",
    "        transform=data_transforms['valid']\n",
    "    )\n",
    "\n",
    "#test_loader  = DataLoader(test_dataset, batch_size=1, num_workers=0, shuffle=False, pin_memory=True)"
   ]
  },
  {
   "cell_type": "code",
   "execution_count": null,
   "id": "8f8a2aac-1a30-46f4-841a-b762ae36b143",
   "metadata": {},
   "outputs": [],
   "source": [
    "subject = test_dataset[11]\n",
    "image = subject['scan'][tio.DATA]\n",
    "image = image.unsqueeze(0).to(CFG.device, dtype=torch.float)\n",
    "mask = subject['label'][tio.DATA]\n",
    "mask = mask.unsqueeze(0).to(CFG.device, dtype=torch.float)\n",
    "\n",
    "pred = None\n",
    "fold=0\n",
    "model = load_model(f\"best_epoch-{fold:02d}.bin\")\n",
    "with torch.no_grad():\n",
    "    pred = model(image)\n",
    "    pred = (pred>0.2).double()\n",
    "    \n",
    "image  = image.cpu().detach()\n",
    "mask = mask.cpu().detach()\n",
    "pred = pred.cpu().detach()"
   ]
  },
  {
   "cell_type": "code",
   "execution_count": null,
   "id": "27f33388-8f26-461e-a6f2-9f7086d4f6c4",
   "metadata": {},
   "outputs": [],
   "source": [
    "torch.cuda.empty_cache()\n",
    "gc.collect()"
   ]
  },
  {
   "cell_type": "code",
   "execution_count": null,
   "id": "64aac27a-85ef-4d00-a756-1ea954e8ed6e",
   "metadata": {},
   "outputs": [],
   "source": [
    "depth=66\n",
    "plot_batch(image, pred, depth=depth, size=1)"
   ]
  },
  {
   "cell_type": "code",
   "execution_count": null,
   "id": "0c6c3f31-fada-400d-a7e1-f2c20ae03a97",
   "metadata": {},
   "outputs": [],
   "source": [
    "plot_batch(image, mask, depth=depth, size=1)"
   ]
  },
  {
   "cell_type": "code",
   "execution_count": null,
   "id": "92ae133c-c1b3-4e50-ac44-01b152e32426",
   "metadata": {},
   "outputs": [],
   "source": [
    "model = torch.nn.Linear(2,1)\n",
    "optimizer = optim.Adam(model.parameters(), lr=CFG.lr, weight_decay=CFG.wd)\n",
    "scheduler = fetch_scheduler(optimizer)"
   ]
  },
  {
   "cell_type": "code",
   "execution_count": null,
   "id": "3f675b1f-308a-4d82-83e0-e1989f088d90",
   "metadata": {},
   "outputs": [],
   "source": [
    "lrs = []\n",
    "steps = []\n",
    "for i in range(16 * 300):\n",
    "    optimizer.step()\n",
    "    if i % 300 == 0:\n",
    "        lrs.append(optimizer.param_groups[0]['lr'])\n",
    "        steps.append(i)\n",
    "    scheduler.step()\n",
    "\n",
    "    \n",
    "plt.plot(steps, lrs)"
   ]
  },
  {
   "cell_type": "code",
   "execution_count": null,
   "id": "07385881-3d9e-42cf-a0e9-2df75cfb5a3f",
   "metadata": {},
   "outputs": [],
   "source": [
    "pred.shape"
   ]
  },
  {
   "cell_type": "code",
   "execution_count": null,
   "id": "644f4ac8-3f78-4cae-8d2d-f7cbba3f9c2d",
   "metadata": {},
   "outputs": [],
   "source": [
    "pred[0][1].sum()"
   ]
  },
  {
   "cell_type": "code",
   "execution_count": null,
   "id": "78fc3efe-7b7c-4aa8-b1bb-16c87534d24d",
   "metadata": {},
   "outputs": [],
   "source": [
    "128 ** 3"
   ]
  },
  {
   "cell_type": "code",
   "execution_count": null,
   "id": "ee28492d-f285-4cca-8d77-d514e7ffe3dc",
   "metadata": {},
   "outputs": [],
   "source": []
  }
 ],
 "metadata": {
  "kernelspec": {
   "display_name": "Python 3 (ipykernel)",
   "language": "python",
   "name": "python3"
  },
  "language_info": {
   "codemirror_mode": {
    "name": "ipython",
    "version": 3
   },
   "file_extension": ".py",
   "mimetype": "text/x-python",
   "name": "python",
   "nbconvert_exporter": "python",
   "pygments_lexer": "ipython3",
   "version": "3.10.5"
  }
 },
 "nbformat": 4,
 "nbformat_minor": 5
}
