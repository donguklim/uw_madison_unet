{
 "cells": [
  {
   "cell_type": "code",
   "execution_count": 1,
   "id": "30f5a71d-1453-4f8e-ae03-b8953f6cbc83",
   "metadata": {},
   "outputs": [
    {
     "name": "stderr",
     "output_type": "stream",
     "text": [
      "E:\\projects\\python-virtual-envs\\image-seg-pytorch-nightly\\lib\\site-packages\\tqdm\\auto.py:22: TqdmWarning: IProgress not found. Please update jupyter and ipywidgets. See https://ipywidgets.readthedocs.io/en/stable/user_install.html\n",
      "  from .autonotebook import tqdm as notebook_tqdm\n"
     ]
    }
   ],
   "source": [
    "import numpy as np\n",
    "import pandas as pd\n",
    "# pd.options.plotting.backend = \"plotly\"\n",
    "import random\n",
    "from glob import glob\n",
    "import os, shutil\n",
    "from tqdm import tqdm\n",
    "tqdm.pandas()\n",
    "import time\n",
    "import copy\n",
    "# import joblib\n",
    "from collections import defaultdict\n",
    "import gc\n",
    "from IPython import display as ipd\n",
    "\n",
    "# visualization\n",
    "import cv2\n",
    "import matplotlib.pyplot as plt\n",
    "from matplotlib.patches import Rectangle\n",
    "\n",
    "# Sklearn\n",
    "# from sklearn.model_selection import StratifiedKFold, KFold, StratifiedGroupKFold\n",
    "\n",
    "# PyTorch \n",
    "import torch\n",
    "import torch.nn as nn\n",
    "import torch.optim as optim\n",
    "from torch.optim import lr_scheduler\n",
    "from torch.utils.data import Dataset, DataLoader\n",
    "from torch.cuda import amp"
   ]
  },
  {
   "cell_type": "code",
   "execution_count": 2,
   "id": "2ce990be-8a4c-4248-a8e9-5b7a02d7e263",
   "metadata": {},
   "outputs": [],
   "source": [
    "# class indices\n",
    "\n",
    "LARGE_BOWEL = 0\n",
    "SMALL_BOWEL = 1\n",
    "STOMACH = 2\n",
    "MASK_INDICES = {'large_bowel': LARGE_BOWEL, 'small_bowel':SMALL_BOWEL, 'stomach':STOMACH}"
   ]
  },
  {
   "cell_type": "code",
   "execution_count": 3,
   "id": "08f546e0-a183-403f-854d-c7e60d375083",
   "metadata": {},
   "outputs": [],
   "source": [
    "def load_scans(scan_path):\n",
    "    image_files = [f for f in os.listdir(scan_path) if os.path.isfile(os.path.join(scan_path, f))]\n",
    "    \n",
    "    image_files.sort(key=lambda x: int(x.split('_')[1]))\n",
    "    \n",
    "    scan_slices = []\n",
    "    for img_file in image_files:\n",
    "        img_file_path = os.path.join(scan_path, img_file)\n",
    "        scan_slice = cv2.imread(img_file_path, cv2.IMREAD_UNCHANGED)\n",
    "        scan_slice = scan_slice.astype('float32')\n",
    "        scan_slices.append(scan_slice)\n",
    "    \n",
    "    img = np.stack(scan_slices)\n",
    "    max_val = np.max(img)\n",
    "    if max_val:\n",
    "        img /= max_val\n",
    "\n",
    "    return img\n",
    "\n",
    "def load_msk(path):\n",
    "    msk = np.load(path).transpose([3,2,0,1,])\n",
    "    msk = msk.astype('float32')\n",
    "    return msk"
   ]
  },
  {
   "cell_type": "markdown",
   "id": "3da8a770-7c7e-433e-9369-16cfb65011f0",
   "metadata": {},
   "source": [
    "## Dataset"
   ]
  },
  {
   "cell_type": "code",
   "execution_count": 4,
   "id": "8b70abd3-6bd7-4bdc-9eea-f75671a305cc",
   "metadata": {},
   "outputs": [],
   "source": [
    "class ImageDataset(torch.utils.data.Dataset):\n",
    "    def __init__(self, df, label=True, transforms=None):\n",
    "        self.df         = df\n",
    "        self.label      = label\n",
    "        self.img_paths  = df['image_path'].tolist()\n",
    "        self.msk_paths  = df['mask_path'].tolist()\n",
    "        self.transforms = transforms\n",
    "        \n",
    "    def __len__(self):\n",
    "        return len(self.df)\n",
    "    \n",
    "    def __getitem__(self, index):\n",
    "        img_path  = self.img_paths[index]\n",
    "        img = load_scans(img_path)\n",
    "        \n",
    "        if self.label:\n",
    "            msk_path = self.msk_paths[index]\n",
    "            msk = load_msk(msk_path)\n",
    "            if self.transforms:\n",
    "                data = self.transforms(image=img, mask=msk)\n",
    "                img  = data['image']\n",
    "                msk  = data['mask']\n",
    "            return torch.tensor(img), torch.tensor(msk)\n",
    "        else:\n",
    "            if self.transforms:\n",
    "                data = self.transforms(image=img)\n",
    "                img  = data['image']\n",
    "            return torch.tensor(img)"
   ]
  },
  {
   "cell_type": "code",
   "execution_count": 5,
   "id": "7f4b5a7f-c5f8-4f8a-81ac-a7d73803ea20",
   "metadata": {},
   "outputs": [
    {
     "data": {
      "text/html": [
       "<div>\n",
       "<style scoped>\n",
       "    .dataframe tbody tr th:only-of-type {\n",
       "        vertical-align: middle;\n",
       "    }\n",
       "\n",
       "    .dataframe tbody tr th {\n",
       "        vertical-align: top;\n",
       "    }\n",
       "\n",
       "    .dataframe thead th {\n",
       "        text-align: right;\n",
       "    }\n",
       "</style>\n",
       "<table border=\"1\" class=\"dataframe\">\n",
       "  <thead>\n",
       "    <tr style=\"text-align: right;\">\n",
       "      <th></th>\n",
       "      <th>case_day</th>\n",
       "      <th>image_path</th>\n",
       "      <th>mask_path</th>\n",
       "    </tr>\n",
       "  </thead>\n",
       "  <tbody>\n",
       "    <tr>\n",
       "      <th>0</th>\n",
       "      <td>case123_day20</td>\n",
       "      <td>./input/uw-madison-gi-tract-image-segmentation...</td>\n",
       "      <td>./input/uw-madison-gi-tract-image-segmentation...</td>\n",
       "    </tr>\n",
       "    <tr>\n",
       "      <th>432</th>\n",
       "      <td>case123_day22</td>\n",
       "      <td>./input/uw-madison-gi-tract-image-segmentation...</td>\n",
       "      <td>./input/uw-madison-gi-tract-image-segmentation...</td>\n",
       "    </tr>\n",
       "    <tr>\n",
       "      <th>864</th>\n",
       "      <td>case123_day0</td>\n",
       "      <td>./input/uw-madison-gi-tract-image-segmentation...</td>\n",
       "      <td>./input/uw-madison-gi-tract-image-segmentation...</td>\n",
       "    </tr>\n",
       "    <tr>\n",
       "      <th>1296</th>\n",
       "      <td>case77_day20</td>\n",
       "      <td>./input/uw-madison-gi-tract-image-segmentation...</td>\n",
       "      <td>./input/uw-madison-gi-tract-image-segmentation...</td>\n",
       "    </tr>\n",
       "  </tbody>\n",
       "</table>\n",
       "</div>"
      ],
      "text/plain": [
       "           case_day                                         image_path  \\\n",
       "0     case123_day20  ./input/uw-madison-gi-tract-image-segmentation...   \n",
       "432   case123_day22  ./input/uw-madison-gi-tract-image-segmentation...   \n",
       "864    case123_day0  ./input/uw-madison-gi-tract-image-segmentation...   \n",
       "1296   case77_day20  ./input/uw-madison-gi-tract-image-segmentation...   \n",
       "\n",
       "                                              mask_path  \n",
       "0     ./input/uw-madison-gi-tract-image-segmentation...  \n",
       "432   ./input/uw-madison-gi-tract-image-segmentation...  \n",
       "864   ./input/uw-madison-gi-tract-image-segmentation...  \n",
       "1296  ./input/uw-madison-gi-tract-image-segmentation...  "
      ]
     },
     "execution_count": 5,
     "metadata": {},
     "output_type": "execute_result"
    }
   ],
   "source": [
    "# Taking a look at the dataset\n",
    "df_train = pd.read_csv('./input/uw-madison-gi-tract-image-segmentation/train.csv')\n",
    "train_path = './input/uw-madison-gi-tract-image-segmentation/train'\n",
    "df_train['case_day'] = df_train['id'].map(lambda x: x.split('_slice')[0])\n",
    "df_train.drop(columns=['class', 'segmentation', 'id'], inplace=True)\n",
    "df_train.drop_duplicates(inplace=True)\n",
    "df_train['image_path'] = df_train['case_day'].map(lambda x: f'{train_path}/' + x.split('_')[0] + f'/{x}/scans')\n",
    "df_train['mask_path'] =  df_train['case_day'].map(lambda x: f'{train_path}/' + x.split('_')[0] + f'/{x}/masks3D/{x}.npy')\n",
    "df_train.head(4)"
   ]
  },
  {
   "cell_type": "code",
   "execution_count": 6,
   "id": "b3154da9-f540-40a3-9c7e-7d45a5bec0b7",
   "metadata": {},
   "outputs": [],
   "source": [
    "train_dataset = ImageDataset(df_train)"
   ]
  },
  {
   "cell_type": "code",
   "execution_count": 7,
   "id": "6f4af76d-d4d9-4269-a18a-2210496f2f6a",
   "metadata": {},
   "outputs": [
    {
     "data": {
      "text/plain": [
       "274"
      ]
     },
     "execution_count": 7,
     "metadata": {},
     "output_type": "execute_result"
    }
   ],
   "source": [
    "len(train_dataset)"
   ]
  },
  {
   "cell_type": "code",
   "execution_count": 8,
   "id": "6a7a4805-f07e-4133-b7bd-de453a254e14",
   "metadata": {},
   "outputs": [],
   "source": [
    "img, msk = train_dataset[20]"
   ]
  },
  {
   "cell_type": "code",
   "execution_count": 9,
   "id": "43100f6b-f1d8-4283-877a-3f3d369efc01",
   "metadata": {},
   "outputs": [
    {
     "data": {
      "text/plain": [
       "torch.Size([144, 266, 266])"
      ]
     },
     "execution_count": 9,
     "metadata": {},
     "output_type": "execute_result"
    }
   ],
   "source": [
    "img.shape"
   ]
  },
  {
   "cell_type": "code",
   "execution_count": 10,
   "id": "b0d6c1db-b93b-4744-85a9-5f77958ca056",
   "metadata": {},
   "outputs": [
    {
     "data": {
      "text/plain": [
       "torch.Size([3, 144, 266, 266])"
      ]
     },
     "execution_count": 10,
     "metadata": {},
     "output_type": "execute_result"
    }
   ],
   "source": [
    "msk.shape"
   ]
  },
  {
   "cell_type": "code",
   "execution_count": 11,
   "id": "aee9e801-afd8-4312-b0a9-582101bbe0de",
   "metadata": {},
   "outputs": [
    {
     "data": {
      "text/plain": [
       "11"
      ]
     },
     "execution_count": 11,
     "metadata": {},
     "output_type": "execute_result"
    }
   ],
   "source": [
    "gc.collect()"
   ]
  },
  {
   "cell_type": "code",
   "execution_count": 12,
   "id": "138c5f9e-3eeb-498f-946b-839daaf394e4",
   "metadata": {},
   "outputs": [
    {
     "data": {
      "text/plain": [
       "(torch.Size([2, 144, 266, 266]), torch.Size([2, 3, 144, 266, 266]))"
      ]
     },
     "execution_count": 12,
     "metadata": {},
     "output_type": "execute_result"
    }
   ],
   "source": [
    "train_loader = DataLoader(train_dataset, batch_size=2, num_workers=0, drop_last=True)\n",
    "imgs, msks = next(iter(train_loader))\n",
    "imgs.size(), msks.size()"
   ]
  },
  {
   "cell_type": "code",
   "execution_count": null,
   "id": "cd58ab94-573f-4724-8f77-58279d1c82a3",
   "metadata": {},
   "outputs": [],
   "source": []
  }
 ],
 "metadata": {
  "kernelspec": {
   "display_name": "Python 3 (ipykernel)",
   "language": "python",
   "name": "python3"
  },
  "language_info": {
   "codemirror_mode": {
    "name": "ipython",
    "version": 3
   },
   "file_extension": ".py",
   "mimetype": "text/x-python",
   "name": "python",
   "nbconvert_exporter": "python",
   "pygments_lexer": "ipython3",
   "version": "3.10.4"
  }
 },
 "nbformat": 4,
 "nbformat_minor": 5
}
