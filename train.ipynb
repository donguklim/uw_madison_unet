{
 "cells": [
  {
   "cell_type": "code",
   "execution_count": 1,
   "id": "30f5a71d-1453-4f8e-ae03-b8953f6cbc83",
   "metadata": {},
   "outputs": [
    {
     "name": "stderr",
     "output_type": "stream",
     "text": [
      "WARNING: CPU random generator seem to be failing, disabling hardware random number generation\n",
      "WARNING: RDRND generated: 0xffffffff 0xffffffff 0xffffffff 0xffffffff\n",
      "/home/dlim/python-virtual-envs/image-seg/lib/python3.10/site-packages/tqdm/auto.py:22: TqdmWarning: IProgress not found. Please update jupyter and ipywidgets. See https://ipywidgets.readthedocs.io/en/stable/user_install.html\n",
      "  from .autonotebook import tqdm as notebook_tqdm\n"
     ]
    }
   ],
   "source": [
    "import numpy as np\n",
    "import pandas as pd\n",
    "# pd.options.plotting.backend = \"plotly\"\n",
    "import random\n",
    "from glob import glob\n",
    "import os, shutil\n",
    "from tqdm import tqdm\n",
    "tqdm.pandas()\n",
    "import time\n",
    "import copy\n",
    "# import joblib\n",
    "from collections import defaultdict\n",
    "import gc\n",
    "from IPython import display as ipd\n",
    "\n",
    "# visualization\n",
    "import cv2\n",
    "import matplotlib.pyplot as plt\n",
    "from matplotlib.patches import Rectangle\n",
    "\n",
    "# Sklearn\n",
    "# from sklearn.model_selection import StratifiedKFold, KFold, StratifiedGroupKFold\n",
    "\n",
    "# PyTorch \n",
    "import torch\n",
    "from torch import nn\n",
    "import torch.optim as optim\n",
    "from torch.optim import lr_scheduler\n",
    "from torch.utils.data import Dataset, DataLoader\n",
    "from torch.cuda import amp\n",
    "import torchvision.transforms.functional as TF\n",
    "\n",
    "#torchio\n",
    "import torchio as tio"
   ]
  },
  {
   "cell_type": "code",
   "execution_count": 2,
   "id": "2ce990be-8a4c-4248-a8e9-5b7a02d7e263",
   "metadata": {},
   "outputs": [],
   "source": [
    "# class indices\n",
    "\n",
    "LARGE_BOWEL = 0\n",
    "SMALL_BOWEL = 1\n",
    "STOMACH = 2\n",
    "MASK_INDICES = {'large_bowel': LARGE_BOWEL, 'small_bowel':SMALL_BOWEL, 'stomach':STOMACH}"
   ]
  },
  {
   "cell_type": "code",
   "execution_count": 3,
   "id": "be45d59f-7ed0-4000-b351-6ad3564f64e4",
   "metadata": {},
   "outputs": [],
   "source": [
    "class CFG:\n",
    "    seed          = 101\n",
    "    debug         = False # set debug=False for Full Training\n",
    "    train_bs      = 16\n",
    "    valid_bs      = 16\n",
    "    image_size    = [128, 128, 64] # Depth, Width, Height\n",
    "    epochs        = 15\n",
    "    lr            = 2e-3\n",
    "    scheduler     = 'CosineAnnealingLR'\n",
    "    min_lr        = 1e-6\n",
    "    T_max         = int(30000/train_bs*epochs)+50\n",
    "    T_0           = 25\n",
    "    warmup_epochs = 0\n",
    "    wd            = 1e-6\n",
    "    n_accumulate  = max(1, 32//train_bs)\n",
    "    n_fold        = 5\n",
    "    device        = torch.device(\"cuda:0\" if torch.cuda.is_available() else \"cpu\")\n",
    "    hausdoff_distance_measure_size = (32, 32, 16)"
   ]
  },
  {
   "cell_type": "code",
   "execution_count": 4,
   "id": "2f98c66a-364b-4896-a705-d29d9769c03d",
   "metadata": {},
   "outputs": [
    {
     "data": {
      "text/plain": [
       "True"
      ]
     },
     "execution_count": 4,
     "metadata": {},
     "output_type": "execute_result"
    }
   ],
   "source": [
    "torch.cuda.is_available()"
   ]
  },
  {
   "cell_type": "code",
   "execution_count": 5,
   "id": "ff64c504-b724-4d4c-8a2a-b9678ee25959",
   "metadata": {},
   "outputs": [
    {
     "name": "stdout",
     "output_type": "stream",
     "text": [
      "> SEEDING DONE\n"
     ]
    }
   ],
   "source": [
    "def set_seed(seed = 42):\n",
    "    '''Sets the seed of the entire notebook so results are the same every time we run.\n",
    "    This is for REPRODUCIBILITY.'''\n",
    "    np.random.seed(seed)\n",
    "    random.seed(seed)\n",
    "    torch.manual_seed(seed)\n",
    "    torch.cuda.manual_seed(seed)\n",
    "    # When running on the CuDNN backend, two further options must be set\n",
    "    torch.backends.cudnn.deterministic = True\n",
    "    torch.backends.cudnn.benchmark = False\n",
    "    # Set a fixed value for the hash seed\n",
    "    os.environ['PYTHONHASHSEED'] = str(seed)\n",
    "    print('> SEEDING DONE')\n",
    "    \n",
    "set_seed(CFG.seed)"
   ]
  },
  {
   "cell_type": "code",
   "execution_count": 6,
   "id": "08f546e0-a183-403f-854d-c7e60d375083",
   "metadata": {},
   "outputs": [],
   "source": [
    "def load_scans(scan_path):\n",
    "    image_files = [f for f in os.listdir(scan_path) if os.path.isfile(os.path.join(scan_path, f))]\n",
    "    image_files.sort(key=lambda x: int(x.split('_')[1]))\n",
    "    \n",
    "    scan_slices = []\n",
    "    for img_file in image_files:\n",
    "        img_file_path = os.path.join(scan_path, img_file)\n",
    "        scan_slice = cv2.imread(img_file_path, cv2.IMREAD_UNCHANGED)\n",
    "        scan_slice = scan_slice.astype('float32')\n",
    "        scan_slices.append(scan_slice)\n",
    "    \n",
    "    img = np.stack(scan_slices)\n",
    "    max_val = np.max(img)\n",
    "    if max_val:\n",
    "        img /= max_val\n",
    "\n",
    "    return img\n",
    "\n",
    "def load_mask(path):\n",
    "    mask = np.load(path).transpose([3,0,1,2])\n",
    "    mask = mask.astype('float32')\n",
    "    return mask\n",
    "\n",
    "# ref.: https://www.kaggle.com/stainsby/fast-tested-rle\n",
    "def rle_encode(img):\n",
    "    '''\n",
    "    img: numpy array, 1 - mask, 0 - background\n",
    "    Returns run length as string formated\n",
    "    '''\n",
    "    pixels = img.flatten()\n",
    "    pixels = np.concatenate([[0], pixels, [0]])\n",
    "    runs = np.where(pixels[1:] != pixels[:-1])[0] + 1\n",
    "    runs[1::2] -= runs[::2]\n",
    "    return ' '.join(str(x) for x in runs)"
   ]
  },
  {
   "cell_type": "markdown",
   "id": "3da8a770-7c7e-433e-9369-16cfb65011f0",
   "metadata": {},
   "source": [
    "## Dataset"
   ]
  },
  {
   "cell_type": "code",
   "execution_count": 7,
   "id": "32d6b56f-1000-4978-8912-a6f9c38a4c57",
   "metadata": {},
   "outputs": [],
   "source": [
    "set_dimension_order_to_c_z_x_y = tio.Lambda(lambda x: torch.permute(x,(0,3,1,2)), types_to_apply=[tio.INTENSITY, tio.LABEL])\n",
    "\n",
    "data_transforms = {\n",
    "    \"train\": tio.Compose(\n",
    "        [tio.RescaleIntensity(out_min_max=(0, 1)), \n",
    "         tio.Resize(target_shape=CFG.image_size, image_interpolation='linear', label_interpolation='nearest'), \n",
    "         tio.RandomFlip(axes=(0,1), p=0.2), \n",
    "         tio.RandomAffine(scales=(0.9, 1.2), degrees=15, p=0.2), \n",
    "         tio.OneOf([tio.RandomElasticDeformation(), tio.RandomMotion()], p=0.3), \n",
    "         tio.OneOf([tio.RandomGhosting(), tio.RandomSpike(), tio.RandomBlur()], p=0.3),\n",
    "         # \n",
    "         \n",
    "         set_dimension_order_to_c_z_x_y\n",
    "        ]\n",
    "    ),\n",
    "    \"valid\": tio.Compose(\n",
    "        [tio.RescaleIntensity(out_min_max=(0, 1)), \n",
    "         tio.Resize(target_shape=CFG.image_size, image_interpolation='linear', label_interpolation='nearest'),\n",
    "         set_dimension_order_to_c_z_x_y]\n",
    "    )\n",
    "}"
   ]
  },
  {
   "cell_type": "code",
   "execution_count": 8,
   "id": "a9e1628d-bb80-4c59-b5eb-f70045bc22c5",
   "metadata": {},
   "outputs": [],
   "source": [
    "# Functions for creating Torchio Subject instances\n",
    "def scan_reader(scan_path):\n",
    "    image_files = [f for f in os.listdir(scan_path) if os.path.isfile(os.path.join(scan_path, f))]\n",
    "    image_files.sort(key=lambda x: int(x.split('_')[1]))\n",
    "    \n",
    "    scan_slices = []\n",
    "    for img_file in image_files:\n",
    "        img_file_path = os.path.join(scan_path, img_file)\n",
    "        scan_slice = cv2.imread(img_file_path, cv2.IMREAD_UNCHANGED)\n",
    "        scan_slice = np.expand_dims(scan_slice, axis=0)\n",
    "        scan_slice = scan_slice.astype('float32')\n",
    "        scan_slices.append(scan_slice)\n",
    "    \n",
    "    img = np.stack(scan_slices, axis=-1)\n",
    "\n",
    "    return img, None\n",
    "\n",
    "def mask_reader(path):\n",
    "    mask = np.load(path).transpose([3,0,1,2])\n",
    "    mask = mask.astype('float32')\n",
    "    return mask, None\n",
    "\n",
    "def get_subject(case_day, scan_path, mask_path=None):\n",
    "    if not mask_path:\n",
    "        return tio.Subject(case_day=case_day, scan=tio.ScalarImage(path=scan_path, reader=scan_reader))\n",
    "\n",
    "    return tio.Subject(\n",
    "        case_day=case_day,\n",
    "        scan=tio.ScalarImage(path=scan_path, reader=scan_reader),\n",
    "        label=tio.LabelMap(path=mask_path, reader=mask_reader),\n",
    "    )"
   ]
  },
  {
   "cell_type": "code",
   "execution_count": 9,
   "id": "afb9c427-b0ee-41cf-98dd-d4263934ad3a",
   "metadata": {},
   "outputs": [],
   "source": [
    "# function for assigning fold to Data frame rows\n",
    "\n",
    "def assign_fold_to_df(df, num_folds=5):\n",
    "    num_rows = len(df)\n",
    "    folds = np.zeros(num_rows, dtype='uint8')\n",
    "    fold_vals = [i for i in range(num_folds)]\n",
    "    indices = [i for i in range(num_rows)]\n",
    "    random.shuffle(indices)\n",
    "    random.shuffle(fold_vals)\n",
    "    for i in indices:\n",
    "        folds[i] = fold_vals[i % num_folds]\n",
    "\n",
    "     # not shuffling fold_vals will cause some fold indices to always get less number of items than other fold indices.\n",
    "    # EX: number of items is 2, and num_folds = 3. Assigning fold index with order [0,1,2] will make only fold-0 and fold-1 get an item, while fold-2 has 0 item.\n",
    " \n",
    "    df['fold'] = folds"
   ]
  },
  {
   "cell_type": "code",
   "execution_count": 10,
   "id": "dac6d215-6498-4405-809b-b190a0f07734",
   "metadata": {},
   "outputs": [],
   "source": [
    "def prepare_loaders(df, fold, debug=False):\n",
    "    train_df = df.query(\"fold!=@fold\").reset_index(drop=True)\n",
    "    valid_df = df.query(\"fold==@fold\").reset_index(drop=True)\n",
    "    \n",
    "    train_dataset = tio.SubjectsDataset(\n",
    "        [get_subject(row['case_day'], row['image_path'], row['mask_path']) for _, row in train_df.iterrows()], \n",
    "        transform=data_transforms['train']\n",
    "    )\n",
    "    valid_dataset = tio.SubjectsDataset(\n",
    "        [get_subject(row['case_day'], row['image_path'], row['mask_path']) for _, row in valid_df.iterrows()], \n",
    "        transform=data_transforms['train']\n",
    "    )\n",
    "\n",
    "    train_loader = DataLoader(train_dataset, batch_size=CFG.train_bs if not debug else 4, \n",
    "                              num_workers=4, shuffle=True, pin_memory=False, drop_last=False)\n",
    "    valid_loader = DataLoader(valid_dataset, batch_size=CFG.valid_bs if not debug else 4, \n",
    "                              num_workers=4, shuffle=False, pin_memory=False)\n",
    "    \n",
    "    return train_loader, valid_loader"
   ]
  },
  {
   "cell_type": "code",
   "execution_count": 11,
   "id": "7f4b5a7f-c5f8-4f8a-81ac-a7d73803ea20",
   "metadata": {},
   "outputs": [
    {
     "data": {
      "text/html": [
       "<div>\n",
       "<style scoped>\n",
       "    .dataframe tbody tr th:only-of-type {\n",
       "        vertical-align: middle;\n",
       "    }\n",
       "\n",
       "    .dataframe tbody tr th {\n",
       "        vertical-align: top;\n",
       "    }\n",
       "\n",
       "    .dataframe thead th {\n",
       "        text-align: right;\n",
       "    }\n",
       "</style>\n",
       "<table border=\"1\" class=\"dataframe\">\n",
       "  <thead>\n",
       "    <tr style=\"text-align: right;\">\n",
       "      <th></th>\n",
       "      <th>case_day</th>\n",
       "      <th>image_path</th>\n",
       "      <th>mask_path</th>\n",
       "      <th>fold</th>\n",
       "    </tr>\n",
       "  </thead>\n",
       "  <tbody>\n",
       "    <tr>\n",
       "      <th>0</th>\n",
       "      <td>case123_day20</td>\n",
       "      <td>./input/uw-madison-gi-tract-image-segmentation...</td>\n",
       "      <td>./input/uw-madison-gi-tract-image-segmentation...</td>\n",
       "      <td>1</td>\n",
       "    </tr>\n",
       "    <tr>\n",
       "      <th>432</th>\n",
       "      <td>case123_day22</td>\n",
       "      <td>./input/uw-madison-gi-tract-image-segmentation...</td>\n",
       "      <td>./input/uw-madison-gi-tract-image-segmentation...</td>\n",
       "      <td>2</td>\n",
       "    </tr>\n",
       "    <tr>\n",
       "      <th>864</th>\n",
       "      <td>case123_day0</td>\n",
       "      <td>./input/uw-madison-gi-tract-image-segmentation...</td>\n",
       "      <td>./input/uw-madison-gi-tract-image-segmentation...</td>\n",
       "      <td>0</td>\n",
       "    </tr>\n",
       "    <tr>\n",
       "      <th>1296</th>\n",
       "      <td>case77_day20</td>\n",
       "      <td>./input/uw-madison-gi-tract-image-segmentation...</td>\n",
       "      <td>./input/uw-madison-gi-tract-image-segmentation...</td>\n",
       "      <td>3</td>\n",
       "    </tr>\n",
       "  </tbody>\n",
       "</table>\n",
       "</div>"
      ],
      "text/plain": [
       "           case_day                                         image_path  \\\n",
       "0     case123_day20  ./input/uw-madison-gi-tract-image-segmentation...   \n",
       "432   case123_day22  ./input/uw-madison-gi-tract-image-segmentation...   \n",
       "864    case123_day0  ./input/uw-madison-gi-tract-image-segmentation...   \n",
       "1296   case77_day20  ./input/uw-madison-gi-tract-image-segmentation...   \n",
       "\n",
       "                                              mask_path  fold  \n",
       "0     ./input/uw-madison-gi-tract-image-segmentation...     1  \n",
       "432   ./input/uw-madison-gi-tract-image-segmentation...     2  \n",
       "864   ./input/uw-madison-gi-tract-image-segmentation...     0  \n",
       "1296  ./input/uw-madison-gi-tract-image-segmentation...     3  "
      ]
     },
     "execution_count": 11,
     "metadata": {},
     "output_type": "execute_result"
    }
   ],
   "source": [
    "# Load data frame\n",
    "\n",
    "df_train = pd.read_csv('./input/uw-madison-gi-tract-image-segmentation/train.csv')\n",
    "train_path = './input/uw-madison-gi-tract-image-segmentation/train'\n",
    "df_train['case_day'] = df_train['id'].map(lambda x: x.split('_slice')[0])\n",
    "df_train.drop(columns=['class', 'segmentation', 'id'], inplace=True)\n",
    "df_train.drop_duplicates(inplace=True)\n",
    "df_train['image_path'] = df_train['case_day'].map(lambda x: f'{train_path}/' + x.split('_')[0] + f'/{x}/scans')\n",
    "df_train['mask_path'] =  df_train['case_day'].map(lambda x: f'{train_path}/' + x.split('_')[0] + f'/{x}/masks3D/{x}.npy')\n",
    "assign_fold_to_df(df_train)\n",
    "df_train.head(4)"
   ]
  },
  {
   "cell_type": "code",
   "execution_count": 11,
   "id": "662d30fa-5a50-42ea-8741-66c275322c57",
   "metadata": {},
   "outputs": [
    {
     "data": {
      "text/plain": [
       "0"
      ]
     },
     "execution_count": 11,
     "metadata": {},
     "output_type": "execute_result"
    }
   ],
   "source": [
    "gc.collect()"
   ]
  },
  {
   "cell_type": "code",
   "execution_count": 13,
   "id": "c1e663d8-42cb-4d94-8cb5-542f0f8970be",
   "metadata": {},
   "outputs": [],
   "source": [
    "train_loader, valid_loader = prepare_loaders(df_train, fold=0, debug=True)"
   ]
  },
  {
   "cell_type": "code",
   "execution_count": 14,
   "id": "244dbc37-6ab0-4359-b6f1-8e02a68cb00d",
   "metadata": {},
   "outputs": [],
   "source": [
    "inputs = None\n",
    "target = None\n",
    "for subjects_batch in train_loader:\n",
    "    inputs = subjects_batch['scan'][tio.DATA]\n",
    "    target = subjects_batch['label'][tio.DATA]\n",
    "    case_days = subjects_batch['case_day']\n",
    "    break"
   ]
  },
  {
   "cell_type": "code",
   "execution_count": 15,
   "id": "9dfbdaf2-77be-4f6a-a08b-1171fd145eff",
   "metadata": {},
   "outputs": [
    {
     "data": {
      "text/plain": [
       "torch.Size([4, 1, 224, 224, 144])"
      ]
     },
     "execution_count": 15,
     "metadata": {},
     "output_type": "execute_result"
    }
   ],
   "source": [
    "inputs.shape"
   ]
  },
  {
   "cell_type": "code",
   "execution_count": 16,
   "id": "200e1057-f605-43a0-8c49-790feebb2e62",
   "metadata": {},
   "outputs": [
    {
     "data": {
      "text/plain": [
       "torch.Size([4, 3, 224, 224, 144])"
      ]
     },
     "execution_count": 16,
     "metadata": {},
     "output_type": "execute_result"
    }
   ],
   "source": [
    "target.shape"
   ]
  },
  {
   "cell_type": "code",
   "execution_count": 17,
   "id": "aaf89538-394b-44f8-bc01-9ff8a5eb3179",
   "metadata": {},
   "outputs": [
    {
     "data": {
      "text/plain": [
       "['case47_day27', 'case119_day25', 'case35_day12', 'case18_day0']"
      ]
     },
     "execution_count": 17,
     "metadata": {},
     "output_type": "execute_result"
    }
   ],
   "source": [
    "case_days"
   ]
  },
  {
   "cell_type": "code",
   "execution_count": 15,
   "id": "a260268b-4e42-4a50-86bb-e1363117a302",
   "metadata": {},
   "outputs": [],
   "source": [
    "mem_info = torch.cuda.mem_get_info(0)"
   ]
  },
  {
   "cell_type": "code",
   "execution_count": 16,
   "id": "d587e553-ed62-479a-ba47-1aadd0738fee",
   "metadata": {},
   "outputs": [
    {
     "data": {
      "text/plain": [
       "(10159652864, 11810701312)"
      ]
     },
     "execution_count": 16,
     "metadata": {},
     "output_type": "execute_result"
    }
   ],
   "source": [
    "mem_info"
   ]
  },
  {
   "cell_type": "markdown",
   "id": "1d045a67-a7d7-4ca7-9dcb-34eb4856b3df",
   "metadata": {},
   "source": [
    "### Compare with Transformed Data\n",
    "\n",
    "Create Dataset and compare with the transformed image.\\\n",
    "You may want to temporaruily remove any spatial transformation that moves the original data along z-axis, \\\n",
    "because bellow code compares image with fixed slice number(z-axis value).\n",
    "\n",
    "Skip bellow section, if you are done dataset debugging"
   ]
  },
  {
   "cell_type": "code",
   "execution_count": null,
   "id": "0dc84380-6f2e-4260-8306-8411e0c19f68",
   "metadata": {},
   "outputs": [],
   "source": [
    "import glob"
   ]
  },
  {
   "cell_type": "code",
   "execution_count": 12,
   "id": "692a7d70-b057-4dea-9c32-3815c727b72d",
   "metadata": {},
   "outputs": [],
   "source": [
    "subject_dataset = tio.SubjectsDataset(\n",
    "        [get_subject(row['case_day'], row['image_path'], row['mask_path']) for _, row in df_train.iterrows()], \n",
    "        transform=data_transforms['train']\n",
    "    )"
   ]
  },
  {
   "cell_type": "code",
   "execution_count": null,
   "id": "6db98b53-48fa-4def-ad49-c728bdecb3ff",
   "metadata": {},
   "outputs": [],
   "source": [
    "# Select a subject\n",
    "# By selecting an item with indexing, data transformation is perofrmed in bellow code.\n",
    "# It will be performed again if you execute bellow code again even with the same index value.\n",
    "subject = subject_dataset[3]"
   ]
  },
  {
   "cell_type": "code",
   "execution_count": 58,
   "id": "6d0f77a9-713b-4023-800c-3635419950da",
   "metadata": {},
   "outputs": [
    {
     "name": "stdout",
     "output_type": "stream",
     "text": [
      "(1, 266, 266, 144)\n"
     ]
    },
    {
     "data": {
      "text/plain": [
       "'case77_day20'"
      ]
     },
     "execution_count": 58,
     "metadata": {},
     "output_type": "execute_result"
    }
   ],
   "source": [
    "slice_num = 113 # z-axis value\n",
    "case_day = subject['case_day']\n",
    "case_day"
   ]
  },
  {
   "cell_type": "code",
   "execution_count": 76,
   "id": "e7f746ab-51c4-4cd8-9211-6c294218a487",
   "metadata": {},
   "outputs": [],
   "source": [
    "slice_num = 78"
   ]
  },
  {
   "cell_type": "code",
   "execution_count": 77,
   "id": "f1e4d747-7ffd-4956-b59d-b27a0ef377b2",
   "metadata": {},
   "outputs": [
    {
     "data": {
      "image/png": "[encoded data removed]",
      "text/plain": [
       "<Figure size 720x432 with 3 Axes>"
      ]
     },
     "metadata": {
      "needs_background": "light"
     },
     "output_type": "display_data"
    },
    {
     "data": {
      "text/plain": [
       "array([0., 0., 0.], dtype=float32)"
      ]
     },
     "execution_count": 77,
     "metadata": {},
     "output_type": "execute_result"
    }
   ],
   "source": [
    "# Show the original image\n",
    "\n",
    "df_row = df_train.loc[df_train['case_day'] == case_day].iloc[0]\n",
    "image_path = glob.glob(df_row['image_path'] + f'/slice_{str(slice_num).zfill(4)}_*.png')[0]\n",
    "image = plt.imread(image_path)\n",
    "mask = load_mask(df_row['mask_path'])[:, :, :, slice_num-1]\n",
    "mask[1] *= 2\n",
    "mask[2] *= 3\n",
    "mask_sum = mask.sum(axis=0)\n",
    "fig, ax = plt.subplots(1,3,figsize=(10,6))\n",
    "ax[0].imshow(image)\n",
    "ax[1].imshow(mask_sum)\n",
    "ax[2].imshow(image,'gray')\n",
    "ax[2].imshow(mask_sum, alpha=0.5)\n",
    "plt.show()\n",
    "mask.sum(axis=(1,2))"
   ]
  },
  {
   "cell_type": "code",
   "execution_count": 78,
   "id": "0c693f6a-f803-4eac-a44e-658d5b3a2941",
   "metadata": {},
   "outputs": [
    {
     "data": {
      "image/png": "[encoded data removed]",
      "text/plain": [
       "<Figure size 720x432 with 3 Axes>"
      ]
     },
     "metadata": {
      "needs_background": "light"
     },
     "output_type": "display_data"
    },
    {
     "data": {
      "text/plain": [
       "tensor([0., 0., 0.])"
      ]
     },
     "execution_count": 78,
     "metadata": {},
     "output_type": "execute_result"
    }
   ],
   "source": [
    "# Show trnsformed image\n",
    "resized_slice_num = slice_num * CFG.image_size[2] // len(glob.glob(df_row['image_path'] + f'/slice_*.png')) \n",
    "image = subject['scan'][tio.DATA][0][:,:, resized_slice_num -1]\n",
    "mask = subject['label'][tio.DATA][:,:,:, resized_slice_num - 1]\n",
    "mask[1] *= 2\n",
    "mask[2] *= 3\n",
    "mask_sum = mask.sum(axis=0)\n",
    "fig, ax = plt.subplots(1,3,figsize=(10,6))\n",
    "ax[0].imshow(image)\n",
    "ax[1].imshow(mask_sum)\n",
    "ax[2].imshow(image,'gray')\n",
    "ax[2].imshow(mask_sum, alpha=0.5)\n",
    "plt.show()\n",
    "mask.sum(axis=(1,2))"
   ]
  },
  {
   "cell_type": "markdown",
   "id": "55ca055d-8dd8-4194-a469-36c0a1bf4b87",
   "metadata": {},
   "source": [
    "## Build Model"
   ]
  },
  {
   "cell_type": "code",
   "execution_count": 11,
   "id": "d3a14fb9-e54a-4578-9897-93702a31b73a",
   "metadata": {},
   "outputs": [],
   "source": [
    "def double_conv_block(in_channels, out_channels):\n",
    "    return nn.Sequential(\n",
    "        nn.Conv3d(in_channels, out_channels, 3, 1, 1, bias=False),\n",
    "        nn.BatchNorm3d(out_channels),\n",
    "        nn.ReLU(inplace=True),\n",
    "        nn.Conv3d(out_channels, out_channels, 3, 1, 1, bias=False),\n",
    "        nn.BatchNorm3d(out_channels),\n",
    "        nn.ReLU(inplace=True),\n",
    "    )\n",
    "\n",
    "class UNet3D(nn.Module):\n",
    "    def __init__(self, in_channels=1, out_channels=3, features =[64, 128, 256, 512]):\n",
    "        super(UNet3D, self).__init__()\n",
    "        self.ups = nn.ModuleList()\n",
    "        self.downs = nn.ModuleList()\n",
    "        self.pool = nn.MaxPool3d(kernel_size=2, stride=2)\n",
    "\n",
    "        #down part of UNet\n",
    "        for feature in features:\n",
    "            self.downs.append(double_conv_block(in_channels, feature))\n",
    "            in_channels = feature\n",
    "\n",
    "        #upsample part of UNet\n",
    "        for feature in reversed(features):\n",
    "            self.ups.append(\n",
    "              nn.ConvTranspose3d(feature*2, feature, kernel_size=2, stride=2)\n",
    "            )\n",
    "            self.ups.append(double_conv_block(feature*2, feature))\n",
    "\n",
    "            self.bottleneck = double_conv_block(features[-1], features[-1]*2)\n",
    "            self.final_conv = nn.Conv3d(features[0], out_channels, kernel_size=1)\n",
    "\n",
    "    def forward(self, x):\n",
    "        skip_connections = []\n",
    "\n",
    "        for down in self.downs:\n",
    "            x = down(x)\n",
    "            skip_connections.append(x)\n",
    "            x = self.pool(x)\n",
    "\n",
    "\n",
    "        x = self.bottleneck(x)\n",
    "        skip_connections = skip_connections[::-1]\n",
    "\n",
    "        for idx in range(0, len(self.ups), 2):\n",
    "            x = self.ups[idx](x)\n",
    "            skip_connection = skip_connections[idx//2]\n",
    "\n",
    "            # if x.shape != skip_connection.shape:\n",
    "            #     x = TF.resize(x, size=skip_connection.shape[2:])\n",
    "\n",
    "            concat_skip = torch.cat((skip_connection, x), dim=1)\n",
    "            x = self.ups[idx+1](concat_skip)\n",
    "\n",
    "        return self.final_conv(x)"
   ]
  },
  {
   "cell_type": "code",
   "execution_count": 12,
   "id": "f8a01d7f-9586-4962-b34f-ee73914abac3",
   "metadata": {},
   "outputs": [
    {
     "name": "stdout",
     "output_type": "stream",
     "text": [
      "torch.Size([2, 1, 128, 128, 64])\n",
      "torch.Size([2, 3, 128, 128, 64])\n"
     ]
    }
   ],
   "source": [
    "x = torch.randn((2,1, 128, 128, 64))\n",
    "print(x.shape)\n",
    "model = UNet3D()\n",
    "# model.to(CFG.device)\n",
    "# x = x.to(CFG.device, dtype=torch.float)\n",
    "preds = model(x)\n",
    "\n",
    "print(preds.shape)"
   ]
  },
  {
   "cell_type": "raw",
   "id": "3185c1ac-900b-4164-8b3d-831f02a83aab",
   "metadata": {},
   "source": []
  },
  {
   "cell_type": "code",
   "execution_count": null,
   "id": "21337543-ce88-492a-86bd-50c1c9e38749",
   "metadata": {},
   "outputs": [],
   "source": [
    "class DiceLoss(torch.nn.Module):\n",
    "    def init(self):\n",
    "        super(DiceLoss, self).init()\n",
    "    def forward(self, pred, target):\n",
    "        smooth = 1.\n",
    "        iflat = pred.contiguous().view(-1)\n",
    "        tflat = target.contiguous().view(-1)\n",
    "        intersection = (iflat * tflat).sum()\n",
    "        A_sum = torch.sum(iflat * iflat)\n",
    "        B_sum = torch.sum(tflat * tflat)\n",
    "        return 1 - ((2. * intersection + smooth) / (A_sum + B_sum + smooth) )\n",
    "\n",
    "        \n",
    "class WeightedHausdorffLossRough(torch.nn.Module):\n",
    "    def init(self, resized_shape):\n",
    "        indices = np.indices(CFG.hausdoff_distance_measure_size).astype('float16') # using fixed shape, because otherwise memory is not enough\n",
    "        indices += 0.5\n",
    "        indices = indices.reshape(3, -1)\n",
    "        indices_tr = np.transpose(indices)\n",
    "        distances = np.sqrt(np.matmul(indices_tr, indices))\n",
    "        max_distance = np.sqrt(np.sum(np.power(CFG.hausdoff_distance_measure_size, 2)))\n",
    "        self.distances = torch.tensor(distances)\n",
    "        self.max_distance = torch.tensor(max_distance)\n",
    "        \n",
    "        super(HausdorffLoss, self).init()\n",
    "    def forward(self, pred, target):\n",
    "        pred = torch.flatten(TF.resize(pred, size=CFG.hausdoff_distance_measure_size), start_dim=2)\n",
    "        pred_unsqueezed = pred.unsqueeze(-2)\n",
    "        weighted_distnaces = distance * pred_unsqueezed\n",
    "        alpha = 1.0\n",
    "        gen_mean_dist = torch.pow(\n",
    "            torch.mean(\n",
    "                torch.pow(\n",
    "                    (weighted_distances + (1.0 - pred_unsqueezed) * self.max_distance), \n",
    "                    alpha\n",
    "                ), \n",
    "                dim=3\n",
    "            ), \n",
    "            1.0/alpha\n",
    "        )\n",
    "        \n",
    "        ret = torch.sum(general_mean_dist * target, dim=2) // (torch.sum(target, dim=2) + 0.000006)\n",
    "        \n",
    "        target = torch.flatten(TF.resize(target, size=CFG.hausdoff_distance_measure_size), start_dim=2).unsqueeze(-1)\n",
    "        y_masked_distances = distances + ((1.0 - target) * self.max_distance)\n",
    "        min_dist, _ = torch.min(y_masked_distances, dim=2)\n",
    "        ret += torch.sum(min_dist * pred, dim=-1)\n",
    "        \n",
    "        return torch.sum(ret, dim=-1) # sum the hausdorff distance of all labels\n",
    "\n",
    "class WeightedHausdorffLoss(torch.nn.Module):\n",
    "    def init(self, num_classes, resized_shape, alpha=-1.0, device=torch.device('cpu')):\n",
    "        self.alpha = alhpa\n",
    "        self.width, self.height, self.depth = resized_shape\n",
    "        self.num_classes = num_classes\n",
    "        self.resized_size = torch.tensor(resized_shape,\n",
    "                                         dtype=torch.get_default_dtype(),\n",
    "                                         device=device)\n",
    "        self.max_distance = np.sqrt(resized_shape[0]**2 + resized_shape[1]**2 + resized_shape[2]**2) \n",
    "        self.n_pixels = np.prod(resized_shape)\n",
    "        \n",
    "        self.all_pixel_locations = torch.from_numpy(\n",
    "            np.indices(resized_shape, dtype=np.int32).reshape(3,-1).transpose()\n",
    "        ).to(device=device, dtype=torch.get_default_dtype())\n",
    "        super(WeightedHausdorffLoss, self).init()\n",
    "        \n",
    "    def forward(self, prob_map, gt, orig_sizes):\n",
    "        \"\"\"\n",
    "        Compute the Weighted Hausdorff Distance function\n",
    "        between the estimated probability map and ground truth points.\n",
    "        The output is the WHD averaged through all the batch.\n",
    "        :param prob_map: (B x C x W x H x D) Tensor of the probability map of the estimation.\n",
    "                         B is batch size, C is number of classes, H is height, W is width and D is depth.\n",
    "                         Values must be between 0 and 1.\n",
    "        :param gt: List of List of Tensors of the Ground Truth points.\n",
    "                   The outer most list must be of size B as in prob_map.\n",
    "                   The second outer most list must be of size C.\n",
    "                   Each element in the second outer most list must be a 2D Tensor,\n",
    "                   where each row is the (x, y, z), i.e, (col, row, depth) of a GT point.\n",
    "        :param orig_sizes: Bx3 Tensor containing the size\n",
    "                           of the original images.\n",
    "                           B is batch size.\n",
    "                           The size must be in (width, height, depth) format.\n",
    "        :return: Single-scalar Tensor with the Weighted Hausdorff Distance.\n",
    "                 If self.return_2_terms=True, then return a tuple containing\n",
    "                 the two terms of the Weighted Hausdorff Distance.\n",
    "        \"\"\"\n",
    "\n",
    "        _assert_no_grad(gt)\n",
    "\n",
    "        assert prob_map.dim() == 5, 'The probability map shape must be (B x C x W x H x D)'\n",
    "        assert prob_map.size()[1:4] == (self.num_classes, self.width, self.height, self.depth), \\\n",
    "        f'prob_map size is {prob_map.size()[2:3]}, it must have size {(self.num_classes, self.width, self.height, self.depth)}'\n",
    "\n",
    "        batch_size = prob_map.shape[0]\n",
    "        assert batch_size == len(gt)\n",
    "\n",
    "        distances_by_class = [[] for _ in range(num_classes)]\n",
    "        class_distance_sum = []\n",
    "        for batch_index in range(batch_size):\n",
    "            orig_size_b = orig_sizes[batch_index, :]\n",
    "            norm_factor = (orig_size_b/self.resized_size)\n",
    "            for class_index in range(self.num_classes):\n",
    "                # One by one\n",
    "                prob_map_b = prob_map[batch_index, class_index]\n",
    "                gt_b = gt[batch_index][class_index]\n",
    "                \n",
    "                n_gt_pts = gt_b.size()[0]\n",
    "\n",
    "                # Corner case: no GT points\n",
    "                if gt_b.ndimension() == 1 and (gt_b < 0).all().item() == 0:\n",
    "                    terms_1[class_index].append(torch.tensor([self.max_dist], dtype=torch.get_default_dtype()))\n",
    "                    terms_2[class_index].append(torch.tensor([0], dtype=torch.get_default_dtype()))\n",
    "                    continue\n",
    "\n",
    "                # Pairwise distances between all possible locations and the GTed locations\n",
    "                n_gt_pts = gt_b.size()[0]\n",
    "                \n",
    "                # normalized_x has shape (width * height * depth, 3)\n",
    "                # normalized_y has shape (number of masked points, 3)\n",
    "                normalized_x = norm_factor * self.all_img_locations\n",
    "                normalized_y = norm_factor * gt_b\n",
    "\n",
    "                # normalized_x.unsqueeze(1) has shape (width * height * depth, 1, 3)\n",
    "                # normalized_y.unsqueeze(0) has shape (1, number of masked points, 3)\n",
    "                # diff has shape (width * height * depth, number of true segmented points, 3)\n",
    "                diffs = normalized_x.unsqueeze(1) - normalized_y.unsqueeze(0)\n",
    "                \n",
    "                # distances has shape (width * height * depth, number of true segmented points)\n",
    "                distance_matrix = torch.sum(diffs ** 2, -1).sqrt()\n",
    "\n",
    "                # Reshape probability map as a long column vector,\n",
    "                # and prepare it for multiplication\n",
    "                p = prob_map_b.view(prob_map_b.nelement())\n",
    "                total_x_weight = p.sum()\n",
    "\n",
    "                # Weighted Hausdorff Distance\n",
    "                term_1 = (1 / (total_x_weight + 1e-6)) * torch.sum(p * torch.min(distance_matrix, 1)[0])\n",
    "                \n",
    "                p = p.view(-1, 1)\n",
    "                weighted_d_matrix = (1 - p)*self.max_dist + p*d_matrix\n",
    "                \n",
    "                # get generalized mean\n",
    "                generalized_mean = torch.mean((weighted_matrix + 1e-6)**p, 0)**(1./p)\n",
    "                term_2 = torch.mean(generalized_mean)\n",
    "                \n",
    "                result = term_1 + term_2\n",
    "                distances_by_class[class_index].append(result)\n",
    "\n",
    "        if self.return_by_class\n",
    "            return [torch.stack(class_result).mean() for class_result in weighted_distances]\n",
    "\n",
    "        batch_results = []\n",
    "        for batch_index in range(batch_size):\n",
    "            class_total_dist = torch.stack([distances_by_class[class_index][batch_index] for class_index in range(self.num_classes)]).sum()\n",
    "            batch_results.append(class_total_dist)\n",
    "\n",
    "        return torch.stack(batch_results).mean()"
   ]
  },
  {
   "cell_type": "code",
   "execution_count": 15,
   "id": "1ab5a3a0-6ba5-438a-ab45-505619df729b",
   "metadata": {},
   "outputs": [
    {
     "data": {
      "text/plain": [
       "torch.Size([2, 3, 4])"
      ]
     },
     "execution_count": 15,
     "metadata": {},
     "output_type": "execute_result"
    }
   ],
   "source": [
    "pred = torch.tensor([[[0,0,0,0,], [0,0,0.9,0.5], [0.8,0,0,0],], [[0.7,0.8,1.0,1.0], [1.0,0,0,0.3], [0,0,0,0],]])\n",
    "pred.shape"
   ]
  },
  {
   "cell_type": "code",
   "execution_count": 24,
   "id": "9c0c8a9c-e602-4fa6-8929-4cc7cb9ab765",
   "metadata": {},
   "outputs": [],
   "source": [
    "orig_sizes = torch.tensor([[244, 244, 144], [256,256,122]])"
   ]
  },
  {
   "cell_type": "code",
   "execution_count": 25,
   "id": "c2d29ceb-ca78-40b4-82af-29c06f08f6d1",
   "metadata": {},
   "outputs": [],
   "source": [
    "resized_size = torch.tensor([128, 128, 64])"
   ]
  },
  {
   "cell_type": "code",
   "execution_count": 39,
   "id": "e6f53146-c43c-4f94-b760-f08f146c4929",
   "metadata": {},
   "outputs": [],
   "source": [
    "norm = (orig_sizes[1] / resized_size)"
   ]
  },
  {
   "cell_type": "code",
   "execution_count": 40,
   "id": "c5c43dee-d7d4-4eaf-8522-76a74a54ee25",
   "metadata": {},
   "outputs": [
    {
     "data": {
      "text/plain": [
       "torch.Size([3])"
      ]
     },
     "execution_count": 40,
     "metadata": {},
     "output_type": "execute_result"
    }
   ],
   "source": [
    "norm.shape"
   ]
  },
  {
   "cell_type": "code",
   "execution_count": 41,
   "id": "ed469564-878b-45bb-9693-cd8ef5169226",
   "metadata": {},
   "outputs": [],
   "source": [
    "indices = np.indices((4,5,3), dtype=np.int32) # using fixed shape, because otherwise memory is not enough\n",
    "indices = indices.reshape(3, -1)\n",
    "all_pixel_locations = torch.from_numpy(indices.transpose()\n",
    "        )"
   ]
  },
  {
   "cell_type": "code",
   "execution_count": 43,
   "id": "49e8969b-a1ae-4be0-badf-4ae99ae8e178",
   "metadata": {},
   "outputs": [
    {
     "data": {
      "text/plain": [
       "torch.Size([60, 3])"
      ]
     },
     "execution_count": 43,
     "metadata": {},
     "output_type": "execute_result"
    }
   ],
   "source": [
    "all_pixel_locations.shape"
   ]
  },
  {
   "cell_type": "code",
   "execution_count": 53,
   "id": "3647fae7-179b-45aa-a742-1858bcdb54da",
   "metadata": {},
   "outputs": [
    {
     "data": {
      "text/plain": [
       "tensor([[2.0000, 2.0000, 1.9062],\n",
       "        [2.0000, 2.0000, 1.9062],\n",
       "        [2.0000, 2.0000, 1.9062],\n",
       "        [2.0000, 2.0000, 1.9062]])"
      ]
     },
     "execution_count": 53,
     "metadata": {},
     "output_type": "execute_result"
    }
   ],
   "source": [
    "norm.repeat(4, 1)"
   ]
  },
  {
   "cell_type": "code",
   "execution_count": 46,
   "id": "c5d34302-3b05-4dc1-bb20-7c3c151e730b",
   "metadata": {},
   "outputs": [],
   "source": [
    "normalized_x = all_pixel_locations * norm"
   ]
  },
  {
   "cell_type": "code",
   "execution_count": 33,
   "id": "0b284811-8ce4-4d45-8f38-2cfc7d03e19f",
   "metadata": {},
   "outputs": [],
   "source": [
    "gt_b = torch.tensor([])"
   ]
  },
  {
   "cell_type": "code",
   "execution_count": 34,
   "id": "f5712106-7806-4e61-ae32-9051888757d9",
   "metadata": {},
   "outputs": [
    {
     "data": {
      "text/plain": [
       "1"
      ]
     },
     "execution_count": 34,
     "metadata": {},
     "output_type": "execute_result"
    }
   ],
   "source": [
    "gt_b.ndimension()"
   ]
  },
  {
   "cell_type": "code",
   "execution_count": 57,
   "id": "15a18e70-7ee1-4c8b-b771-956ebda3b783",
   "metadata": {},
   "outputs": [],
   "source": [
    "gt_b = torch.tensor([[0,0,0], [3,2,1], [1,3,2],[2,2,2]])"
   ]
  },
  {
   "cell_type": "code",
   "execution_count": 38,
   "id": "ef1b3d90-ddac-4142-a336-320120053ea5",
   "metadata": {},
   "outputs": [
    {
     "data": {
      "text/plain": [
       "False"
      ]
     },
     "execution_count": 38,
     "metadata": {},
     "output_type": "execute_result"
    }
   ],
   "source": [
    "(gt_b < 0).all().item()"
   ]
  },
  {
   "cell_type": "code",
   "execution_count": 58,
   "id": "bf55547f-c5bf-4e63-96f7-6ddd608d5bfb",
   "metadata": {},
   "outputs": [],
   "source": [
    "normalized_y = gt_b * norm"
   ]
  },
  {
   "cell_type": "code",
   "execution_count": 59,
   "id": "7fb2fb34-30da-4a27-b62c-6bc75baa0d51",
   "metadata": {},
   "outputs": [
    {
     "data": {
      "text/plain": [
       "(torch.Size([60, 3]), torch.Size([4, 3]))"
      ]
     },
     "execution_count": 59,
     "metadata": {},
     "output_type": "execute_result"
    }
   ],
   "source": [
    "normalized_x.shape, normalized_y.shape"
   ]
  },
  {
   "cell_type": "code",
   "execution_count": 60,
   "id": "e117be34-30d4-4644-b9ad-1083a73aae2b",
   "metadata": {},
   "outputs": [
    {
     "data": {
      "text/plain": [
       "(torch.Size([60, 1, 3]), torch.Size([1, 4, 3]))"
      ]
     },
     "execution_count": 60,
     "metadata": {},
     "output_type": "execute_result"
    }
   ],
   "source": [
    "unsqueezed_x = normalized_x.unsqueeze(1) \n",
    "unsqueezed_y = normalized_y.unsqueeze(0)\n",
    "unsqueezed_x.shape, unsqueezed_y.shape"
   ]
  },
  {
   "cell_type": "code",
   "execution_count": 63,
   "id": "feb85f58-d82f-4211-9eb5-521521a3407a",
   "metadata": {},
   "outputs": [],
   "source": [
    "diff = unsqueezed_y - unsqueezed_x"
   ]
  },
  {
   "cell_type": "code",
   "execution_count": 64,
   "id": "0589e56a-b28b-4ab7-ba7b-14870d13cfc1",
   "metadata": {},
   "outputs": [
    {
     "data": {
      "text/plain": [
       "torch.Size([60, 4, 3])"
      ]
     },
     "execution_count": 64,
     "metadata": {},
     "output_type": "execute_result"
    }
   ],
   "source": [
    "diff.shape"
   ]
  },
  {
   "cell_type": "code",
   "execution_count": 66,
   "id": "e5d2e83a-33c0-4362-a2e1-9fbfbd7161be",
   "metadata": {},
   "outputs": [],
   "source": [
    "distances = torch.sum(diff ** 2, -1).sqrt()"
   ]
  },
  {
   "cell_type": "code",
   "execution_count": 67,
   "id": "6371dbfe-fb30-4252-a940-2865d4c403c3",
   "metadata": {},
   "outputs": [
    {
     "data": {
      "text/plain": [
       "torch.Size([60, 4])"
      ]
     },
     "execution_count": 67,
     "metadata": {},
     "output_type": "execute_result"
    }
   ],
   "source": [
    "distances.shape"
   ]
  },
  {
   "cell_type": "code",
   "execution_count": 68,
   "id": "252ef415-4021-4777-b720-beb0cd3725e0",
   "metadata": {},
   "outputs": [],
   "source": [
    "pred = torch.tensor([i/60.0 for i in range(60)])"
   ]
  },
  {
   "cell_type": "code",
   "execution_count": 69,
   "id": "ac2cac91-ba12-4f52-99fe-5615c363c93f",
   "metadata": {},
   "outputs": [
    {
     "data": {
      "text/plain": [
       "torch.Size([60])"
      ]
     },
     "execution_count": 69,
     "metadata": {},
     "output_type": "execute_result"
    }
   ],
   "source": [
    "pred.shape"
   ]
  },
  {
   "cell_type": "code",
   "execution_count": 72,
   "id": "1a5ade79-4702-4ab2-841e-4fec9b1f7da4",
   "metadata": {},
   "outputs": [
    {
     "data": {
      "text/plain": [
       "tensor([[ 0.0000,  7.4588,  7.3848,  6.8217],\n",
       "        [ 1.9062,  7.2111,  6.6056,  5.9694],\n",
       "        [ 3.8125,  7.4588,  6.3246,  5.6569],\n",
       "        [ 2.0000,  6.6056,  5.8767,  5.8767],\n",
       "        [ 2.7629,  6.3246,  4.8615,  4.8615],\n",
       "        [ 4.3052,  6.6056,  4.4721,  4.4721],\n",
       "        [ 4.0000,  6.2955,  4.7471,  5.5259],\n",
       "        [ 4.4310,  6.0000,  3.4108,  4.4310],\n",
       "        [ 5.5259,  6.2955,  2.8284,  4.0000],\n",
       "        [ 6.0000,  6.6056,  4.3052,  5.8767],\n",
       "        [ 6.2955,  6.3246,  2.7629,  4.8615],\n",
       "        [ 7.1088,  6.6056,  2.0000,  4.4721],\n",
       "        [ 8.0000,  7.4588,  4.7471,  6.8217],\n",
       "        [ 8.2240,  7.2111,  3.4108,  5.9694],\n",
       "        [ 8.8620,  7.4588,  2.8284,  5.6569],\n",
       "        [ 2.0000,  5.9694,  7.1088,  5.8767],\n",
       "        [ 2.7629,  5.6569,  6.2955,  4.8615],\n",
       "        [ 4.3052,  5.9694,  6.0000,  4.4721],\n",
       "        [ 2.8284,  4.8615,  5.5259,  4.7471],\n",
       "        [ 3.4108,  4.4721,  4.4310,  3.4108],\n",
       "        [ 4.7471,  4.8615,  4.0000,  2.8284],\n",
       "        [ 4.4721,  4.4310,  4.3052,  4.3052],\n",
       "        [ 4.8615,  4.0000,  2.7629,  2.7629],\n",
       "        [ 5.8767,  4.4310,  2.0000,  2.0000],\n",
       "        [ 6.3246,  4.8615,  3.8125,  4.7471],\n",
       "        [ 6.6056,  4.4721,  1.9062,  3.4108],\n",
       "        [ 7.3848,  4.8615,  0.0000,  2.8284],\n",
       "        [ 8.2462,  5.9694,  4.3052,  5.8767],\n",
       "        [ 8.4637,  5.6569,  2.7629,  4.8615],\n",
       "        [ 9.0849,  5.9694,  2.0000,  4.4721],\n",
       "        [ 4.0000,  4.8615,  7.3848,  5.5259],\n",
       "        [ 4.4310,  4.4721,  6.6056,  4.4310],\n",
       "        [ 5.5259,  4.8615,  6.3246,  4.0000],\n",
       "        [ 4.4721,  3.4108,  5.8767,  4.3052],\n",
       "        [ 4.8615,  2.8284,  4.8615,  2.7629],\n",
       "        [ 5.8767,  3.4108,  4.4721,  2.0000],\n",
       "        [ 5.6569,  2.7629,  4.7471,  3.8125],\n",
       "        [ 5.9694,  2.0000,  3.4108,  1.9062],\n",
       "        [ 6.8217,  2.7629,  2.8284,  0.0000],\n",
       "        [ 7.2111,  3.4108,  4.3052,  4.3052],\n",
       "        [ 7.4588,  2.8284,  2.7629,  2.7629],\n",
       "        [ 8.1569,  3.4108,  2.0000,  2.0000],\n",
       "        [ 8.9443,  4.8615,  4.7471,  5.5259],\n",
       "        [ 9.1452,  4.4721,  3.4108,  4.4310],\n",
       "        [ 9.7229,  4.8615,  2.8284,  4.0000],\n",
       "        [ 6.0000,  4.4310,  8.1569,  5.8767],\n",
       "        [ 6.2955,  4.0000,  7.4588,  4.8615],\n",
       "        [ 7.1088,  4.4310,  7.2111,  4.4721],\n",
       "        [ 6.3246,  2.7629,  6.8217,  4.7471],\n",
       "        [ 6.6056,  2.0000,  5.9694,  3.4108],\n",
       "        [ 7.3848,  2.7629,  5.6569,  2.8284],\n",
       "        [ 7.2111,  1.9062,  5.8767,  4.3052],\n",
       "        [ 7.4588,  0.0000,  4.8615,  2.7629],\n",
       "        [ 8.1569,  1.9062,  4.4721,  2.0000],\n",
       "        [ 8.4853,  2.7629,  5.5259,  4.7471],\n",
       "        [ 8.6968,  2.0000,  4.4310,  3.4108],\n",
       "        [ 9.3024,  2.7629,  4.0000,  2.8284],\n",
       "        [10.0000,  4.4310,  5.8767,  5.8767],\n",
       "        [10.1801,  4.0000,  4.8615,  4.8615],\n",
       "        [10.7021,  4.4310,  4.4721,  4.4721]])"
      ]
     },
     "execution_count": 72,
     "metadata": {},
     "output_type": "execute_result"
    }
   ],
   "source": [
    "distances"
   ]
  },
  {
   "cell_type": "code",
   "execution_count": 73,
   "id": "7ccfb7ad-3db5-41d2-bd91-0e8af8939a5b",
   "metadata": {},
   "outputs": [],
   "source": [
    "weighted = pred.view(-1, 1)* distances"
   ]
  },
  {
   "cell_type": "code",
   "execution_count": 74,
   "id": "23d016e0-e666-46a0-ac78-c022e753af28",
   "metadata": {},
   "outputs": [
    {
     "data": {
      "text/plain": [
       "torch.Size([60, 4])"
      ]
     },
     "execution_count": 74,
     "metadata": {},
     "output_type": "execute_result"
    }
   ],
   "source": [
    "weighted.shape"
   ]
  },
  {
   "cell_type": "code",
   "execution_count": 4,
   "id": "b1155b25-a633-4ca9-af10-841996c9ef75",
   "metadata": {},
   "outputs": [],
   "source": [
    "gc.collect()\n",
    "indices = np.indices(CFG.hausdoff_distance_measure_size).astype('float16') # using fixed shape, because otherwise memory is not enough\n",
    "indices += 0.5\n",
    "indices = indices.reshape(3, -1)\n",
    "indices_tr = np.transpose(indices)\n",
    "distances = np.sqrt(np.matmul(indices_tr, indices))\n",
    "max_distance = np.sqrt(np.sum(np.power(CFG.hausdoff_distance_measure_size, 2)))\n",
    "# distances = torch.tensor(distances)\n",
    "# max_distance = torch.tensor(max_distance)"
   ]
  },
  {
   "cell_type": "code",
   "execution_count": 14,
   "id": "5d86232a-991b-4e31-b3ce-facd8b03ff58",
   "metadata": {},
   "outputs": [
    {
     "data": {
      "text/plain": [
       "dtype('int16')"
      ]
     },
     "execution_count": 14,
     "metadata": {},
     "output_type": "execute_result"
    }
   ],
   "source": [
    "indices.dtype"
   ]
  },
  {
   "cell_type": "code",
   "execution_count": 98,
   "id": "5df57aed-c22a-41dd-aef1-967c1e5f3937",
   "metadata": {},
   "outputs": [
    {
     "data": {
      "text/plain": [
       "(16384, 16384)"
      ]
     },
     "execution_count": 98,
     "metadata": {},
     "output_type": "execute_result"
    }
   ],
   "source": [
    "distances.shape"
   ]
  },
  {
   "cell_type": "code",
   "execution_count": 99,
   "id": "c2683001-b986-4bf4-ac2d-57de4de4b5e3",
   "metadata": {},
   "outputs": [
    {
     "data": {
      "text/plain": [
       "48.0"
      ]
     },
     "execution_count": 99,
     "metadata": {},
     "output_type": "execute_result"
    }
   ],
   "source": [
    "max_distance"
   ]
  },
  {
   "cell_type": "code",
   "execution_count": 100,
   "id": "3b361ffd-2b52-4f87-8b39-c99ca37db5ad",
   "metadata": {},
   "outputs": [
    {
     "data": {
      "text/plain": [
       "47.16"
      ]
     },
     "execution_count": 100,
     "metadata": {},
     "output_type": "execute_result"
    }
   ],
   "source": [
    "np.max(distances)"
   ]
  },
  {
   "cell_type": "code",
   "execution_count": 91,
   "id": "26febff8-4ba9-4fce-b531-6095e9413ae0",
   "metadata": {},
   "outputs": [
    {
     "data": {
      "text/plain": [
       "16384"
      ]
     },
     "execution_count": 91,
     "metadata": {},
     "output_type": "execute_result"
    }
   ],
   "source": [
    "np.prod(CFG.hausdoff_distance_measure_size)"
   ]
  },
  {
   "cell_type": "code",
   "execution_count": null,
   "id": "cc1f0aaf-2eb5-4043-b668-d348eb2ffbf7",
   "metadata": {},
   "outputs": [],
   "source": []
  },
  {
   "cell_type": "code",
   "execution_count": 4,
   "id": "c65fd65a-9183-4501-bc93-45f38d342e7f",
   "metadata": {},
   "outputs": [
    {
     "data": {
      "text/plain": [
       "torch.Size([4, 4])"
      ]
     },
     "execution_count": 4,
     "metadata": {},
     "output_type": "execute_result"
    }
   ],
   "source": [
    "a = torch.tensor([[1,2,3,4], [4,5,6,7], [7,8,9,10], [10, 11, 12, 13]])\n",
    "a.shape"
   ]
  },
  {
   "cell_type": "code",
   "execution_count": 5,
   "id": "76e42557-411b-4a22-bc4c-030c3ca85dc7",
   "metadata": {},
   "outputs": [
    {
     "data": {
      "text/plain": [
       "tensor([[ 1,  2,  3,  4],\n",
       "        [ 4,  5,  6,  7],\n",
       "        [ 7,  8,  9, 10],\n",
       "        [10, 11, 12, 13]])"
      ]
     },
     "execution_count": 5,
     "metadata": {},
     "output_type": "execute_result"
    }
   ],
   "source": [
    "a"
   ]
  },
  {
   "cell_type": "code",
   "execution_count": 6,
   "id": "f8f36aa1-acce-43f7-bcf7-584b6c4c4fd9",
   "metadata": {},
   "outputs": [
    {
     "data": {
      "text/plain": [
       "torch.Size([2, 3, 4])"
      ]
     },
     "execution_count": 6,
     "metadata": {},
     "output_type": "execute_result"
    }
   ],
   "source": [
    "b = torch.tensor([[[0,0,0,0,], [0,0,1,1], [1,0,0,0],], [[1,1,1,1], [1,0,0,1], [0,0,0,0],]])\n",
    "b.shape"
   ]
  },
  {
   "cell_type": "code",
   "execution_count": 7,
   "id": "147f5bde-3fb2-4435-b61c-ec5c83b08739",
   "metadata": {},
   "outputs": [
    {
     "data": {
      "text/plain": [
       "torch.Size([2, 3, 4])"
      ]
     },
     "execution_count": 7,
     "metadata": {},
     "output_type": "execute_result"
    }
   ],
   "source": [
    "pred = torch.tensor([[[0,0,0,0,], [0,0,0.9,0.5], [0.8,0,0,0],], [[0.7,0.8,1.0,1.0], [1.0,0,0,0.3], [0,0,0,0],]])\n",
    "pred.shape"
   ]
  },
  {
   "cell_type": "code",
   "execution_count": 8,
   "id": "9ea33245-6f66-46cb-adc9-287f9b29d372",
   "metadata": {},
   "outputs": [
    {
     "data": {
      "text/plain": [
       "tensor([[[0.0000, 0.0000, 0.0000, 0.0000],\n",
       "         [0.0000, 0.0000, 0.9000, 0.5000],\n",
       "         [0.8000, 0.0000, 0.0000, 0.0000]],\n",
       "\n",
       "        [[0.7000, 0.8000, 1.0000, 1.0000],\n",
       "         [1.0000, 0.0000, 0.0000, 0.3000],\n",
       "         [0.0000, 0.0000, 0.0000, 0.0000]]])"
      ]
     },
     "execution_count": 8,
     "metadata": {},
     "output_type": "execute_result"
    }
   ],
   "source": [
    "pred"
   ]
  },
  {
   "cell_type": "code",
   "execution_count": 9,
   "id": "f38280ff-2bf3-4241-b4ba-f76c78a32bc1",
   "metadata": {},
   "outputs": [],
   "source": [
    "pred_unsqueezed = pred.unsqueeze(-2)"
   ]
  },
  {
   "cell_type": "code",
   "execution_count": 10,
   "id": "a18f32da-096d-4017-a9c6-7f7939be81c9",
   "metadata": {},
   "outputs": [
    {
     "data": {
      "text/plain": [
       "torch.Size([2, 3, 1, 4])"
      ]
     },
     "execution_count": 10,
     "metadata": {},
     "output_type": "execute_result"
    }
   ],
   "source": [
    "pred_unsqueezed.shape"
   ]
  },
  {
   "cell_type": "code",
   "execution_count": 11,
   "id": "168b8d76-5680-4170-ae05-4caf5ef6b62e",
   "metadata": {},
   "outputs": [],
   "source": [
    "weighted = pred_unsqueezed * a"
   ]
  },
  {
   "cell_type": "code",
   "execution_count": 12,
   "id": "ed2fc155-eb87-4f88-87ff-9eacbb41f1ed",
   "metadata": {},
   "outputs": [
    {
     "data": {
      "text/plain": [
       "tensor([[[[ 0.0000,  0.0000,  0.0000,  0.0000],\n",
       "          [ 0.0000,  0.0000,  0.0000,  0.0000],\n",
       "          [ 0.0000,  0.0000,  0.0000,  0.0000],\n",
       "          [ 0.0000,  0.0000,  0.0000,  0.0000]],\n",
       "\n",
       "         [[ 0.0000,  0.0000,  2.7000,  2.0000],\n",
       "          [ 0.0000,  0.0000,  5.4000,  3.5000],\n",
       "          [ 0.0000,  0.0000,  8.1000,  5.0000],\n",
       "          [ 0.0000,  0.0000, 10.8000,  6.5000]],\n",
       "\n",
       "         [[ 0.8000,  0.0000,  0.0000,  0.0000],\n",
       "          [ 3.2000,  0.0000,  0.0000,  0.0000],\n",
       "          [ 5.6000,  0.0000,  0.0000,  0.0000],\n",
       "          [ 8.0000,  0.0000,  0.0000,  0.0000]]],\n",
       "\n",
       "\n",
       "        [[[ 0.7000,  1.6000,  3.0000,  4.0000],\n",
       "          [ 2.8000,  4.0000,  6.0000,  7.0000],\n",
       "          [ 4.9000,  6.4000,  9.0000, 10.0000],\n",
       "          [ 7.0000,  8.8000, 12.0000, 13.0000]],\n",
       "\n",
       "         [[ 1.0000,  0.0000,  0.0000,  1.2000],\n",
       "          [ 4.0000,  0.0000,  0.0000,  2.1000],\n",
       "          [ 7.0000,  0.0000,  0.0000,  3.0000],\n",
       "          [10.0000,  0.0000,  0.0000,  3.9000]],\n",
       "\n",
       "         [[ 0.0000,  0.0000,  0.0000,  0.0000],\n",
       "          [ 0.0000,  0.0000,  0.0000,  0.0000],\n",
       "          [ 0.0000,  0.0000,  0.0000,  0.0000],\n",
       "          [ 0.0000,  0.0000,  0.0000,  0.0000]]]])"
      ]
     },
     "execution_count": 12,
     "metadata": {},
     "output_type": "execute_result"
    }
   ],
   "source": [
    "weighted"
   ]
  },
  {
   "cell_type": "code",
   "execution_count": 13,
   "id": "ad258f48-bf91-4dd2-bfec-8ced13cbdcdb",
   "metadata": {},
   "outputs": [],
   "source": [
    "weited_with_max = weighted + ((1 - pred_unsqueezed) * 1000)"
   ]
  },
  {
   "cell_type": "code",
   "execution_count": 14,
   "id": "4d326db3-f608-4062-8d6d-98a43af9eb52",
   "metadata": {},
   "outputs": [
    {
     "data": {
      "text/plain": [
       "torch.Size([2, 3, 4, 4])"
      ]
     },
     "execution_count": 14,
     "metadata": {},
     "output_type": "execute_result"
    }
   ],
   "source": [
    "weited_with_max.shape"
   ]
  },
  {
   "cell_type": "code",
   "execution_count": 15,
   "id": "6737de00-c054-4920-b3f8-4c9816418e85",
   "metadata": {},
   "outputs": [
    {
     "data": {
      "text/plain": [
       "tensor([[[[1000.0000, 1000.0000, 1000.0000, 1000.0000],\n",
       "          [1000.0000, 1000.0000, 1000.0000, 1000.0000],\n",
       "          [1000.0000, 1000.0000, 1000.0000, 1000.0000],\n",
       "          [1000.0000, 1000.0000, 1000.0000, 1000.0000]],\n",
       "\n",
       "         [[1000.0000, 1000.0000,  102.7000,  502.0000],\n",
       "          [1000.0000, 1000.0000,  105.4000,  503.5000],\n",
       "          [1000.0000, 1000.0000,  108.1000,  505.0000],\n",
       "          [1000.0000, 1000.0000,  110.8000,  506.5000]],\n",
       "\n",
       "         [[ 200.8000, 1000.0000, 1000.0000, 1000.0000],\n",
       "          [ 203.2000, 1000.0000, 1000.0000, 1000.0000],\n",
       "          [ 205.6000, 1000.0000, 1000.0000, 1000.0000],\n",
       "          [ 208.0000, 1000.0000, 1000.0000, 1000.0000]]],\n",
       "\n",
       "\n",
       "        [[[ 300.7000,  201.6000,    3.0000,    4.0000],\n",
       "          [ 302.8000,  204.0000,    6.0000,    7.0000],\n",
       "          [ 304.9000,  206.4000,    9.0000,   10.0000],\n",
       "          [ 307.0000,  208.8000,   12.0000,   13.0000]],\n",
       "\n",
       "         [[   1.0000, 1000.0000, 1000.0000,  701.2000],\n",
       "          [   4.0000, 1000.0000, 1000.0000,  702.1000],\n",
       "          [   7.0000, 1000.0000, 1000.0000,  703.0000],\n",
       "          [  10.0000, 1000.0000, 1000.0000,  703.9000]],\n",
       "\n",
       "         [[1000.0000, 1000.0000, 1000.0000, 1000.0000],\n",
       "          [1000.0000, 1000.0000, 1000.0000, 1000.0000],\n",
       "          [1000.0000, 1000.0000, 1000.0000, 1000.0000],\n",
       "          [1000.0000, 1000.0000, 1000.0000, 1000.0000]]]])"
      ]
     },
     "execution_count": 15,
     "metadata": {},
     "output_type": "execute_result"
    }
   ],
   "source": [
    "weited_with_max"
   ]
  },
  {
   "cell_type": "code",
   "execution_count": 16,
   "id": "5b5ca049-f735-427f-a17b-71f9b2f0cd3a",
   "metadata": {},
   "outputs": [
    {
     "data": {
      "text/plain": [
       "tensor([[[1000.0000, 1000.0000, 1000.0000, 1000.0000],\n",
       "         [ 651.1750,  652.2250,  653.2750,  654.3250],\n",
       "         [ 800.2000,  800.8000,  801.4000,  802.0000]],\n",
       "\n",
       "        [[ 127.3250,  129.9500,  132.5750,  135.2000],\n",
       "         [ 675.5500,  676.5250,  677.5000,  678.4750],\n",
       "         [1000.0000, 1000.0000, 1000.0000, 1000.0000]]])"
      ]
     },
     "execution_count": 16,
     "metadata": {},
     "output_type": "execute_result"
    }
   ],
   "source": [
    "torch.mean(weited_with_max, dim=3)"
   ]
  },
  {
   "cell_type": "code",
   "execution_count": 17,
   "id": "3c9a5c6b-df8c-44c0-b772-8ebb8320ec21",
   "metadata": {},
   "outputs": [
    {
     "data": {
      "text/plain": [
       "tensor([[[[0.0010, 0.0010, 0.0010, 0.0010],\n",
       "          [0.0010, 0.0010, 0.0010, 0.0010],\n",
       "          [0.0010, 0.0010, 0.0010, 0.0010],\n",
       "          [0.0010, 0.0010, 0.0010, 0.0010]],\n",
       "\n",
       "         [[0.0010, 0.0010, 0.0097, 0.0020],\n",
       "          [0.0010, 0.0010, 0.0095, 0.0020],\n",
       "          [0.0010, 0.0010, 0.0093, 0.0020],\n",
       "          [0.0010, 0.0010, 0.0090, 0.0020]],\n",
       "\n",
       "         [[0.0050, 0.0010, 0.0010, 0.0010],\n",
       "          [0.0049, 0.0010, 0.0010, 0.0010],\n",
       "          [0.0049, 0.0010, 0.0010, 0.0010],\n",
       "          [0.0048, 0.0010, 0.0010, 0.0010]]],\n",
       "\n",
       "\n",
       "        [[[0.0033, 0.0050, 0.3333, 0.2500],\n",
       "          [0.0033, 0.0049, 0.1667, 0.1429],\n",
       "          [0.0033, 0.0048, 0.1111, 0.1000],\n",
       "          [0.0033, 0.0048, 0.0833, 0.0769]],\n",
       "\n",
       "         [[1.0000, 0.0010, 0.0010, 0.0014],\n",
       "          [0.2500, 0.0010, 0.0010, 0.0014],\n",
       "          [0.1429, 0.0010, 0.0010, 0.0014],\n",
       "          [0.1000, 0.0010, 0.0010, 0.0014]],\n",
       "\n",
       "         [[0.0010, 0.0010, 0.0010, 0.0010],\n",
       "          [0.0010, 0.0010, 0.0010, 0.0010],\n",
       "          [0.0010, 0.0010, 0.0010, 0.0010],\n",
       "          [0.0010, 0.0010, 0.0010, 0.0010]]]])"
      ]
     },
     "execution_count": 17,
     "metadata": {},
     "output_type": "execute_result"
    }
   ],
   "source": [
    "1.0 / weited_with_max"
   ]
  },
  {
   "cell_type": "code",
   "execution_count": 18,
   "id": "e168dd87-c26c-4139-a743-41db30eb9f1c",
   "metadata": {},
   "outputs": [
    {
     "data": {
      "text/plain": [
       "tensor([[[999.9999, 999.9999, 999.9999, 999.9999],\n",
       "         [291.3513, 296.8733, 302.3228, 307.7017],\n",
       "         [501.2481, 504.9701, 508.6590, 512.3152]],\n",
       "\n",
       "        [[  6.7611,  12.5894,  18.2452,  23.7667],\n",
       "         [  3.9863,  15.7838,  27.3449,  38.6770],\n",
       "         [999.9999, 999.9999, 999.9999, 999.9999]]])"
      ]
     },
     "execution_count": 18,
     "metadata": {},
     "output_type": "execute_result"
    }
   ],
   "source": [
    "1.0 / torch.mean(1.0 / weited_with_max, dim=3)"
   ]
  },
  {
   "cell_type": "code",
   "execution_count": 19,
   "id": "0a31bbab-13fc-46d3-abe1-ff8abd195192",
   "metadata": {},
   "outputs": [],
   "source": [
    "general_mean = torch.pow(torch.mean(torch.pow(weited_with_max, -1), dim=3), -1)"
   ]
  },
  {
   "cell_type": "code",
   "execution_count": 20,
   "id": "4283fa1f-c4d8-4735-9a1e-aba8125b1e67",
   "metadata": {},
   "outputs": [
    {
     "data": {
      "text/plain": [
       "tensor([[[0, 0, 0, 0],\n",
       "         [0, 0, 1, 1],\n",
       "         [1, 0, 0, 0]],\n",
       "\n",
       "        [[1, 1, 1, 1],\n",
       "         [1, 0, 0, 1],\n",
       "         [0, 0, 0, 0]]])"
      ]
     },
     "execution_count": 20,
     "metadata": {},
     "output_type": "execute_result"
    }
   ],
   "source": [
    "b"
   ]
  },
  {
   "cell_type": "code",
   "execution_count": 21,
   "id": "fa82b851-8e4a-440a-8dcc-46404defbbd2",
   "metadata": {},
   "outputs": [
    {
     "data": {
      "text/plain": [
       "tensor([[[  0.0000,   0.0000,   0.0000,   0.0000],\n",
       "         [  0.0000,   0.0000, 302.3228, 307.7017],\n",
       "         [501.2481,   0.0000,   0.0000,   0.0000]],\n",
       "\n",
       "        [[  6.7611,  12.5894,  18.2452,  23.7667],\n",
       "         [  3.9863,   0.0000,   0.0000,  38.6770],\n",
       "         [  0.0000,   0.0000,   0.0000,   0.0000]]])"
      ]
     },
     "execution_count": 21,
     "metadata": {},
     "output_type": "execute_result"
    }
   ],
   "source": [
    "general_mean * b"
   ]
  },
  {
   "cell_type": "code",
   "execution_count": 22,
   "id": "af122af4-27e9-4040-a347-af5c2a009a87",
   "metadata": {},
   "outputs": [],
   "source": [
    "ret = torch.sum(general_mean * b, dim=2) / (torch.sum(b, dim=2) + 0.00006)"
   ]
  },
  {
   "cell_type": "code",
   "execution_count": 23,
   "id": "adbe1807-e2ad-4eb3-97f5-f18c9433ee1a",
   "metadata": {},
   "outputs": [
    {
     "data": {
      "text/plain": [
       "tensor([[  0.0000, 305.0031, 501.2180],\n",
       "        [ 15.3404,  21.3310,   0.0000]])"
      ]
     },
     "execution_count": 23,
     "metadata": {},
     "output_type": "execute_result"
    }
   ],
   "source": [
    "ret"
   ]
  },
  {
   "cell_type": "code",
   "execution_count": 24,
   "id": "36b93b1c-f782-4502-ad0b-bd01b93bcc9c",
   "metadata": {},
   "outputs": [],
   "source": [
    "ret = torch.sum(ret)"
   ]
  },
  {
   "cell_type": "code",
   "execution_count": 25,
   "id": "2ac863fc-6d60-4b14-abcf-4f12a83a2797",
   "metadata": {},
   "outputs": [
    {
     "data": {
      "text/plain": [
       "tensor(842.8925)"
      ]
     },
     "execution_count": 25,
     "metadata": {},
     "output_type": "execute_result"
    }
   ],
   "source": [
    "ret"
   ]
  },
  {
   "cell_type": "code",
   "execution_count": 28,
   "id": "5d134391-a97f-43b8-9be5-00b442040743",
   "metadata": {},
   "outputs": [],
   "source": [
    "b = b.unsqueeze(-1)"
   ]
  },
  {
   "cell_type": "code",
   "execution_count": 29,
   "id": "e1f1e1f6-88bc-4170-9381-e804490277a2",
   "metadata": {},
   "outputs": [
    {
     "data": {
      "text/plain": [
       "torch.Size([2, 3, 4, 1])"
      ]
     },
     "execution_count": 29,
     "metadata": {},
     "output_type": "execute_result"
    }
   ],
   "source": [
    "b.shape"
   ]
  },
  {
   "cell_type": "code",
   "execution_count": 30,
   "id": "8bfe33ed-6981-493d-9ebc-fe35204c2010",
   "metadata": {},
   "outputs": [
    {
     "data": {
      "text/plain": [
       "tensor([[[[0],\n",
       "          [0],\n",
       "          [0],\n",
       "          [0]],\n",
       "\n",
       "         [[0],\n",
       "          [0],\n",
       "          [1],\n",
       "          [1]],\n",
       "\n",
       "         [[1],\n",
       "          [0],\n",
       "          [0],\n",
       "          [0]]],\n",
       "\n",
       "\n",
       "        [[[1],\n",
       "          [1],\n",
       "          [1],\n",
       "          [1]],\n",
       "\n",
       "         [[1],\n",
       "          [0],\n",
       "          [0],\n",
       "          [1]],\n",
       "\n",
       "         [[0],\n",
       "          [0],\n",
       "          [0],\n",
       "          [0]]]])"
      ]
     },
     "execution_count": 30,
     "metadata": {},
     "output_type": "execute_result"
    }
   ],
   "source": [
    "b"
   ]
  },
  {
   "cell_type": "code",
   "execution_count": 32,
   "id": "403a6c2c-da19-4e08-8695-0be51c8892c1",
   "metadata": {},
   "outputs": [],
   "source": [
    "masked = a + ( (1.0 - b) * 100)"
   ]
  },
  {
   "cell_type": "code",
   "execution_count": 33,
   "id": "8300df7d-f620-4cef-a864-b2bcc622d718",
   "metadata": {},
   "outputs": [
    {
     "data": {
      "text/plain": [
       "tensor([[[[101., 102., 103., 104.],\n",
       "          [104., 105., 106., 107.],\n",
       "          [107., 108., 109., 110.],\n",
       "          [110., 111., 112., 113.]],\n",
       "\n",
       "         [[101., 102., 103., 104.],\n",
       "          [104., 105., 106., 107.],\n",
       "          [  7.,   8.,   9.,  10.],\n",
       "          [ 10.,  11.,  12.,  13.]],\n",
       "\n",
       "         [[  1.,   2.,   3.,   4.],\n",
       "          [104., 105., 106., 107.],\n",
       "          [107., 108., 109., 110.],\n",
       "          [110., 111., 112., 113.]]],\n",
       "\n",
       "\n",
       "        [[[  1.,   2.,   3.,   4.],\n",
       "          [  4.,   5.,   6.,   7.],\n",
       "          [  7.,   8.,   9.,  10.],\n",
       "          [ 10.,  11.,  12.,  13.]],\n",
       "\n",
       "         [[  1.,   2.,   3.,   4.],\n",
       "          [104., 105., 106., 107.],\n",
       "          [107., 108., 109., 110.],\n",
       "          [ 10.,  11.,  12.,  13.]],\n",
       "\n",
       "         [[101., 102., 103., 104.],\n",
       "          [104., 105., 106., 107.],\n",
       "          [107., 108., 109., 110.],\n",
       "          [110., 111., 112., 113.]]]])"
      ]
     },
     "execution_count": 33,
     "metadata": {},
     "output_type": "execute_result"
    }
   ],
   "source": [
    "masked"
   ]
  },
  {
   "cell_type": "code",
   "execution_count": 37,
   "id": "f74b815c-2609-4866-97f7-2324c832560f",
   "metadata": {},
   "outputs": [],
   "source": [
    "min_dist, _ = torch.min(masked, dim=2)"
   ]
  },
  {
   "cell_type": "code",
   "execution_count": 38,
   "id": "11675abd-b00b-4d08-b9b4-5adb0885959d",
   "metadata": {},
   "outputs": [
    {
     "data": {
      "text/plain": [
       "tensor([[[101., 102., 103., 104.],\n",
       "         [  7.,   8.,   9.,  10.],\n",
       "         [  1.,   2.,   3.,   4.]],\n",
       "\n",
       "        [[  1.,   2.,   3.,   4.],\n",
       "         [  1.,   2.,   3.,   4.],\n",
       "         [101., 102., 103., 104.]]])"
      ]
     },
     "execution_count": 38,
     "metadata": {},
     "output_type": "execute_result"
    }
   ],
   "source": [
    "min_dist"
   ]
  },
  {
   "cell_type": "code",
   "execution_count": 39,
   "id": "078216b4-d8b5-4fd5-aa8b-d207b50a1be9",
   "metadata": {},
   "outputs": [
    {
     "data": {
      "text/plain": [
       "torch.Size([2, 3, 4])"
      ]
     },
     "execution_count": 39,
     "metadata": {},
     "output_type": "execute_result"
    }
   ],
   "source": [
    "min_dist.shape"
   ]
  },
  {
   "cell_type": "code",
   "execution_count": 35,
   "id": "7d49b750-b7c8-49c1-856a-543dc4a3ab77",
   "metadata": {},
   "outputs": [
    {
     "data": {
      "text/plain": [
       "torch.Size([2, 3, 4])"
      ]
     },
     "execution_count": 35,
     "metadata": {},
     "output_type": "execute_result"
    }
   ],
   "source": [
    "pred.shape"
   ]
  },
  {
   "cell_type": "code",
   "execution_count": 36,
   "id": "cfa64797-ef10-448b-a37b-5ad530ff66d5",
   "metadata": {},
   "outputs": [
    {
     "data": {
      "text/plain": [
       "tensor([[[0.0000, 0.0000, 0.0000, 0.0000],\n",
       "         [0.0000, 0.0000, 0.9000, 0.5000],\n",
       "         [0.8000, 0.0000, 0.0000, 0.0000]],\n",
       "\n",
       "        [[0.7000, 0.8000, 1.0000, 1.0000],\n",
       "         [1.0000, 0.0000, 0.0000, 0.3000],\n",
       "         [0.0000, 0.0000, 0.0000, 0.0000]]])"
      ]
     },
     "execution_count": 36,
     "metadata": {},
     "output_type": "execute_result"
    }
   ],
   "source": [
    "pred"
   ]
  },
  {
   "cell_type": "code",
   "execution_count": 40,
   "id": "af64fa66-0159-4740-adf8-8f9ae8ec2b6d",
   "metadata": {},
   "outputs": [
    {
     "data": {
      "text/plain": [
       "tensor([[[0.0000, 0.0000, 0.0000, 0.0000],\n",
       "         [0.0000, 0.0000, 8.1000, 5.0000],\n",
       "         [0.8000, 0.0000, 0.0000, 0.0000]],\n",
       "\n",
       "        [[0.7000, 1.6000, 3.0000, 4.0000],\n",
       "         [1.0000, 0.0000, 0.0000, 1.2000],\n",
       "         [0.0000, 0.0000, 0.0000, 0.0000]]])"
      ]
     },
     "execution_count": 40,
     "metadata": {},
     "output_type": "execute_result"
    }
   ],
   "source": [
    "torch.sum(min_dist * pred, dim=-1)"
   ]
  },
  {
   "cell_type": "code",
   "execution_count": 41,
   "id": "2f0852b8-ab14-41f8-8529-0c78a794c0c9",
   "metadata": {},
   "outputs": [
    {
     "data": {
      "text/plain": [
       "tensor([[ 0.0000, 13.1000,  0.8000],\n",
       "        [ 9.3000,  2.2000,  0.0000]])"
      ]
     },
     "execution_count": 41,
     "metadata": {},
     "output_type": "execute_result"
    }
   ],
   "source": [
    "torch.sum(min_dist * pred, dim=-1)"
   ]
  },
  {
   "cell_type": "code",
   "execution_count": 42,
   "id": "09ef477f-4b60-46b6-992d-a35289cf7391",
   "metadata": {},
   "outputs": [
    {
     "data": {
      "text/plain": [
       "tensor(25.4000)"
      ]
     },
     "execution_count": 42,
     "metadata": {},
     "output_type": "execute_result"
    }
   ],
   "source": [
    "torch.sum(min_dist * pred)"
   ]
  },
  {
   "cell_type": "code",
   "execution_count": 37,
   "id": "0518880c-211a-443b-932e-16e7415e75de",
   "metadata": {},
   "outputs": [
    {
     "data": {
      "text/plain": [
       "torch.Size([2, 3, 4, 4])"
      ]
     },
     "execution_count": 37,
     "metadata": {},
     "output_type": "execute_result"
    }
   ],
   "source": [
    "c.shape"
   ]
  },
  {
   "cell_type": "code",
   "execution_count": 38,
   "id": "12d0f894-7b61-4ad2-b4d2-4358ec4080eb",
   "metadata": {},
   "outputs": [
    {
     "data": {
      "text/plain": [
       "tensor([[[[100.0000, 100.0000, 100.0000, 100.0000],\n",
       "          [100.0000, 100.0000, 100.0000, 100.0000],\n",
       "          [100.0000, 100.0000, 100.0000, 100.0000],\n",
       "          [100.0000, 100.0000, 100.0000, 100.0000]],\n",
       "\n",
       "         [[100.0000, 100.0000, 102.7000, 102.0000],\n",
       "          [100.0000, 100.0000, 105.4000, 103.5000],\n",
       "          [  0.0000,   0.0000,   8.1000,   5.0000],\n",
       "          [  0.0000,   0.0000,  10.8000,   6.5000]],\n",
       "\n",
       "         [[  0.8000,   0.0000,   0.0000,   0.0000],\n",
       "          [103.2000, 100.0000, 100.0000, 100.0000],\n",
       "          [105.6000, 100.0000, 100.0000, 100.0000],\n",
       "          [108.0000, 100.0000, 100.0000, 100.0000]]],\n",
       "\n",
       "\n",
       "        [[[  0.7000,   1.6000,   3.0000,   4.0000],\n",
       "          [  2.8000,   4.0000,   6.0000,   7.0000],\n",
       "          [  4.9000,   6.4000,   9.0000,  10.0000],\n",
       "          [  7.0000,   8.8000,  12.0000,  13.0000]],\n",
       "\n",
       "         [[  1.0000,   0.0000,   0.0000,   1.2000],\n",
       "          [104.0000, 100.0000, 100.0000, 102.1000],\n",
       "          [107.0000, 100.0000, 100.0000, 103.0000],\n",
       "          [ 10.0000,   0.0000,   0.0000,   3.9000]],\n",
       "\n",
       "         [[100.0000, 100.0000, 100.0000, 100.0000],\n",
       "          [100.0000, 100.0000, 100.0000, 100.0000],\n",
       "          [100.0000, 100.0000, 100.0000, 100.0000],\n",
       "          [100.0000, 100.0000, 100.0000, 100.0000]]]])"
      ]
     },
     "execution_count": 38,
     "metadata": {},
     "output_type": "execute_result"
    }
   ],
   "source": [
    "c"
   ]
  },
  {
   "cell_type": "code",
   "execution_count": 39,
   "id": "b1a12228-dfbd-4d48-a75f-13c301202048",
   "metadata": {},
   "outputs": [],
   "source": [
    "min_dist, _ = torch.min(c, dim=2)"
   ]
  },
  {
   "cell_type": "code",
   "execution_count": 40,
   "id": "68b2bf34-7d2b-405f-a86e-3294f9c4e79e",
   "metadata": {},
   "outputs": [
    {
     "data": {
      "text/plain": [
       "tensor([[[100.0000, 100.0000, 100.0000, 100.0000],\n",
       "         [  0.0000,   0.0000,   8.1000,   5.0000],\n",
       "         [  0.8000,   0.0000,   0.0000,   0.0000]],\n",
       "\n",
       "        [[  0.7000,   1.6000,   3.0000,   4.0000],\n",
       "         [  1.0000,   0.0000,   0.0000,   1.2000],\n",
       "         [100.0000, 100.0000, 100.0000, 100.0000]]])"
      ]
     },
     "execution_count": 40,
     "metadata": {},
     "output_type": "execute_result"
    }
   ],
   "source": [
    "min_dist"
   ]
  },
  {
   "cell_type": "code",
   "execution_count": 114,
   "id": "3f321644-bd22-4bbd-83cc-14093e0f3d34",
   "metadata": {},
   "outputs": [
    {
     "data": {
      "text/plain": [
       "torch.Size([2, 3, 4])"
      ]
     },
     "execution_count": 114,
     "metadata": {},
     "output_type": "execute_result"
    }
   ],
   "source": [
    "min_dist.shape"
   ]
  },
  {
   "cell_type": "code",
   "execution_count": 109,
   "id": "d7942f9e-9000-42a4-b6b9-e5fb23c4f2ba",
   "metadata": {},
   "outputs": [],
   "source": []
  },
  {
   "cell_type": "code",
   "execution_count": 110,
   "id": "4225ee99-5ddb-401e-a93d-9eec28dc22ea",
   "metadata": {},
   "outputs": [
    {
     "data": {
      "text/plain": [
       "tensor([[[0.0000, 0.0000, 0.0000, 0.0000],\n",
       "         [0.0000, 0.0000, 0.9000, 0.5000],\n",
       "         [0.8000, 0.0000, 0.0000, 0.0000]],\n",
       "\n",
       "        [[0.7000, 0.8000, 1.0000, 1.0000],\n",
       "         [1.0000, 0.0000, 0.0000, 0.3000],\n",
       "         [0.0000, 0.0000, 0.0000, 0.0000]]])"
      ]
     },
     "execution_count": 110,
     "metadata": {},
     "output_type": "execute_result"
    }
   ],
   "source": [
    "pred"
   ]
  },
  {
   "cell_type": "code",
   "execution_count": 61,
   "id": "7cdc1c50-42ef-4043-a4e0-a78eeb3d2f5b",
   "metadata": {},
   "outputs": [
    {
     "data": {
      "text/plain": [
       "tensor(126.2749)"
      ]
     },
     "execution_count": 61,
     "metadata": {},
     "output_type": "execute_result"
    }
   ],
   "source": [
    "torch.sum(min_dist) / (torch.sum(pred) + 0.0006)"
   ]
  },
  {
   "cell_type": "code",
   "execution_count": 113,
   "id": "f53ba633-a450-48d8-956c-514bbad1f461",
   "metadata": {},
   "outputs": [
    {
     "data": {
      "text/plain": [
       "tensor([[[ 0.0000,  0.0000,  0.0000,  0.0000],\n",
       "         [ 0.0000,  0.0000,  2.7000,  2.0000],\n",
       "         [ 3.2000,  0.0000,  0.0000,  0.0000]],\n",
       "\n",
       "        [[28.7000, 33.6000, 43.0000, 44.0000],\n",
       "         [ 4.0000,  0.0000,  0.0000,  2.1000],\n",
       "         [ 0.0000,  0.0000,  0.0000,  0.0000]]])"
      ]
     },
     "execution_count": 113,
     "metadata": {},
     "output_type": "execute_result"
    }
   ],
   "source": [
    "pred * min_dist"
   ]
  },
  {
   "cell_type": "code",
   "execution_count": 52,
   "id": "e9902588-f26b-4ca0-a16e-2768f4b80256",
   "metadata": {},
   "outputs": [
    {
     "ename": "RuntimeError",
     "evalue": "The size of tensor a (2) must match the size of tensor b (3) at non-singleton dimension 1",
     "output_type": "error",
     "traceback": [
      "\u001b[0;31m---------------------------------------------------------------------------\u001b[0m",
      "\u001b[0;31mRuntimeError\u001b[0m                              Traceback (most recent call last)",
      "Input \u001b[0;32mIn [52]\u001b[0m, in \u001b[0;36m<cell line: 1>\u001b[0;34m()\u001b[0m\n\u001b[0;32m----> 1\u001b[0m \u001b[43mb\u001b[49m\u001b[43m[\u001b[49m\u001b[38;5;241;43m0\u001b[39;49m\u001b[43m]\u001b[49m\u001b[43m \u001b[49m\u001b[38;5;241;43m*\u001b[39;49m\u001b[43m \u001b[49m\u001b[43ma\u001b[49m\n",
      "\u001b[0;31mRuntimeError\u001b[0m: The size of tensor a (2) must match the size of tensor b (3) at non-singleton dimension 1"
     ]
    }
   ],
   "source": [
    "b[0] * a  "
   ]
  },
  {
   "cell_type": "code",
   "execution_count": 19,
   "id": "c57cbe6d-9018-4f73-9c78-f8867847de76",
   "metadata": {},
   "outputs": [
    {
     "ename": "AttributeError",
     "evalue": "module 'numpy' has no attribute 'zeroes'",
     "output_type": "error",
     "traceback": [
      "\u001b[0;31m---------------------------------------------------------------------------\u001b[0m",
      "\u001b[0;31mAttributeError\u001b[0m                            Traceback (most recent call last)",
      "Input \u001b[0;32mIn [19]\u001b[0m, in \u001b[0;36m<cell line: 1>\u001b[0;34m()\u001b[0m\n\u001b[0;32m----> 1\u001b[0m item \u001b[38;5;241m=\u001b[39m \u001b[43mnp\u001b[49m\u001b[38;5;241;43m.\u001b[39;49m\u001b[43mzeroes\u001b[49m((\u001b[38;5;241m10\u001b[39m,\u001b[38;5;241m13\u001b[39m,\u001b[38;5;241m7\u001b[39m))\n",
      "File \u001b[0;32m~/python-virtual-envs/image-seg/lib/python3.10/site-packages/numpy/__init__.py:311\u001b[0m, in \u001b[0;36m__getattr__\u001b[0;34m(attr)\u001b[0m\n\u001b[1;32m    308\u001b[0m     \u001b[38;5;28;01mfrom\u001b[39;00m \u001b[38;5;21;01m.\u001b[39;00m\u001b[38;5;21;01mtesting\u001b[39;00m \u001b[38;5;28;01mimport\u001b[39;00m Tester\n\u001b[1;32m    309\u001b[0m     \u001b[38;5;28;01mreturn\u001b[39;00m Tester\n\u001b[0;32m--> 311\u001b[0m \u001b[38;5;28;01mraise\u001b[39;00m \u001b[38;5;167;01mAttributeError\u001b[39;00m(\u001b[38;5;124m\"\u001b[39m\u001b[38;5;124mmodule \u001b[39m\u001b[38;5;132;01m{!r}\u001b[39;00m\u001b[38;5;124m has no attribute \u001b[39m\u001b[38;5;124m\"\u001b[39m\n\u001b[1;32m    312\u001b[0m                      \u001b[38;5;124m\"\u001b[39m\u001b[38;5;132;01m{!r}\u001b[39;00m\u001b[38;5;124m\"\u001b[39m\u001b[38;5;241m.\u001b[39mformat(\u001b[38;5;18m__name__\u001b[39m, attr))\n",
      "\u001b[0;31mAttributeError\u001b[0m: module 'numpy' has no attribute 'zeroes'"
     ]
    }
   ],
   "source": [
    "item = np.zeros((10,13,7), )"
   ]
  },
  {
   "cell_type": "code",
   "execution_count": 22,
   "id": "465bda3f-050b-4987-846a-31e01d08c1d0",
   "metadata": {},
   "outputs": [
    {
     "name": "stdout",
     "output_type": "stream",
     "text": [
      "index 0, coord - 0, 0, 0\n",
      "index 1, coord - 0, 0, 1\n",
      "(0, 0, 1) (1, 0, 1)\n"
     ]
    }
   ],
   "source": [
    "index_val = 0\n",
    "something_wrong = False\n",
    "for i in range(10):\n",
    "    for j in range(13):\n",
    "        for k in range(7):\n",
    "            \n",
    "            p1_x_val = index_val % 10\n",
    "            p1_y_val = (index_val % (10 * 13)) // 10\n",
    "            p1_z_val = index_val % (10 * 13)\n",
    "            \n",
    "            coord = (i, j, k)\n",
    "            p1 = (p1_x_val, p1_y_val, p1_z_val)\n",
    "            print(f'index {index_val}, coord - {i}, {j}, {k}')\n",
    "            \n",
    "            index_val += 1\n",
    "            if coord != p1:\n",
    "                print(coord, p1)\n",
    "                something_wrong = True\n",
    "            \n",
    "            if something_wrong:\n",
    "                break\n",
    "        if something_wrong:\n",
    "            break\n",
    "                \n",
    "    if something_wrong:\n",
    "        break\n",
    "            \n",
    "\n",
    "            "
   ]
  },
  {
   "cell_type": "code",
   "execution_count": 25,
   "id": "086721da-81f4-4760-8dc9-d86eb2040cb5",
   "metadata": {},
   "outputs": [
    {
     "data": {
      "text/plain": [
       "466"
      ]
     },
     "execution_count": 25,
     "metadata": {},
     "output_type": "execute_result"
    }
   ],
   "source": [
    "gc.collect()"
   ]
  },
  {
   "cell_type": "code",
   "execution_count": 33,
   "id": "b14d08d1-92cc-4083-b81a-524ae3080c20",
   "metadata": {},
   "outputs": [],
   "source": [
    "indices = np.indices((32, 32, 16))"
   ]
  },
  {
   "cell_type": "code",
   "execution_count": 34,
   "id": "515cd351-fc72-42c0-a852-7d5977b282c5",
   "metadata": {},
   "outputs": [
    {
     "data": {
      "text/plain": [
       "(3, 32, 32, 16)"
      ]
     },
     "execution_count": 34,
     "metadata": {},
     "output_type": "execute_result"
    }
   ],
   "source": [
    "indices.shape"
   ]
  },
  {
   "cell_type": "code",
   "execution_count": 35,
   "id": "d0f7642c-781e-48b4-a9bd-a94ff2ad5908",
   "metadata": {},
   "outputs": [
    {
     "data": {
      "text/plain": [
       "(0, 2, 1)"
      ]
     },
     "execution_count": 35,
     "metadata": {},
     "output_type": "execute_result"
    }
   ],
   "source": [
    "indices[0][0][2][1], indices[1][0][2][1], indices[2][0][2][1]"
   ]
  },
  {
   "cell_type": "code",
   "execution_count": 36,
   "id": "2376b80c-6fc0-48a4-a0f0-65d5b3a1375f",
   "metadata": {},
   "outputs": [],
   "source": [
    "indices = indices.reshape(3, -1)"
   ]
  },
  {
   "cell_type": "code",
   "execution_count": 37,
   "id": "81b742dc-683c-4054-94ed-54d9f9e89337",
   "metadata": {},
   "outputs": [],
   "source": [
    "indices_tr = np.transpose(indices)"
   ]
  },
  {
   "cell_type": "code",
   "execution_count": 38,
   "id": "067cee24-d7ba-427c-b799-41530e1ae4ba",
   "metadata": {},
   "outputs": [
    {
     "data": {
      "text/plain": [
       "((16384, 3), (3, 16384))"
      ]
     },
     "execution_count": 38,
     "metadata": {},
     "output_type": "execute_result"
    }
   ],
   "source": [
    "indices_tr.shape, indices.shape"
   ]
  },
  {
   "cell_type": "code",
   "execution_count": 39,
   "id": "f45b4352-1158-4827-a985-23967af04aa6",
   "metadata": {},
   "outputs": [],
   "source": [
    "distances = np.matmul(indices_tr, indices)"
   ]
  },
  {
   "cell_type": "code",
   "execution_count": 40,
   "id": "71401872-9185-4562-9994-72c372fcc5b5",
   "metadata": {},
   "outputs": [
    {
     "data": {
      "text/plain": [
       "(16384, 16384)"
      ]
     },
     "execution_count": 40,
     "metadata": {},
     "output_type": "execute_result"
    }
   ],
   "source": [
    "distances.shape"
   ]
  },
  {
   "cell_type": "code",
   "execution_count": 14,
   "id": "4702b46f-584b-43a4-813d-9c9c4d3424b0",
   "metadata": {},
   "outputs": [
    {
     "data": {
      "text/plain": [
       "tensor(2.3610, grad_fn=<MaxBackward1>)"
      ]
     },
     "execution_count": 14,
     "metadata": {},
     "output_type": "execute_result"
    }
   ],
   "source": [
    "def criterion(y_pred, y_true):\n",
    "    torch.sum(y_pred * y_true) * 2 / (torch.sum(y_pred))\n",
    "    \n",
    "    return "
   ]
  },
  {
   "cell_type": "code",
   "execution_count": null,
   "id": "360a37c3-8684-4a40-86f5-05ccf35bbb0b",
   "metadata": {},
   "outputs": [],
   "source": [
    "def build_model():\n",
    "    model = smp.Unet(\n",
    "        encoder_name=CFG.backbone,      # choose encoder, e.g. mobilenet_v2 or efficientnet-b7\n",
    "        encoder_weights=\"imagenet\",     # use `imagenet` pre-trained weights for encoder initialization\n",
    "        in_channels=3,                  # model input channels (1 for gray-scale images, 3 for RGB, etc.)\n",
    "        classes=CFG.num_classes,        # model output channels (number of classes in your dataset)\n",
    "        activation=None,\n",
    "    )\n",
    "    model.to(CFG.device)\n",
    "    return model\n",
    "\n",
    "def load_model(path):\n",
    "    model = build_model()\n",
    "    model.load_state_dict(torch.load(path))\n",
    "    model.eval()\n",
    "    return model"
   ]
  }
 ],
 "metadata": {
  "kernelspec": {
   "display_name": "Python 3 (ipykernel)",
   "language": "python",
   "name": "python3"
  },
  "language_info": {
   "codemirror_mode": {
    "name": "ipython",
    "version": 3
   },
   "file_extension": ".py",
   "mimetype": "text/x-python",
   "name": "python",
   "nbconvert_exporter": "python",
   "pygments_lexer": "ipython3",
   "version": "3.10.5"
  }
 },
 "nbformat": 4,
 "nbformat_minor": 5
}
