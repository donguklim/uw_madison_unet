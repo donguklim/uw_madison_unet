{
 "cells": [
  {
   "cell_type": "markdown",
   "id": "134a3d94-688a-4a15-9f63-b12f17298ddd",
   "metadata": {},
   "source": [
    "## Goal\n",
    "- Make 2D mask numpy files for each slice\n",
    "- Make 3D mask numpy files for each group of scans"
   ]
  },
  {
   "cell_type": "code",
   "execution_count": null,
   "id": "4662c6dd-a0dd-4080-80ec-52108d31228d",
   "metadata": {},
   "outputs": [],
   "source": [
    "import numpy as np\n",
    "import os\n",
    "import time\n",
    "import glob\n",
    "import cv2\n",
    "import pandas as pd\n",
    "import matplotlib.pyplot as plt\n",
    "from PIL import Image\n",
    "from tqdm.notebook import tqdm\n",
    "import pickle"
   ]
  }
 ],
 "metadata": {
  "kernelspec": {
   "display_name": "Python 3 (ipykernel)",
   "language": "python",
   "name": "python3"
  },
  "language_info": {
   "codemirror_mode": {
    "name": "ipython",
    "version": 3
   },
   "file_extension": ".py",
   "mimetype": "text/x-python",
   "name": "python",
   "nbconvert_exporter": "python",
   "pygments_lexer": "ipython3",
   "version": "3.10.4"
  }
 },
 "nbformat": 4,
 "nbformat_minor": 5
}
